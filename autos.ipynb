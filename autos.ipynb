{
 "cells": [
  {
   "cell_type": "markdown",
   "metadata": {},
   "source": [
    "## Подготовка данных"
   ]
  },
  {
   "cell_type": "markdown",
   "metadata": {},
   "source": [
    "### Загрузка данных"
   ]
  },
  {
   "cell_type": "code",
   "execution_count": 1,
   "metadata": {},
   "outputs": [],
   "source": [
    "import numpy as np\n",
    "import pandas as pd\n",
    "from sklearn.model_selection import train_test_split\n",
    "import matplotlib.pyplot as plt\n",
    "from sklearn.compose import ColumnTransformer\n",
    "from sklearn.preprocessing import OrdinalEncoder, OneHotEncoder, StandardScaler\n",
    "from sklearn.ensemble import RandomForestRegressor\n",
    "from sklearn.dummy import DummyRegressor\n",
    "from lightgbm import LGBMRegressor\n",
    "from sklearn.tree import DecisionTreeRegressor\n",
    "from sklearn.model_selection import RandomizedSearchCV, GridSearchCV\n",
    "from sklearn.pipeline import Pipeline\n",
    "from sklearn.metrics import mean_squared_error\n",
    "from IPython.display import display\n",
    "from time import time\n",
    "import warnings\n",
    "warnings.filterwarnings(\"ignore\")"
   ]
  },
  {
   "cell_type": "code",
   "execution_count": 2,
   "metadata": {},
   "outputs": [],
   "source": [
    "RANDOM_STATE = 42"
   ]
  },
  {
   "cell_type": "code",
   "execution_count": 3,
   "metadata": {},
   "outputs": [
    {
     "data": {
      "text/html": [
       "<div>\n",
       "<style scoped>\n",
       "    .dataframe tbody tr th:only-of-type {\n",
       "        vertical-align: middle;\n",
       "    }\n",
       "\n",
       "    .dataframe tbody tr th {\n",
       "        vertical-align: top;\n",
       "    }\n",
       "\n",
       "    .dataframe thead th {\n",
       "        text-align: right;\n",
       "    }\n",
       "</style>\n",
       "<table border=\"1\" class=\"dataframe\">\n",
       "  <thead>\n",
       "    <tr style=\"text-align: right;\">\n",
       "      <th></th>\n",
       "      <th>DateCrawled</th>\n",
       "      <th>Price</th>\n",
       "      <th>VehicleType</th>\n",
       "      <th>RegistrationYear</th>\n",
       "      <th>Gearbox</th>\n",
       "      <th>Power</th>\n",
       "      <th>Model</th>\n",
       "      <th>Kilometer</th>\n",
       "      <th>RegistrationMonth</th>\n",
       "      <th>FuelType</th>\n",
       "      <th>Brand</th>\n",
       "      <th>Repaired</th>\n",
       "      <th>DateCreated</th>\n",
       "      <th>NumberOfPictures</th>\n",
       "      <th>PostalCode</th>\n",
       "      <th>LastSeen</th>\n",
       "    </tr>\n",
       "  </thead>\n",
       "  <tbody>\n",
       "    <tr>\n",
       "      <th>0</th>\n",
       "      <td>2016-03-24 11:52:17</td>\n",
       "      <td>480</td>\n",
       "      <td>NaN</td>\n",
       "      <td>1993</td>\n",
       "      <td>manual</td>\n",
       "      <td>0</td>\n",
       "      <td>golf</td>\n",
       "      <td>150000</td>\n",
       "      <td>0</td>\n",
       "      <td>petrol</td>\n",
       "      <td>volkswagen</td>\n",
       "      <td>NaN</td>\n",
       "      <td>2016-03-24</td>\n",
       "      <td>0</td>\n",
       "      <td>70435</td>\n",
       "      <td>2016-04-07 03:16:57</td>\n",
       "    </tr>\n",
       "    <tr>\n",
       "      <th>1</th>\n",
       "      <td>2016-03-24 10:58:45</td>\n",
       "      <td>18300</td>\n",
       "      <td>coupe</td>\n",
       "      <td>2011</td>\n",
       "      <td>manual</td>\n",
       "      <td>190</td>\n",
       "      <td>NaN</td>\n",
       "      <td>125000</td>\n",
       "      <td>5</td>\n",
       "      <td>gasoline</td>\n",
       "      <td>audi</td>\n",
       "      <td>yes</td>\n",
       "      <td>2016-03-24</td>\n",
       "      <td>0</td>\n",
       "      <td>66954</td>\n",
       "      <td>2016-04-07 01:46:50</td>\n",
       "    </tr>\n",
       "    <tr>\n",
       "      <th>2</th>\n",
       "      <td>2016-03-14 12:52:21</td>\n",
       "      <td>9800</td>\n",
       "      <td>suv</td>\n",
       "      <td>2004</td>\n",
       "      <td>auto</td>\n",
       "      <td>163</td>\n",
       "      <td>grand</td>\n",
       "      <td>125000</td>\n",
       "      <td>8</td>\n",
       "      <td>gasoline</td>\n",
       "      <td>jeep</td>\n",
       "      <td>NaN</td>\n",
       "      <td>2016-03-14</td>\n",
       "      <td>0</td>\n",
       "      <td>90480</td>\n",
       "      <td>2016-04-05 12:47:46</td>\n",
       "    </tr>\n",
       "    <tr>\n",
       "      <th>3</th>\n",
       "      <td>2016-03-17 16:54:04</td>\n",
       "      <td>1500</td>\n",
       "      <td>small</td>\n",
       "      <td>2001</td>\n",
       "      <td>manual</td>\n",
       "      <td>75</td>\n",
       "      <td>golf</td>\n",
       "      <td>150000</td>\n",
       "      <td>6</td>\n",
       "      <td>petrol</td>\n",
       "      <td>volkswagen</td>\n",
       "      <td>no</td>\n",
       "      <td>2016-03-17</td>\n",
       "      <td>0</td>\n",
       "      <td>91074</td>\n",
       "      <td>2016-03-17 17:40:17</td>\n",
       "    </tr>\n",
       "    <tr>\n",
       "      <th>4</th>\n",
       "      <td>2016-03-31 17:25:20</td>\n",
       "      <td>3600</td>\n",
       "      <td>small</td>\n",
       "      <td>2008</td>\n",
       "      <td>manual</td>\n",
       "      <td>69</td>\n",
       "      <td>fabia</td>\n",
       "      <td>90000</td>\n",
       "      <td>7</td>\n",
       "      <td>gasoline</td>\n",
       "      <td>skoda</td>\n",
       "      <td>no</td>\n",
       "      <td>2016-03-31</td>\n",
       "      <td>0</td>\n",
       "      <td>60437</td>\n",
       "      <td>2016-04-06 10:17:21</td>\n",
       "    </tr>\n",
       "    <tr>\n",
       "      <th>...</th>\n",
       "      <td>...</td>\n",
       "      <td>...</td>\n",
       "      <td>...</td>\n",
       "      <td>...</td>\n",
       "      <td>...</td>\n",
       "      <td>...</td>\n",
       "      <td>...</td>\n",
       "      <td>...</td>\n",
       "      <td>...</td>\n",
       "      <td>...</td>\n",
       "      <td>...</td>\n",
       "      <td>...</td>\n",
       "      <td>...</td>\n",
       "      <td>...</td>\n",
       "      <td>...</td>\n",
       "      <td>...</td>\n",
       "    </tr>\n",
       "    <tr>\n",
       "      <th>354364</th>\n",
       "      <td>2016-03-21 09:50:58</td>\n",
       "      <td>0</td>\n",
       "      <td>NaN</td>\n",
       "      <td>2005</td>\n",
       "      <td>manual</td>\n",
       "      <td>0</td>\n",
       "      <td>colt</td>\n",
       "      <td>150000</td>\n",
       "      <td>7</td>\n",
       "      <td>petrol</td>\n",
       "      <td>mitsubishi</td>\n",
       "      <td>yes</td>\n",
       "      <td>2016-03-21</td>\n",
       "      <td>0</td>\n",
       "      <td>2694</td>\n",
       "      <td>2016-03-21 10:42:49</td>\n",
       "    </tr>\n",
       "    <tr>\n",
       "      <th>354365</th>\n",
       "      <td>2016-03-14 17:48:27</td>\n",
       "      <td>2200</td>\n",
       "      <td>NaN</td>\n",
       "      <td>2005</td>\n",
       "      <td>NaN</td>\n",
       "      <td>0</td>\n",
       "      <td>NaN</td>\n",
       "      <td>20000</td>\n",
       "      <td>1</td>\n",
       "      <td>NaN</td>\n",
       "      <td>sonstige_autos</td>\n",
       "      <td>NaN</td>\n",
       "      <td>2016-03-14</td>\n",
       "      <td>0</td>\n",
       "      <td>39576</td>\n",
       "      <td>2016-04-06 00:46:52</td>\n",
       "    </tr>\n",
       "    <tr>\n",
       "      <th>354366</th>\n",
       "      <td>2016-03-05 19:56:21</td>\n",
       "      <td>1199</td>\n",
       "      <td>convertible</td>\n",
       "      <td>2000</td>\n",
       "      <td>auto</td>\n",
       "      <td>101</td>\n",
       "      <td>fortwo</td>\n",
       "      <td>125000</td>\n",
       "      <td>3</td>\n",
       "      <td>petrol</td>\n",
       "      <td>smart</td>\n",
       "      <td>no</td>\n",
       "      <td>2016-03-05</td>\n",
       "      <td>0</td>\n",
       "      <td>26135</td>\n",
       "      <td>2016-03-11 18:17:12</td>\n",
       "    </tr>\n",
       "    <tr>\n",
       "      <th>354367</th>\n",
       "      <td>2016-03-19 18:57:12</td>\n",
       "      <td>9200</td>\n",
       "      <td>bus</td>\n",
       "      <td>1996</td>\n",
       "      <td>manual</td>\n",
       "      <td>102</td>\n",
       "      <td>transporter</td>\n",
       "      <td>150000</td>\n",
       "      <td>3</td>\n",
       "      <td>gasoline</td>\n",
       "      <td>volkswagen</td>\n",
       "      <td>no</td>\n",
       "      <td>2016-03-19</td>\n",
       "      <td>0</td>\n",
       "      <td>87439</td>\n",
       "      <td>2016-04-07 07:15:26</td>\n",
       "    </tr>\n",
       "    <tr>\n",
       "      <th>354368</th>\n",
       "      <td>2016-03-20 19:41:08</td>\n",
       "      <td>3400</td>\n",
       "      <td>wagon</td>\n",
       "      <td>2002</td>\n",
       "      <td>manual</td>\n",
       "      <td>100</td>\n",
       "      <td>golf</td>\n",
       "      <td>150000</td>\n",
       "      <td>6</td>\n",
       "      <td>gasoline</td>\n",
       "      <td>volkswagen</td>\n",
       "      <td>NaN</td>\n",
       "      <td>2016-03-20</td>\n",
       "      <td>0</td>\n",
       "      <td>40764</td>\n",
       "      <td>2016-03-24 12:45:21</td>\n",
       "    </tr>\n",
       "  </tbody>\n",
       "</table>\n",
       "<p>354369 rows × 16 columns</p>\n",
       "</div>"
      ],
      "text/plain": [
       "               DateCrawled  Price  VehicleType  RegistrationYear Gearbox  \\\n",
       "0      2016-03-24 11:52:17    480          NaN              1993  manual   \n",
       "1      2016-03-24 10:58:45  18300        coupe              2011  manual   \n",
       "2      2016-03-14 12:52:21   9800          suv              2004    auto   \n",
       "3      2016-03-17 16:54:04   1500        small              2001  manual   \n",
       "4      2016-03-31 17:25:20   3600        small              2008  manual   \n",
       "...                    ...    ...          ...               ...     ...   \n",
       "354364 2016-03-21 09:50:58      0          NaN              2005  manual   \n",
       "354365 2016-03-14 17:48:27   2200          NaN              2005     NaN   \n",
       "354366 2016-03-05 19:56:21   1199  convertible              2000    auto   \n",
       "354367 2016-03-19 18:57:12   9200          bus              1996  manual   \n",
       "354368 2016-03-20 19:41:08   3400        wagon              2002  manual   \n",
       "\n",
       "        Power        Model  Kilometer  RegistrationMonth  FuelType  \\\n",
       "0           0         golf     150000                  0    petrol   \n",
       "1         190          NaN     125000                  5  gasoline   \n",
       "2         163        grand     125000                  8  gasoline   \n",
       "3          75         golf     150000                  6    petrol   \n",
       "4          69        fabia      90000                  7  gasoline   \n",
       "...       ...          ...        ...                ...       ...   \n",
       "354364      0         colt     150000                  7    petrol   \n",
       "354365      0          NaN      20000                  1       NaN   \n",
       "354366    101       fortwo     125000                  3    petrol   \n",
       "354367    102  transporter     150000                  3  gasoline   \n",
       "354368    100         golf     150000                  6  gasoline   \n",
       "\n",
       "                 Brand Repaired DateCreated  NumberOfPictures  PostalCode  \\\n",
       "0           volkswagen      NaN  2016-03-24                 0       70435   \n",
       "1                 audi      yes  2016-03-24                 0       66954   \n",
       "2                 jeep      NaN  2016-03-14                 0       90480   \n",
       "3           volkswagen       no  2016-03-17                 0       91074   \n",
       "4                skoda       no  2016-03-31                 0       60437   \n",
       "...                ...      ...         ...               ...         ...   \n",
       "354364      mitsubishi      yes  2016-03-21                 0        2694   \n",
       "354365  sonstige_autos      NaN  2016-03-14                 0       39576   \n",
       "354366           smart       no  2016-03-05                 0       26135   \n",
       "354367      volkswagen       no  2016-03-19                 0       87439   \n",
       "354368      volkswagen      NaN  2016-03-20                 0       40764   \n",
       "\n",
       "                  LastSeen  \n",
       "0      2016-04-07 03:16:57  \n",
       "1      2016-04-07 01:46:50  \n",
       "2      2016-04-05 12:47:46  \n",
       "3      2016-03-17 17:40:17  \n",
       "4      2016-04-06 10:17:21  \n",
       "...                    ...  \n",
       "354364 2016-03-21 10:42:49  \n",
       "354365 2016-04-06 00:46:52  \n",
       "354366 2016-03-11 18:17:12  \n",
       "354367 2016-04-07 07:15:26  \n",
       "354368 2016-03-24 12:45:21  \n",
       "\n",
       "[354369 rows x 16 columns]"
      ]
     },
     "execution_count": 3,
     "metadata": {},
     "output_type": "execute_result"
    }
   ],
   "source": [
    "try:\n",
    "    df = pd.read_csv('/datasets/autos.csv', parse_dates=['DateCrawled', 'DateCreated', 'LastSeen'])\n",
    "except:\n",
    "    df = pd.read_csv('...', parse_dates=['DateCrawled', 'DateCreated', 'LastSeen'])\n",
    "df"
   ]
  },
  {
   "cell_type": "markdown",
   "metadata": {},
   "source": [
    "Дан датасет 354369 записей, 16 признаков. Признаки разных типов (категории, числовые, дата), есть пустые ячейки."
   ]
  },
  {
   "cell_type": "markdown",
   "metadata": {},
   "source": [
    "### Разделение на train/test"
   ]
  },
  {
   "cell_type": "code",
   "execution_count": 4,
   "metadata": {},
   "outputs": [],
   "source": [
    "df_train, df_test =  train_test_split(df, test_size=0.3, random_state=RANDOM_STATE)"
   ]
  },
  {
   "cell_type": "code",
   "execution_count": 5,
   "metadata": {},
   "outputs": [
    {
     "data": {
      "text/html": [
       "<div>\n",
       "<style scoped>\n",
       "    .dataframe tbody tr th:only-of-type {\n",
       "        vertical-align: middle;\n",
       "    }\n",
       "\n",
       "    .dataframe tbody tr th {\n",
       "        vertical-align: top;\n",
       "    }\n",
       "\n",
       "    .dataframe thead th {\n",
       "        text-align: right;\n",
       "    }\n",
       "</style>\n",
       "<table border=\"1\" class=\"dataframe\">\n",
       "  <thead>\n",
       "    <tr style=\"text-align: right;\">\n",
       "      <th></th>\n",
       "      <th>DateCrawled</th>\n",
       "      <th>Price</th>\n",
       "      <th>VehicleType</th>\n",
       "      <th>RegistrationYear</th>\n",
       "      <th>Gearbox</th>\n",
       "      <th>Power</th>\n",
       "      <th>Model</th>\n",
       "      <th>Kilometer</th>\n",
       "      <th>RegistrationMonth</th>\n",
       "      <th>FuelType</th>\n",
       "      <th>Brand</th>\n",
       "      <th>Repaired</th>\n",
       "      <th>DateCreated</th>\n",
       "      <th>NumberOfPictures</th>\n",
       "      <th>PostalCode</th>\n",
       "      <th>LastSeen</th>\n",
       "    </tr>\n",
       "  </thead>\n",
       "  <tbody>\n",
       "    <tr>\n",
       "      <th>246550</th>\n",
       "      <td>2016-03-22 14:53:58</td>\n",
       "      <td>4600</td>\n",
       "      <td>bus</td>\n",
       "      <td>2005</td>\n",
       "      <td>manual</td>\n",
       "      <td>105</td>\n",
       "      <td>caddy</td>\n",
       "      <td>150000</td>\n",
       "      <td>4</td>\n",
       "      <td>gasoline</td>\n",
       "      <td>volkswagen</td>\n",
       "      <td>no</td>\n",
       "      <td>2016-03-22</td>\n",
       "      <td>0</td>\n",
       "      <td>38228</td>\n",
       "      <td>2016-03-22 14:53:58</td>\n",
       "    </tr>\n",
       "    <tr>\n",
       "      <th>113274</th>\n",
       "      <td>2016-03-14 16:51:26</td>\n",
       "      <td>5300</td>\n",
       "      <td>small</td>\n",
       "      <td>2002</td>\n",
       "      <td>manual</td>\n",
       "      <td>116</td>\n",
       "      <td>cooper</td>\n",
       "      <td>125000</td>\n",
       "      <td>4</td>\n",
       "      <td>petrol</td>\n",
       "      <td>mini</td>\n",
       "      <td>no</td>\n",
       "      <td>2016-03-14</td>\n",
       "      <td>0</td>\n",
       "      <td>86420</td>\n",
       "      <td>2016-03-14 16:51:26</td>\n",
       "    </tr>\n",
       "    <tr>\n",
       "      <th>35527</th>\n",
       "      <td>2016-03-05 14:27:16</td>\n",
       "      <td>4990</td>\n",
       "      <td>coupe</td>\n",
       "      <td>2002</td>\n",
       "      <td>manual</td>\n",
       "      <td>170</td>\n",
       "      <td>3er</td>\n",
       "      <td>125000</td>\n",
       "      <td>2</td>\n",
       "      <td>petrol</td>\n",
       "      <td>bmw</td>\n",
       "      <td>no</td>\n",
       "      <td>2016-03-05</td>\n",
       "      <td>0</td>\n",
       "      <td>65185</td>\n",
       "      <td>2016-03-25 11:49:19</td>\n",
       "    </tr>\n",
       "    <tr>\n",
       "      <th>321785</th>\n",
       "      <td>2016-03-19 21:55:27</td>\n",
       "      <td>6499</td>\n",
       "      <td>small</td>\n",
       "      <td>2009</td>\n",
       "      <td>manual</td>\n",
       "      <td>155</td>\n",
       "      <td>other</td>\n",
       "      <td>80000</td>\n",
       "      <td>10</td>\n",
       "      <td>petrol</td>\n",
       "      <td>alfa_romeo</td>\n",
       "      <td>NaN</td>\n",
       "      <td>2016-03-19</td>\n",
       "      <td>0</td>\n",
       "      <td>71384</td>\n",
       "      <td>2016-04-05 11:18:08</td>\n",
       "    </tr>\n",
       "    <tr>\n",
       "      <th>115179</th>\n",
       "      <td>2016-03-10 13:54:26</td>\n",
       "      <td>1400</td>\n",
       "      <td>sedan</td>\n",
       "      <td>1999</td>\n",
       "      <td>manual</td>\n",
       "      <td>75</td>\n",
       "      <td>golf</td>\n",
       "      <td>150000</td>\n",
       "      <td>7</td>\n",
       "      <td>petrol</td>\n",
       "      <td>volkswagen</td>\n",
       "      <td>no</td>\n",
       "      <td>2016-03-10</td>\n",
       "      <td>0</td>\n",
       "      <td>97922</td>\n",
       "      <td>2016-03-14 10:46:11</td>\n",
       "    </tr>\n",
       "    <tr>\n",
       "      <th>...</th>\n",
       "      <td>...</td>\n",
       "      <td>...</td>\n",
       "      <td>...</td>\n",
       "      <td>...</td>\n",
       "      <td>...</td>\n",
       "      <td>...</td>\n",
       "      <td>...</td>\n",
       "      <td>...</td>\n",
       "      <td>...</td>\n",
       "      <td>...</td>\n",
       "      <td>...</td>\n",
       "      <td>...</td>\n",
       "      <td>...</td>\n",
       "      <td>...</td>\n",
       "      <td>...</td>\n",
       "      <td>...</td>\n",
       "    </tr>\n",
       "    <tr>\n",
       "      <th>119879</th>\n",
       "      <td>2016-03-20 13:42:09</td>\n",
       "      <td>200</td>\n",
       "      <td>small</td>\n",
       "      <td>1998</td>\n",
       "      <td>manual</td>\n",
       "      <td>50</td>\n",
       "      <td>polo</td>\n",
       "      <td>150000</td>\n",
       "      <td>10</td>\n",
       "      <td>petrol</td>\n",
       "      <td>volkswagen</td>\n",
       "      <td>yes</td>\n",
       "      <td>2016-03-20</td>\n",
       "      <td>0</td>\n",
       "      <td>35099</td>\n",
       "      <td>2016-04-06 14:44:24</td>\n",
       "    </tr>\n",
       "    <tr>\n",
       "      <th>259178</th>\n",
       "      <td>2016-04-02 00:47:21</td>\n",
       "      <td>4690</td>\n",
       "      <td>NaN</td>\n",
       "      <td>2017</td>\n",
       "      <td>manual</td>\n",
       "      <td>105</td>\n",
       "      <td>astra</td>\n",
       "      <td>125000</td>\n",
       "      <td>8</td>\n",
       "      <td>petrol</td>\n",
       "      <td>opel</td>\n",
       "      <td>no</td>\n",
       "      <td>2016-04-01</td>\n",
       "      <td>0</td>\n",
       "      <td>9526</td>\n",
       "      <td>2016-04-06 04:16:31</td>\n",
       "    </tr>\n",
       "    <tr>\n",
       "      <th>131932</th>\n",
       "      <td>2016-03-27 17:52:44</td>\n",
       "      <td>12525</td>\n",
       "      <td>sedan</td>\n",
       "      <td>2004</td>\n",
       "      <td>manual</td>\n",
       "      <td>192</td>\n",
       "      <td>5er</td>\n",
       "      <td>150000</td>\n",
       "      <td>6</td>\n",
       "      <td>petrol</td>\n",
       "      <td>bmw</td>\n",
       "      <td>no</td>\n",
       "      <td>2016-03-27</td>\n",
       "      <td>0</td>\n",
       "      <td>90530</td>\n",
       "      <td>2016-04-05 14:16:22</td>\n",
       "    </tr>\n",
       "    <tr>\n",
       "      <th>146867</th>\n",
       "      <td>2016-03-22 05:36:17</td>\n",
       "      <td>4444</td>\n",
       "      <td>sedan</td>\n",
       "      <td>2004</td>\n",
       "      <td>manual</td>\n",
       "      <td>150</td>\n",
       "      <td>3er</td>\n",
       "      <td>150000</td>\n",
       "      <td>2</td>\n",
       "      <td>gasoline</td>\n",
       "      <td>bmw</td>\n",
       "      <td>no</td>\n",
       "      <td>2016-03-22</td>\n",
       "      <td>0</td>\n",
       "      <td>51069</td>\n",
       "      <td>2016-03-22 08:46:23</td>\n",
       "    </tr>\n",
       "    <tr>\n",
       "      <th>121958</th>\n",
       "      <td>2016-03-18 23:06:16</td>\n",
       "      <td>9999</td>\n",
       "      <td>small</td>\n",
       "      <td>2014</td>\n",
       "      <td>manual</td>\n",
       "      <td>69</td>\n",
       "      <td>500</td>\n",
       "      <td>30000</td>\n",
       "      <td>11</td>\n",
       "      <td>petrol</td>\n",
       "      <td>fiat</td>\n",
       "      <td>no</td>\n",
       "      <td>2016-03-18</td>\n",
       "      <td>0</td>\n",
       "      <td>56321</td>\n",
       "      <td>2016-04-06 19:45:11</td>\n",
       "    </tr>\n",
       "  </tbody>\n",
       "</table>\n",
       "<p>248058 rows × 16 columns</p>\n",
       "</div>"
      ],
      "text/plain": [
       "               DateCrawled  Price VehicleType  RegistrationYear Gearbox  \\\n",
       "246550 2016-03-22 14:53:58   4600         bus              2005  manual   \n",
       "113274 2016-03-14 16:51:26   5300       small              2002  manual   \n",
       "35527  2016-03-05 14:27:16   4990       coupe              2002  manual   \n",
       "321785 2016-03-19 21:55:27   6499       small              2009  manual   \n",
       "115179 2016-03-10 13:54:26   1400       sedan              1999  manual   \n",
       "...                    ...    ...         ...               ...     ...   \n",
       "119879 2016-03-20 13:42:09    200       small              1998  manual   \n",
       "259178 2016-04-02 00:47:21   4690         NaN              2017  manual   \n",
       "131932 2016-03-27 17:52:44  12525       sedan              2004  manual   \n",
       "146867 2016-03-22 05:36:17   4444       sedan              2004  manual   \n",
       "121958 2016-03-18 23:06:16   9999       small              2014  manual   \n",
       "\n",
       "        Power   Model  Kilometer  RegistrationMonth  FuelType       Brand  \\\n",
       "246550    105   caddy     150000                  4  gasoline  volkswagen   \n",
       "113274    116  cooper     125000                  4    petrol        mini   \n",
       "35527     170     3er     125000                  2    petrol         bmw   \n",
       "321785    155   other      80000                 10    petrol  alfa_romeo   \n",
       "115179     75    golf     150000                  7    petrol  volkswagen   \n",
       "...       ...     ...        ...                ...       ...         ...   \n",
       "119879     50    polo     150000                 10    petrol  volkswagen   \n",
       "259178    105   astra     125000                  8    petrol        opel   \n",
       "131932    192     5er     150000                  6    petrol         bmw   \n",
       "146867    150     3er     150000                  2  gasoline         bmw   \n",
       "121958     69     500      30000                 11    petrol        fiat   \n",
       "\n",
       "       Repaired DateCreated  NumberOfPictures  PostalCode            LastSeen  \n",
       "246550       no  2016-03-22                 0       38228 2016-03-22 14:53:58  \n",
       "113274       no  2016-03-14                 0       86420 2016-03-14 16:51:26  \n",
       "35527        no  2016-03-05                 0       65185 2016-03-25 11:49:19  \n",
       "321785      NaN  2016-03-19                 0       71384 2016-04-05 11:18:08  \n",
       "115179       no  2016-03-10                 0       97922 2016-03-14 10:46:11  \n",
       "...         ...         ...               ...         ...                 ...  \n",
       "119879      yes  2016-03-20                 0       35099 2016-04-06 14:44:24  \n",
       "259178       no  2016-04-01                 0        9526 2016-04-06 04:16:31  \n",
       "131932       no  2016-03-27                 0       90530 2016-04-05 14:16:22  \n",
       "146867       no  2016-03-22                 0       51069 2016-03-22 08:46:23  \n",
       "121958       no  2016-03-18                 0       56321 2016-04-06 19:45:11  \n",
       "\n",
       "[248058 rows x 16 columns]"
      ]
     },
     "execution_count": 5,
     "metadata": {},
     "output_type": "execute_result"
    }
   ],
   "source": [
    "df_train"
   ]
  },
  {
   "cell_type": "code",
   "execution_count": 6,
   "metadata": {},
   "outputs": [
    {
     "data": {
      "text/html": [
       "<div>\n",
       "<style scoped>\n",
       "    .dataframe tbody tr th:only-of-type {\n",
       "        vertical-align: middle;\n",
       "    }\n",
       "\n",
       "    .dataframe tbody tr th {\n",
       "        vertical-align: top;\n",
       "    }\n",
       "\n",
       "    .dataframe thead th {\n",
       "        text-align: right;\n",
       "    }\n",
       "</style>\n",
       "<table border=\"1\" class=\"dataframe\">\n",
       "  <thead>\n",
       "    <tr style=\"text-align: right;\">\n",
       "      <th></th>\n",
       "      <th>DateCrawled</th>\n",
       "      <th>Price</th>\n",
       "      <th>VehicleType</th>\n",
       "      <th>RegistrationYear</th>\n",
       "      <th>Gearbox</th>\n",
       "      <th>Power</th>\n",
       "      <th>Model</th>\n",
       "      <th>Kilometer</th>\n",
       "      <th>RegistrationMonth</th>\n",
       "      <th>FuelType</th>\n",
       "      <th>Brand</th>\n",
       "      <th>Repaired</th>\n",
       "      <th>DateCreated</th>\n",
       "      <th>NumberOfPictures</th>\n",
       "      <th>PostalCode</th>\n",
       "      <th>LastSeen</th>\n",
       "    </tr>\n",
       "  </thead>\n",
       "  <tbody>\n",
       "    <tr>\n",
       "      <th>294049</th>\n",
       "      <td>2016-03-20 20:54:33</td>\n",
       "      <td>19999</td>\n",
       "      <td>wagon</td>\n",
       "      <td>2014</td>\n",
       "      <td>manual</td>\n",
       "      <td>122</td>\n",
       "      <td>leon</td>\n",
       "      <td>30000</td>\n",
       "      <td>3</td>\n",
       "      <td>petrol</td>\n",
       "      <td>seat</td>\n",
       "      <td>no</td>\n",
       "      <td>2016-03-20</td>\n",
       "      <td>0</td>\n",
       "      <td>22089</td>\n",
       "      <td>2016-03-27 10:47:13</td>\n",
       "    </tr>\n",
       "    <tr>\n",
       "      <th>76415</th>\n",
       "      <td>2016-03-25 12:56:02</td>\n",
       "      <td>14250</td>\n",
       "      <td>wagon</td>\n",
       "      <td>2011</td>\n",
       "      <td>manual</td>\n",
       "      <td>140</td>\n",
       "      <td>a3</td>\n",
       "      <td>70000</td>\n",
       "      <td>6</td>\n",
       "      <td>gasoline</td>\n",
       "      <td>audi</td>\n",
       "      <td>NaN</td>\n",
       "      <td>2016-03-25</td>\n",
       "      <td>0</td>\n",
       "      <td>45770</td>\n",
       "      <td>2016-03-29 11:48:26</td>\n",
       "    </tr>\n",
       "    <tr>\n",
       "      <th>212563</th>\n",
       "      <td>2016-03-09 13:46:02</td>\n",
       "      <td>2850</td>\n",
       "      <td>wagon</td>\n",
       "      <td>2001</td>\n",
       "      <td>manual</td>\n",
       "      <td>131</td>\n",
       "      <td>passat</td>\n",
       "      <td>150000</td>\n",
       "      <td>9</td>\n",
       "      <td>gasoline</td>\n",
       "      <td>volkswagen</td>\n",
       "      <td>no</td>\n",
       "      <td>2016-03-09</td>\n",
       "      <td>0</td>\n",
       "      <td>38259</td>\n",
       "      <td>2016-03-12 11:16:57</td>\n",
       "    </tr>\n",
       "    <tr>\n",
       "      <th>109307</th>\n",
       "      <td>2016-03-30 11:39:47</td>\n",
       "      <td>50</td>\n",
       "      <td>small</td>\n",
       "      <td>1996</td>\n",
       "      <td>manual</td>\n",
       "      <td>60</td>\n",
       "      <td>corsa</td>\n",
       "      <td>150000</td>\n",
       "      <td>8</td>\n",
       "      <td>petrol</td>\n",
       "      <td>opel</td>\n",
       "      <td>yes</td>\n",
       "      <td>2016-03-30</td>\n",
       "      <td>0</td>\n",
       "      <td>7957</td>\n",
       "      <td>2016-04-03 00:46:29</td>\n",
       "    </tr>\n",
       "    <tr>\n",
       "      <th>248545</th>\n",
       "      <td>2016-03-28 23:37:54</td>\n",
       "      <td>500</td>\n",
       "      <td>NaN</td>\n",
       "      <td>2016</td>\n",
       "      <td>manual</td>\n",
       "      <td>82</td>\n",
       "      <td>a_klasse</td>\n",
       "      <td>150000</td>\n",
       "      <td>2</td>\n",
       "      <td>petrol</td>\n",
       "      <td>mercedes_benz</td>\n",
       "      <td>NaN</td>\n",
       "      <td>2016-03-28</td>\n",
       "      <td>0</td>\n",
       "      <td>49356</td>\n",
       "      <td>2016-03-30 23:17:28</td>\n",
       "    </tr>\n",
       "    <tr>\n",
       "      <th>...</th>\n",
       "      <td>...</td>\n",
       "      <td>...</td>\n",
       "      <td>...</td>\n",
       "      <td>...</td>\n",
       "      <td>...</td>\n",
       "      <td>...</td>\n",
       "      <td>...</td>\n",
       "      <td>...</td>\n",
       "      <td>...</td>\n",
       "      <td>...</td>\n",
       "      <td>...</td>\n",
       "      <td>...</td>\n",
       "      <td>...</td>\n",
       "      <td>...</td>\n",
       "      <td>...</td>\n",
       "      <td>...</td>\n",
       "    </tr>\n",
       "    <tr>\n",
       "      <th>254129</th>\n",
       "      <td>2016-03-13 11:38:50</td>\n",
       "      <td>5950</td>\n",
       "      <td>wagon</td>\n",
       "      <td>2008</td>\n",
       "      <td>manual</td>\n",
       "      <td>120</td>\n",
       "      <td>3_reihe</td>\n",
       "      <td>100000</td>\n",
       "      <td>9</td>\n",
       "      <td>petrol</td>\n",
       "      <td>peugeot</td>\n",
       "      <td>no</td>\n",
       "      <td>2016-03-13</td>\n",
       "      <td>0</td>\n",
       "      <td>65719</td>\n",
       "      <td>2016-03-27 21:45:21</td>\n",
       "    </tr>\n",
       "    <tr>\n",
       "      <th>185667</th>\n",
       "      <td>2016-03-26 10:54:22</td>\n",
       "      <td>1600</td>\n",
       "      <td>bus</td>\n",
       "      <td>2000</td>\n",
       "      <td>manual</td>\n",
       "      <td>116</td>\n",
       "      <td>alhambra</td>\n",
       "      <td>150000</td>\n",
       "      <td>4</td>\n",
       "      <td>petrol</td>\n",
       "      <td>seat</td>\n",
       "      <td>no</td>\n",
       "      <td>2016-03-26</td>\n",
       "      <td>0</td>\n",
       "      <td>38440</td>\n",
       "      <td>2016-04-05 22:16:04</td>\n",
       "    </tr>\n",
       "    <tr>\n",
       "      <th>58518</th>\n",
       "      <td>2016-03-11 18:25:26</td>\n",
       "      <td>2550</td>\n",
       "      <td>wagon</td>\n",
       "      <td>2003</td>\n",
       "      <td>NaN</td>\n",
       "      <td>0</td>\n",
       "      <td>sharan</td>\n",
       "      <td>150000</td>\n",
       "      <td>7</td>\n",
       "      <td>gasoline</td>\n",
       "      <td>volkswagen</td>\n",
       "      <td>NaN</td>\n",
       "      <td>2016-03-11</td>\n",
       "      <td>0</td>\n",
       "      <td>60314</td>\n",
       "      <td>2016-03-11 18:48:11</td>\n",
       "    </tr>\n",
       "    <tr>\n",
       "      <th>54137</th>\n",
       "      <td>2016-04-03 10:53:49</td>\n",
       "      <td>1900</td>\n",
       "      <td>wagon</td>\n",
       "      <td>2003</td>\n",
       "      <td>manual</td>\n",
       "      <td>120</td>\n",
       "      <td>laguna</td>\n",
       "      <td>150000</td>\n",
       "      <td>11</td>\n",
       "      <td>petrol</td>\n",
       "      <td>renault</td>\n",
       "      <td>no</td>\n",
       "      <td>2016-04-03</td>\n",
       "      <td>0</td>\n",
       "      <td>99897</td>\n",
       "      <td>2016-04-07 11:46:31</td>\n",
       "    </tr>\n",
       "    <tr>\n",
       "      <th>177556</th>\n",
       "      <td>2016-03-19 15:52:37</td>\n",
       "      <td>1250</td>\n",
       "      <td>wagon</td>\n",
       "      <td>1998</td>\n",
       "      <td>manual</td>\n",
       "      <td>136</td>\n",
       "      <td>astra</td>\n",
       "      <td>150000</td>\n",
       "      <td>10</td>\n",
       "      <td>petrol</td>\n",
       "      <td>opel</td>\n",
       "      <td>NaN</td>\n",
       "      <td>2016-03-19</td>\n",
       "      <td>0</td>\n",
       "      <td>34454</td>\n",
       "      <td>2016-03-30 10:18:25</td>\n",
       "    </tr>\n",
       "  </tbody>\n",
       "</table>\n",
       "<p>106311 rows × 16 columns</p>\n",
       "</div>"
      ],
      "text/plain": [
       "               DateCrawled  Price VehicleType  RegistrationYear Gearbox  \\\n",
       "294049 2016-03-20 20:54:33  19999       wagon              2014  manual   \n",
       "76415  2016-03-25 12:56:02  14250       wagon              2011  manual   \n",
       "212563 2016-03-09 13:46:02   2850       wagon              2001  manual   \n",
       "109307 2016-03-30 11:39:47     50       small              1996  manual   \n",
       "248545 2016-03-28 23:37:54    500         NaN              2016  manual   \n",
       "...                    ...    ...         ...               ...     ...   \n",
       "254129 2016-03-13 11:38:50   5950       wagon              2008  manual   \n",
       "185667 2016-03-26 10:54:22   1600         bus              2000  manual   \n",
       "58518  2016-03-11 18:25:26   2550       wagon              2003     NaN   \n",
       "54137  2016-04-03 10:53:49   1900       wagon              2003  manual   \n",
       "177556 2016-03-19 15:52:37   1250       wagon              1998  manual   \n",
       "\n",
       "        Power     Model  Kilometer  RegistrationMonth  FuelType  \\\n",
       "294049    122      leon      30000                  3    petrol   \n",
       "76415     140        a3      70000                  6  gasoline   \n",
       "212563    131    passat     150000                  9  gasoline   \n",
       "109307     60     corsa     150000                  8    petrol   \n",
       "248545     82  a_klasse     150000                  2    petrol   \n",
       "...       ...       ...        ...                ...       ...   \n",
       "254129    120   3_reihe     100000                  9    petrol   \n",
       "185667    116  alhambra     150000                  4    petrol   \n",
       "58518       0    sharan     150000                  7  gasoline   \n",
       "54137     120    laguna     150000                 11    petrol   \n",
       "177556    136     astra     150000                 10    petrol   \n",
       "\n",
       "                Brand Repaired DateCreated  NumberOfPictures  PostalCode  \\\n",
       "294049           seat       no  2016-03-20                 0       22089   \n",
       "76415            audi      NaN  2016-03-25                 0       45770   \n",
       "212563     volkswagen       no  2016-03-09                 0       38259   \n",
       "109307           opel      yes  2016-03-30                 0        7957   \n",
       "248545  mercedes_benz      NaN  2016-03-28                 0       49356   \n",
       "...               ...      ...         ...               ...         ...   \n",
       "254129        peugeot       no  2016-03-13                 0       65719   \n",
       "185667           seat       no  2016-03-26                 0       38440   \n",
       "58518      volkswagen      NaN  2016-03-11                 0       60314   \n",
       "54137         renault       no  2016-04-03                 0       99897   \n",
       "177556           opel      NaN  2016-03-19                 0       34454   \n",
       "\n",
       "                  LastSeen  \n",
       "294049 2016-03-27 10:47:13  \n",
       "76415  2016-03-29 11:48:26  \n",
       "212563 2016-03-12 11:16:57  \n",
       "109307 2016-04-03 00:46:29  \n",
       "248545 2016-03-30 23:17:28  \n",
       "...                    ...  \n",
       "254129 2016-03-27 21:45:21  \n",
       "185667 2016-04-05 22:16:04  \n",
       "58518  2016-03-11 18:48:11  \n",
       "54137  2016-04-07 11:46:31  \n",
       "177556 2016-03-30 10:18:25  \n",
       "\n",
       "[106311 rows x 16 columns]"
      ]
     },
     "execution_count": 6,
     "metadata": {},
     "output_type": "execute_result"
    }
   ],
   "source": [
    "df_test"
   ]
  },
  {
   "cell_type": "code",
   "execution_count": 7,
   "metadata": {},
   "outputs": [
    {
     "data": {
      "image/png": "[encoded data removed]",
      "text/plain": [
       "<Figure size 900x600 with 1 Axes>"
      ]
     },
     "metadata": {},
     "output_type": "display_data"
    }
   ],
   "source": [
    "df_train['Price'].plot.kde(figsize=(9, 6), title='Распределение значений таргета для обучающей выборки');"
   ]
  },
  {
   "cell_type": "code",
   "execution_count": 8,
   "metadata": {},
   "outputs": [
    {
     "data": {
      "image/png": "[encoded data removed]",
      "text/plain": [
       "<Figure size 900x600 with 1 Axes>"
      ]
     },
     "metadata": {},
     "output_type": "display_data"
    }
   ],
   "source": [
    "df_test['Price'].plot.kde(figsize=(9, 6), title='Распределение значений таргета для тестовой выборки');"
   ]
  },
  {
   "cell_type": "markdown",
   "metadata": {},
   "source": [
    "Разделила данные случайным образом на обучающую и тестовую выборки в соотношении 70 на 30. По графикам распределений таргета для обучащей и тестовой выборок видно, что таргеты для двух выборок распределены похожим образом."
   ]
  },
  {
   "cell_type": "markdown",
   "metadata": {},
   "source": [
    "Далее буду проводить анализ только обучающих данных, чтобы не допустить влияние тестовых данных на обучения моделей."
   ]
  },
  {
   "cell_type": "markdown",
   "metadata": {},
   "source": [
    "### Анализ обучающей выборки"
   ]
  },
  {
   "cell_type": "markdown",
   "metadata": {},
   "source": [
    "Признаки:\n",
    "\n",
    "DateCrawled — дата скачивания анкеты из базы\n",
    "\n",
    "VehicleType — тип автомобильного кузова\n",
    "\n",
    "RegistrationYear — год регистрации автомобиля\n",
    "\n",
    "Gearbox — тип коробки передач\n",
    "\n",
    "Power — мощность (л. с.)\n",
    "\n",
    "Model — модель автомобиля\n",
    "\n",
    "Kilometer — пробег (км)\n",
    "\n",
    "RegistrationMonth — месяц регистрации автомобиля\n",
    "\n",
    "FuelType — тип топлива\n",
    "\n",
    "Brand — марка автомобиля\n",
    "\n",
    "Repaired — была машина в ремонте или нет\n",
    "\n",
    "DateCreated — дата создания анкеты\n",
    "\n",
    "NumberOfPictures — количество фотографий автомобиля\n",
    "\n",
    "PostalCode — почтовый индекс владельца анкеты (пользователя)\n",
    "\n",
    "LastSeen — дата последней активности пользователя\n",
    "\n",
    "Целевой признак:\n",
    "\n",
    "Price — цена (евро)"
   ]
  },
  {
   "cell_type": "markdown",
   "metadata": {},
   "source": [
    "#### Удаление дубликатов"
   ]
  },
  {
   "cell_type": "code",
   "execution_count": 9,
   "metadata": {},
   "outputs": [
    {
     "data": {
      "text/plain": [
       "2"
      ]
     },
     "execution_count": 9,
     "metadata": {},
     "output_type": "execute_result"
    }
   ],
   "source": [
    "df_train.duplicated().sum()"
   ]
  },
  {
   "cell_type": "code",
   "execution_count": 10,
   "metadata": {},
   "outputs": [
    {
     "data": {
      "text/plain": [
       "(248058, 16)"
      ]
     },
     "execution_count": 10,
     "metadata": {},
     "output_type": "execute_result"
    }
   ],
   "source": [
    "df_train.shape"
   ]
  },
  {
   "cell_type": "code",
   "execution_count": 11,
   "metadata": {},
   "outputs": [],
   "source": [
    "df_train = df_train.drop_duplicates()"
   ]
  },
  {
   "cell_type": "code",
   "execution_count": 12,
   "metadata": {},
   "outputs": [
    {
     "data": {
      "text/plain": [
       "(248056, 16)"
      ]
     },
     "execution_count": 12,
     "metadata": {},
     "output_type": "execute_result"
    }
   ],
   "source": [
    "df_train.shape"
   ]
  },
  {
   "cell_type": "raw",
   "metadata": {},
   "source": [
    "Удалила два явных дубликата."
   ]
  },
  {
   "cell_type": "markdown",
   "metadata": {},
   "source": [
    "#### Анализ колонок"
   ]
  },
  {
   "cell_type": "code",
   "execution_count": 13,
   "metadata": {},
   "outputs": [
    {
     "name": "stdout",
     "output_type": "stream",
     "text": [
      "<class 'pandas.core.frame.DataFrame'>\n",
      "Int64Index: 248056 entries, 246550 to 121958\n",
      "Data columns (total 16 columns):\n",
      " #   Column             Non-Null Count   Dtype         \n",
      "---  ------             --------------   -----         \n",
      " 0   DateCrawled        248056 non-null  datetime64[ns]\n",
      " 1   Price              248056 non-null  int64         \n",
      " 2   VehicleType        221825 non-null  object        \n",
      " 3   RegistrationYear   248056 non-null  int64         \n",
      " 4   Gearbox            234114 non-null  object        \n",
      " 5   Power              248056 non-null  int64         \n",
      " 6   Model              234222 non-null  object        \n",
      " 7   Kilometer          248056 non-null  int64         \n",
      " 8   RegistrationMonth  248056 non-null  int64         \n",
      " 9   FuelType           224884 non-null  object        \n",
      " 10  Brand              248056 non-null  object        \n",
      " 11  Repaired           198102 non-null  object        \n",
      " 12  DateCreated        248056 non-null  datetime64[ns]\n",
      " 13  NumberOfPictures   248056 non-null  int64         \n",
      " 14  PostalCode         248056 non-null  int64         \n",
      " 15  LastSeen           248056 non-null  datetime64[ns]\n",
      "dtypes: datetime64[ns](3), int64(7), object(6)\n",
      "memory usage: 32.2+ MB\n"
     ]
    }
   ],
   "source": [
    "df_train.info()"
   ]
  },
  {
   "cell_type": "markdown",
   "metadata": {},
   "source": [
    "Имеется 3 колонки типа datetime64[ns], 7 колонок типа int64, 6 колонок типа object. Рассмотрю каждый столбец отдельно."
   ]
  },
  {
   "cell_type": "markdown",
   "metadata": {},
   "source": [
    "##### Колонки даты"
   ]
  },
  {
   "cell_type": "code",
   "execution_count": 14,
   "metadata": {},
   "outputs": [
    {
     "data": {
      "text/html": [
       "<div>\n",
       "<style scoped>\n",
       "    .dataframe tbody tr th:only-of-type {\n",
       "        vertical-align: middle;\n",
       "    }\n",
       "\n",
       "    .dataframe tbody tr th {\n",
       "        vertical-align: top;\n",
       "    }\n",
       "\n",
       "    .dataframe thead th {\n",
       "        text-align: right;\n",
       "    }\n",
       "</style>\n",
       "<table border=\"1\" class=\"dataframe\">\n",
       "  <thead>\n",
       "    <tr style=\"text-align: right;\">\n",
       "      <th></th>\n",
       "      <th>DateCrawled</th>\n",
       "      <th>DateCreated</th>\n",
       "      <th>LastSeen</th>\n",
       "    </tr>\n",
       "  </thead>\n",
       "  <tbody>\n",
       "    <tr>\n",
       "      <th>count</th>\n",
       "      <td>248056</td>\n",
       "      <td>248056</td>\n",
       "      <td>248056</td>\n",
       "    </tr>\n",
       "    <tr>\n",
       "      <th>unique</th>\n",
       "      <td>206422</td>\n",
       "      <td>102</td>\n",
       "      <td>137965</td>\n",
       "    </tr>\n",
       "    <tr>\n",
       "      <th>top</th>\n",
       "      <td>2016-03-05 14:44:30</td>\n",
       "      <td>2016-04-03 00:00:00</td>\n",
       "      <td>2016-04-06 07:45:49</td>\n",
       "    </tr>\n",
       "    <tr>\n",
       "      <th>freq</th>\n",
       "      <td>5</td>\n",
       "      <td>9673</td>\n",
       "      <td>15</td>\n",
       "    </tr>\n",
       "    <tr>\n",
       "      <th>first</th>\n",
       "      <td>2016-03-05 14:06:22</td>\n",
       "      <td>2014-03-10 00:00:00</td>\n",
       "      <td>2016-03-05 14:15:08</td>\n",
       "    </tr>\n",
       "    <tr>\n",
       "      <th>last</th>\n",
       "      <td>2016-04-07 14:36:58</td>\n",
       "      <td>2016-04-07 00:00:00</td>\n",
       "      <td>2016-04-07 14:58:51</td>\n",
       "    </tr>\n",
       "  </tbody>\n",
       "</table>\n",
       "</div>"
      ],
      "text/plain": [
       "                DateCrawled          DateCreated             LastSeen\n",
       "count                248056               248056               248056\n",
       "unique               206422                  102               137965\n",
       "top     2016-03-05 14:44:30  2016-04-03 00:00:00  2016-04-06 07:45:49\n",
       "freq                      5                 9673                   15\n",
       "first   2016-03-05 14:06:22  2014-03-10 00:00:00  2016-03-05 14:15:08\n",
       "last    2016-04-07 14:36:58  2016-04-07 00:00:00  2016-04-07 14:58:51"
      ]
     },
     "execution_count": 14,
     "metadata": {},
     "output_type": "execute_result"
    }
   ],
   "source": [
    "df_train[['DateCrawled', 'DateCreated', 'LastSeen']].describe()"
   ]
  },
  {
   "cell_type": "markdown",
   "metadata": {},
   "source": [
    "Даты я не буду использовать для обучения моделей, потому что на цену автомобиля из временных параметров влияет только год регистрации. Все анкеты выгружены из базы в 2016 году, значит год регистрации авто должен быть не позже 2016."
   ]
  },
  {
   "cell_type": "markdown",
   "metadata": {},
   "source": [
    "##### Числовые колонки"
   ]
  },
  {
   "cell_type": "code",
   "execution_count": 15,
   "metadata": {},
   "outputs": [
    {
     "data": {
      "text/plain": [
       "248056"
      ]
     },
     "execution_count": 15,
     "metadata": {},
     "output_type": "execute_result"
    }
   ],
   "source": [
    "df_train_len = df_train.shape[0]\n",
    "df_train_len"
   ]
  },
  {
   "cell_type": "markdown",
   "metadata": {},
   "source": [
    "Сохраню количество строк, что определить процент удаленных строк из train"
   ]
  },
  {
   "cell_type": "code",
   "execution_count": 16,
   "metadata": {},
   "outputs": [
    {
     "data": {
      "text/plain": [
       "Price                0\n",
       "RegistrationYear     0\n",
       "Power                0\n",
       "Kilometer            0\n",
       "RegistrationMonth    0\n",
       "NumberOfPictures     0\n",
       "PostalCode           0\n",
       "dtype: int64"
      ]
     },
     "execution_count": 16,
     "metadata": {},
     "output_type": "execute_result"
    }
   ],
   "source": [
    "df_train.select_dtypes(include='int64').isna().sum()"
   ]
  },
  {
   "cell_type": "markdown",
   "metadata": {},
   "source": [
    "В числовых колонках нет пропусков."
   ]
  },
  {
   "cell_type": "code",
   "execution_count": 17,
   "metadata": {},
   "outputs": [
    {
     "data": {
      "text/html": [
       "<div>\n",
       "<style scoped>\n",
       "    .dataframe tbody tr th:only-of-type {\n",
       "        vertical-align: middle;\n",
       "    }\n",
       "\n",
       "    .dataframe tbody tr th {\n",
       "        vertical-align: top;\n",
       "    }\n",
       "\n",
       "    .dataframe thead th {\n",
       "        text-align: right;\n",
       "    }\n",
       "</style>\n",
       "<table border=\"1\" class=\"dataframe\">\n",
       "  <thead>\n",
       "    <tr style=\"text-align: right;\">\n",
       "      <th></th>\n",
       "      <th>Price</th>\n",
       "      <th>RegistrationYear</th>\n",
       "      <th>Power</th>\n",
       "      <th>Kilometer</th>\n",
       "      <th>RegistrationMonth</th>\n",
       "      <th>NumberOfPictures</th>\n",
       "      <th>PostalCode</th>\n",
       "    </tr>\n",
       "  </thead>\n",
       "  <tbody>\n",
       "    <tr>\n",
       "      <th>count</th>\n",
       "      <td>248056.000000</td>\n",
       "      <td>248056.000000</td>\n",
       "      <td>248056.000000</td>\n",
       "      <td>248056.000000</td>\n",
       "      <td>248056.000000</td>\n",
       "      <td>248056.0</td>\n",
       "      <td>248056.000000</td>\n",
       "    </tr>\n",
       "    <tr>\n",
       "      <th>mean</th>\n",
       "      <td>4412.686055</td>\n",
       "      <td>2004.334207</td>\n",
       "      <td>109.680246</td>\n",
       "      <td>128202.240623</td>\n",
       "      <td>5.712009</td>\n",
       "      <td>0.0</td>\n",
       "      <td>50522.098200</td>\n",
       "    </tr>\n",
       "    <tr>\n",
       "      <th>std</th>\n",
       "      <td>4509.688053</td>\n",
       "      <td>93.690184</td>\n",
       "      <td>179.469876</td>\n",
       "      <td>37909.917062</td>\n",
       "      <td>3.728161</td>\n",
       "      <td>0.0</td>\n",
       "      <td>25797.165791</td>\n",
       "    </tr>\n",
       "    <tr>\n",
       "      <th>min</th>\n",
       "      <td>0.000000</td>\n",
       "      <td>1000.000000</td>\n",
       "      <td>0.000000</td>\n",
       "      <td>5000.000000</td>\n",
       "      <td>0.000000</td>\n",
       "      <td>0.0</td>\n",
       "      <td>1067.000000</td>\n",
       "    </tr>\n",
       "    <tr>\n",
       "      <th>25%</th>\n",
       "      <td>1050.000000</td>\n",
       "      <td>1999.000000</td>\n",
       "      <td>68.000000</td>\n",
       "      <td>125000.000000</td>\n",
       "      <td>3.000000</td>\n",
       "      <td>0.0</td>\n",
       "      <td>30165.000000</td>\n",
       "    </tr>\n",
       "    <tr>\n",
       "      <th>50%</th>\n",
       "      <td>2700.000000</td>\n",
       "      <td>2003.000000</td>\n",
       "      <td>105.000000</td>\n",
       "      <td>150000.000000</td>\n",
       "      <td>6.000000</td>\n",
       "      <td>0.0</td>\n",
       "      <td>49377.000000</td>\n",
       "    </tr>\n",
       "    <tr>\n",
       "      <th>75%</th>\n",
       "      <td>6400.000000</td>\n",
       "      <td>2008.000000</td>\n",
       "      <td>141.000000</td>\n",
       "      <td>150000.000000</td>\n",
       "      <td>9.000000</td>\n",
       "      <td>0.0</td>\n",
       "      <td>71101.000000</td>\n",
       "    </tr>\n",
       "    <tr>\n",
       "      <th>max</th>\n",
       "      <td>20000.000000</td>\n",
       "      <td>9999.000000</td>\n",
       "      <td>19208.000000</td>\n",
       "      <td>150000.000000</td>\n",
       "      <td>12.000000</td>\n",
       "      <td>0.0</td>\n",
       "      <td>99998.000000</td>\n",
       "    </tr>\n",
       "  </tbody>\n",
       "</table>\n",
       "</div>"
      ],
      "text/plain": [
       "               Price  RegistrationYear          Power      Kilometer  \\\n",
       "count  248056.000000     248056.000000  248056.000000  248056.000000   \n",
       "mean     4412.686055       2004.334207     109.680246  128202.240623   \n",
       "std      4509.688053         93.690184     179.469876   37909.917062   \n",
       "min         0.000000       1000.000000       0.000000    5000.000000   \n",
       "25%      1050.000000       1999.000000      68.000000  125000.000000   \n",
       "50%      2700.000000       2003.000000     105.000000  150000.000000   \n",
       "75%      6400.000000       2008.000000     141.000000  150000.000000   \n",
       "max     20000.000000       9999.000000   19208.000000  150000.000000   \n",
       "\n",
       "       RegistrationMonth  NumberOfPictures     PostalCode  \n",
       "count      248056.000000          248056.0  248056.000000  \n",
       "mean            5.712009               0.0   50522.098200  \n",
       "std             3.728161               0.0   25797.165791  \n",
       "min             0.000000               0.0    1067.000000  \n",
       "25%             3.000000               0.0   30165.000000  \n",
       "50%             6.000000               0.0   49377.000000  \n",
       "75%             9.000000               0.0   71101.000000  \n",
       "max            12.000000               0.0   99998.000000  "
      ]
     },
     "execution_count": 17,
     "metadata": {},
     "output_type": "execute_result"
    }
   ],
   "source": [
    "df_train.select_dtypes(include='int64').describe()"
   ]
  },
  {
   "cell_type": "markdown",
   "metadata": {},
   "source": [
    "В дальнейшем имеет смысл рассматривать только числовые колонки RegistrationYear, Power, Kilometer, сохраню их список num_columns, Price - сохраню в target. Месяц регистрации автомобиля (RegistrationMonth) и почтовый индекс адреса владельца (PostalCode) не оказывают влияние на его стоимость, а NumberOfPictures - полностью состоит из нулей."
   ]
  },
  {
   "cell_type": "code",
   "execution_count": 18,
   "metadata": {},
   "outputs": [],
   "source": [
    "num_columns = ['RegistrationYear', 'Power', 'Kilometer']\n",
    "target = ['Price']"
   ]
  },
  {
   "cell_type": "code",
   "execution_count": 19,
   "metadata": {},
   "outputs": [
    {
     "data": {
      "text/plain": [
       "(248056, 16)"
      ]
     },
     "execution_count": 19,
     "metadata": {},
     "output_type": "execute_result"
    }
   ],
   "source": [
    "df_train.shape"
   ]
  },
  {
   "cell_type": "code",
   "execution_count": 20,
   "metadata": {},
   "outputs": [],
   "source": [
    "df_train = df_train[df_train.Price > 0]"
   ]
  },
  {
   "cell_type": "code",
   "execution_count": 21,
   "metadata": {},
   "outputs": [
    {
     "data": {
      "text/plain": [
       "(240585, 16)"
      ]
     },
     "execution_count": 21,
     "metadata": {},
     "output_type": "execute_result"
    }
   ],
   "source": [
    "df_train.shape"
   ]
  },
  {
   "cell_type": "markdown",
   "metadata": {},
   "source": [
    "Цена машины (Price) изменяется от 0 до 20000 евро, оставлю только записи с ценой больше 0, так как нулевая цена, скорее всего, ставилась в объявлении по умолчанию."
   ]
  },
  {
   "cell_type": "markdown",
   "metadata": {},
   "source": [
    "В RegistrationYear есть аномально большие и маленькие значения. Ограничу год регистрации 1886 годом (год выпуска первого автомобиля) и 2016 годом (год выгрузки базы), записи, которые не входят в этот отрезок, удалю."
   ]
  },
  {
   "cell_type": "code",
   "execution_count": 22,
   "metadata": {},
   "outputs": [
    {
     "data": {
      "text/plain": [
       "(240585, 16)"
      ]
     },
     "execution_count": 22,
     "metadata": {},
     "output_type": "execute_result"
    }
   ],
   "source": [
    "df_train.shape"
   ]
  },
  {
   "cell_type": "code",
   "execution_count": 23,
   "metadata": {},
   "outputs": [
    {
     "data": {
      "text/html": [
       "<div>\n",
       "<style scoped>\n",
       "    .dataframe tbody tr th:only-of-type {\n",
       "        vertical-align: middle;\n",
       "    }\n",
       "\n",
       "    .dataframe tbody tr th {\n",
       "        vertical-align: top;\n",
       "    }\n",
       "\n",
       "    .dataframe thead th {\n",
       "        text-align: right;\n",
       "    }\n",
       "</style>\n",
       "<table border=\"1\" class=\"dataframe\">\n",
       "  <thead>\n",
       "    <tr style=\"text-align: right;\">\n",
       "      <th></th>\n",
       "      <th>DateCrawled</th>\n",
       "      <th>Price</th>\n",
       "      <th>VehicleType</th>\n",
       "      <th>RegistrationYear</th>\n",
       "      <th>Gearbox</th>\n",
       "      <th>Power</th>\n",
       "      <th>Model</th>\n",
       "      <th>Kilometer</th>\n",
       "      <th>RegistrationMonth</th>\n",
       "      <th>FuelType</th>\n",
       "      <th>Brand</th>\n",
       "      <th>Repaired</th>\n",
       "      <th>DateCreated</th>\n",
       "      <th>NumberOfPictures</th>\n",
       "      <th>PostalCode</th>\n",
       "      <th>LastSeen</th>\n",
       "    </tr>\n",
       "  </thead>\n",
       "  <tbody>\n",
       "    <tr>\n",
       "      <th>158111</th>\n",
       "      <td>2016-03-28 20:56:35</td>\n",
       "      <td>950</td>\n",
       "      <td>NaN</td>\n",
       "      <td>2017</td>\n",
       "      <td>manual</td>\n",
       "      <td>107</td>\n",
       "      <td>megane</td>\n",
       "      <td>150000</td>\n",
       "      <td>0</td>\n",
       "      <td>petrol</td>\n",
       "      <td>renault</td>\n",
       "      <td>no</td>\n",
       "      <td>2016-03-28</td>\n",
       "      <td>0</td>\n",
       "      <td>1990</td>\n",
       "      <td>2016-04-05 00:46:24</td>\n",
       "    </tr>\n",
       "    <tr>\n",
       "      <th>190918</th>\n",
       "      <td>2016-03-10 09:55:06</td>\n",
       "      <td>8750</td>\n",
       "      <td>NaN</td>\n",
       "      <td>2017</td>\n",
       "      <td>manual</td>\n",
       "      <td>170</td>\n",
       "      <td>leon</td>\n",
       "      <td>125000</td>\n",
       "      <td>4</td>\n",
       "      <td>gasoline</td>\n",
       "      <td>seat</td>\n",
       "      <td>no</td>\n",
       "      <td>2016-03-10</td>\n",
       "      <td>0</td>\n",
       "      <td>26954</td>\n",
       "      <td>2016-04-06 12:45:12</td>\n",
       "    </tr>\n",
       "    <tr>\n",
       "      <th>247966</th>\n",
       "      <td>2016-03-12 11:51:21</td>\n",
       "      <td>1600</td>\n",
       "      <td>NaN</td>\n",
       "      <td>2017</td>\n",
       "      <td>manual</td>\n",
       "      <td>90</td>\n",
       "      <td>golf</td>\n",
       "      <td>150000</td>\n",
       "      <td>5</td>\n",
       "      <td>petrol</td>\n",
       "      <td>volkswagen</td>\n",
       "      <td>no</td>\n",
       "      <td>2016-03-12</td>\n",
       "      <td>0</td>\n",
       "      <td>49090</td>\n",
       "      <td>2016-04-06 05:45:09</td>\n",
       "    </tr>\n",
       "    <tr>\n",
       "      <th>33703</th>\n",
       "      <td>2016-03-21 16:47:01</td>\n",
       "      <td>990</td>\n",
       "      <td>NaN</td>\n",
       "      <td>2017</td>\n",
       "      <td>manual</td>\n",
       "      <td>0</td>\n",
       "      <td>astra</td>\n",
       "      <td>150000</td>\n",
       "      <td>12</td>\n",
       "      <td>NaN</td>\n",
       "      <td>opel</td>\n",
       "      <td>no</td>\n",
       "      <td>2016-03-21</td>\n",
       "      <td>0</td>\n",
       "      <td>12055</td>\n",
       "      <td>2016-03-21 16:47:01</td>\n",
       "    </tr>\n",
       "    <tr>\n",
       "      <th>197714</th>\n",
       "      <td>2016-03-16 21:06:18</td>\n",
       "      <td>900</td>\n",
       "      <td>NaN</td>\n",
       "      <td>2018</td>\n",
       "      <td>NaN</td>\n",
       "      <td>0</td>\n",
       "      <td>NaN</td>\n",
       "      <td>125000</td>\n",
       "      <td>0</td>\n",
       "      <td>NaN</td>\n",
       "      <td>fiat</td>\n",
       "      <td>NaN</td>\n",
       "      <td>2016-03-16</td>\n",
       "      <td>0</td>\n",
       "      <td>56237</td>\n",
       "      <td>2016-04-05 22:44:34</td>\n",
       "    </tr>\n",
       "    <tr>\n",
       "      <th>...</th>\n",
       "      <td>...</td>\n",
       "      <td>...</td>\n",
       "      <td>...</td>\n",
       "      <td>...</td>\n",
       "      <td>...</td>\n",
       "      <td>...</td>\n",
       "      <td>...</td>\n",
       "      <td>...</td>\n",
       "      <td>...</td>\n",
       "      <td>...</td>\n",
       "      <td>...</td>\n",
       "      <td>...</td>\n",
       "      <td>...</td>\n",
       "      <td>...</td>\n",
       "      <td>...</td>\n",
       "      <td>...</td>\n",
       "    </tr>\n",
       "    <tr>\n",
       "      <th>298064</th>\n",
       "      <td>2016-03-23 17:52:30</td>\n",
       "      <td>1000</td>\n",
       "      <td>NaN</td>\n",
       "      <td>2018</td>\n",
       "      <td>manual</td>\n",
       "      <td>0</td>\n",
       "      <td>polo</td>\n",
       "      <td>100000</td>\n",
       "      <td>5</td>\n",
       "      <td>petrol</td>\n",
       "      <td>volkswagen</td>\n",
       "      <td>no</td>\n",
       "      <td>2016-03-23</td>\n",
       "      <td>0</td>\n",
       "      <td>22926</td>\n",
       "      <td>2016-03-25 01:47:58</td>\n",
       "    </tr>\n",
       "    <tr>\n",
       "      <th>3890</th>\n",
       "      <td>2016-04-03 11:45:16</td>\n",
       "      <td>6500</td>\n",
       "      <td>NaN</td>\n",
       "      <td>2017</td>\n",
       "      <td>manual</td>\n",
       "      <td>126</td>\n",
       "      <td>auris</td>\n",
       "      <td>125000</td>\n",
       "      <td>2</td>\n",
       "      <td>NaN</td>\n",
       "      <td>toyota</td>\n",
       "      <td>no</td>\n",
       "      <td>2016-04-03</td>\n",
       "      <td>0</td>\n",
       "      <td>34434</td>\n",
       "      <td>2016-04-07 12:45:13</td>\n",
       "    </tr>\n",
       "    <tr>\n",
       "      <th>267455</th>\n",
       "      <td>2016-03-17 19:56:23</td>\n",
       "      <td>1250</td>\n",
       "      <td>NaN</td>\n",
       "      <td>2017</td>\n",
       "      <td>manual</td>\n",
       "      <td>101</td>\n",
       "      <td>astra</td>\n",
       "      <td>150000</td>\n",
       "      <td>12</td>\n",
       "      <td>NaN</td>\n",
       "      <td>opel</td>\n",
       "      <td>NaN</td>\n",
       "      <td>2016-03-17</td>\n",
       "      <td>0</td>\n",
       "      <td>49492</td>\n",
       "      <td>2016-03-22 02:17:39</td>\n",
       "    </tr>\n",
       "    <tr>\n",
       "      <th>327069</th>\n",
       "      <td>2016-04-04 22:48:31</td>\n",
       "      <td>8700</td>\n",
       "      <td>NaN</td>\n",
       "      <td>2017</td>\n",
       "      <td>manual</td>\n",
       "      <td>136</td>\n",
       "      <td>b_klasse</td>\n",
       "      <td>125000</td>\n",
       "      <td>8</td>\n",
       "      <td>petrol</td>\n",
       "      <td>mercedes_benz</td>\n",
       "      <td>no</td>\n",
       "      <td>2016-04-04</td>\n",
       "      <td>0</td>\n",
       "      <td>90402</td>\n",
       "      <td>2016-04-07 01:45:56</td>\n",
       "    </tr>\n",
       "    <tr>\n",
       "      <th>259178</th>\n",
       "      <td>2016-04-02 00:47:21</td>\n",
       "      <td>4690</td>\n",
       "      <td>NaN</td>\n",
       "      <td>2017</td>\n",
       "      <td>manual</td>\n",
       "      <td>105</td>\n",
       "      <td>astra</td>\n",
       "      <td>125000</td>\n",
       "      <td>8</td>\n",
       "      <td>petrol</td>\n",
       "      <td>opel</td>\n",
       "      <td>no</td>\n",
       "      <td>2016-04-01</td>\n",
       "      <td>0</td>\n",
       "      <td>9526</td>\n",
       "      <td>2016-04-06 04:16:31</td>\n",
       "    </tr>\n",
       "  </tbody>\n",
       "</table>\n",
       "<p>9642 rows × 16 columns</p>\n",
       "</div>"
      ],
      "text/plain": [
       "               DateCrawled  Price VehicleType  RegistrationYear Gearbox  \\\n",
       "158111 2016-03-28 20:56:35    950         NaN              2017  manual   \n",
       "190918 2016-03-10 09:55:06   8750         NaN              2017  manual   \n",
       "247966 2016-03-12 11:51:21   1600         NaN              2017  manual   \n",
       "33703  2016-03-21 16:47:01    990         NaN              2017  manual   \n",
       "197714 2016-03-16 21:06:18    900         NaN              2018     NaN   \n",
       "...                    ...    ...         ...               ...     ...   \n",
       "298064 2016-03-23 17:52:30   1000         NaN              2018  manual   \n",
       "3890   2016-04-03 11:45:16   6500         NaN              2017  manual   \n",
       "267455 2016-03-17 19:56:23   1250         NaN              2017  manual   \n",
       "327069 2016-04-04 22:48:31   8700         NaN              2017  manual   \n",
       "259178 2016-04-02 00:47:21   4690         NaN              2017  manual   \n",
       "\n",
       "        Power     Model  Kilometer  RegistrationMonth  FuelType  \\\n",
       "158111    107    megane     150000                  0    petrol   \n",
       "190918    170      leon     125000                  4  gasoline   \n",
       "247966     90      golf     150000                  5    petrol   \n",
       "33703       0     astra     150000                 12       NaN   \n",
       "197714      0       NaN     125000                  0       NaN   \n",
       "...       ...       ...        ...                ...       ...   \n",
       "298064      0      polo     100000                  5    petrol   \n",
       "3890      126     auris     125000                  2       NaN   \n",
       "267455    101     astra     150000                 12       NaN   \n",
       "327069    136  b_klasse     125000                  8    petrol   \n",
       "259178    105     astra     125000                  8    petrol   \n",
       "\n",
       "                Brand Repaired DateCreated  NumberOfPictures  PostalCode  \\\n",
       "158111        renault       no  2016-03-28                 0        1990   \n",
       "190918           seat       no  2016-03-10                 0       26954   \n",
       "247966     volkswagen       no  2016-03-12                 0       49090   \n",
       "33703            opel       no  2016-03-21                 0       12055   \n",
       "197714           fiat      NaN  2016-03-16                 0       56237   \n",
       "...               ...      ...         ...               ...         ...   \n",
       "298064     volkswagen       no  2016-03-23                 0       22926   \n",
       "3890           toyota       no  2016-04-03                 0       34434   \n",
       "267455           opel      NaN  2016-03-17                 0       49492   \n",
       "327069  mercedes_benz       no  2016-04-04                 0       90402   \n",
       "259178           opel       no  2016-04-01                 0        9526   \n",
       "\n",
       "                  LastSeen  \n",
       "158111 2016-04-05 00:46:24  \n",
       "190918 2016-04-06 12:45:12  \n",
       "247966 2016-04-06 05:45:09  \n",
       "33703  2016-03-21 16:47:01  \n",
       "197714 2016-04-05 22:44:34  \n",
       "...                    ...  \n",
       "298064 2016-03-25 01:47:58  \n",
       "3890   2016-04-07 12:45:13  \n",
       "267455 2016-03-22 02:17:39  \n",
       "327069 2016-04-07 01:45:56  \n",
       "259178 2016-04-06 04:16:31  \n",
       "\n",
       "[9642 rows x 16 columns]"
      ]
     },
     "execution_count": 23,
     "metadata": {},
     "output_type": "execute_result"
    }
   ],
   "source": [
    "df_train[(df_train.RegistrationYear > 2016) | (df_train.RegistrationYear < 1886)]"
   ]
  },
  {
   "cell_type": "code",
   "execution_count": 24,
   "metadata": {},
   "outputs": [
    {
     "data": {
      "text/plain": [
       "(230943, 16)"
      ]
     },
     "execution_count": 24,
     "metadata": {},
     "output_type": "execute_result"
    }
   ],
   "source": [
    "df_train = df_train[(df_train.RegistrationYear <= 2016) & (df_train.RegistrationYear >= 1886)]\n",
    "df_train.shape"
   ]
  },
  {
   "cell_type": "markdown",
   "metadata": {},
   "source": [
    "Удалю записи с нулевыми значениями. Сверху ограничу этот столбец 1500 л.с. - самой большой мощностью серийного автомобиля."
   ]
  },
  {
   "cell_type": "code",
   "execution_count": 25,
   "metadata": {},
   "outputs": [
    {
     "data": {
      "text/plain": [
       "(207678, 16)"
      ]
     },
     "execution_count": 25,
     "metadata": {},
     "output_type": "execute_result"
    }
   ],
   "source": [
    "df_train = df_train[(df_train.Power <= 1500) & (df_train.Power > 0)]\n",
    "df_train.shape"
   ]
  },
  {
   "cell_type": "markdown",
   "metadata": {},
   "source": [
    "С колонкой Kilometer все в порядке, она изменяется от 5000 до 150000."
   ]
  },
  {
   "cell_type": "code",
   "execution_count": 26,
   "metadata": {},
   "outputs": [
    {
     "data": {
      "image/png": "[encoded data removed]",
      "text/plain": [
       "<Figure size 900x600 with 1 Axes>"
      ]
     },
     "metadata": {},
     "output_type": "display_data"
    },
    {
     "data": {
      "image/png": "[encoded data removed]",
      "text/plain": [
       "<Figure size 900x600 with 1 Axes>"
      ]
     },
     "metadata": {},
     "output_type": "display_data"
    },
    {
     "data": {
      "image/png": "[encoded data removed]",
      "text/plain": [
       "<Figure size 900x600 with 1 Axes>"
      ]
     },
     "metadata": {},
     "output_type": "display_data"
    },
    {
     "data": {
      "image/png": "[encoded data removed]",
      "text/plain": [
       "<Figure size 900x600 with 1 Axes>"
      ]
     },
     "metadata": {},
     "output_type": "display_data"
    }
   ],
   "source": [
    "for column in target + num_columns:\n",
    "    df_train[column].plot(kind='hist', bins=50, title=f'Распределение колонки \"{column}\"', figsize=(9, 6))\n",
    "    plt.show()"
   ]
  },
  {
   "cell_type": "markdown",
   "metadata": {},
   "source": [
    "Графики Price и Power скошены вправо, а RegistrationYear и Kilometer скошены влево."
   ]
  },
  {
   "cell_type": "code",
   "execution_count": 27,
   "metadata": {},
   "outputs": [
    {
     "data": {
      "text/plain": [
       "16.277775986067663"
      ]
     },
     "execution_count": 27,
     "metadata": {},
     "output_type": "execute_result"
    }
   ],
   "source": [
    "(df_train_len - df_train.shape[0]) / df_train_len * 100"
   ]
  },
  {
   "cell_type": "markdown",
   "metadata": {},
   "source": [
    "Было удалено 16% от обучающей выборки"
   ]
  },
  {
   "cell_type": "markdown",
   "metadata": {},
   "source": [
    "##### Категориальные колонки"
   ]
  },
  {
   "cell_type": "code",
   "execution_count": 28,
   "metadata": {},
   "outputs": [
    {
     "data": {
      "text/plain": [
       "VehicleType     7720\n",
       "Gearbox         3771\n",
       "Model           7899\n",
       "FuelType       11029\n",
       "Brand              0\n",
       "Repaired       30182\n",
       "dtype: int64"
      ]
     },
     "execution_count": 28,
     "metadata": {},
     "output_type": "execute_result"
    }
   ],
   "source": [
    "df_train.select_dtypes(include='object').isna().sum()"
   ]
  },
  {
   "cell_type": "markdown",
   "metadata": {},
   "source": [
    "Во всех категориальных колонках кроме Brand присутствуют пропуски"
   ]
  },
  {
   "cell_type": "code",
   "execution_count": 29,
   "metadata": {},
   "outputs": [
    {
     "data": {
      "text/html": [
       "<div>\n",
       "<style scoped>\n",
       "    .dataframe tbody tr th:only-of-type {\n",
       "        vertical-align: middle;\n",
       "    }\n",
       "\n",
       "    .dataframe tbody tr th {\n",
       "        vertical-align: top;\n",
       "    }\n",
       "\n",
       "    .dataframe thead th {\n",
       "        text-align: right;\n",
       "    }\n",
       "</style>\n",
       "<table border=\"1\" class=\"dataframe\">\n",
       "  <thead>\n",
       "    <tr style=\"text-align: right;\">\n",
       "      <th></th>\n",
       "      <th>VehicleType</th>\n",
       "      <th>Gearbox</th>\n",
       "      <th>Model</th>\n",
       "      <th>FuelType</th>\n",
       "      <th>Brand</th>\n",
       "      <th>Repaired</th>\n",
       "    </tr>\n",
       "  </thead>\n",
       "  <tbody>\n",
       "    <tr>\n",
       "      <th>count</th>\n",
       "      <td>199958</td>\n",
       "      <td>203907</td>\n",
       "      <td>199779</td>\n",
       "      <td>196649</td>\n",
       "      <td>207678</td>\n",
       "      <td>177496</td>\n",
       "    </tr>\n",
       "    <tr>\n",
       "      <th>unique</th>\n",
       "      <td>8</td>\n",
       "      <td>2</td>\n",
       "      <td>249</td>\n",
       "      <td>7</td>\n",
       "      <td>40</td>\n",
       "      <td>2</td>\n",
       "    </tr>\n",
       "    <tr>\n",
       "      <th>top</th>\n",
       "      <td>sedan</td>\n",
       "      <td>manual</td>\n",
       "      <td>golf</td>\n",
       "      <td>petrol</td>\n",
       "      <td>volkswagen</td>\n",
       "      <td>no</td>\n",
       "    </tr>\n",
       "    <tr>\n",
       "      <th>freq</th>\n",
       "      <td>58189</td>\n",
       "      <td>162691</td>\n",
       "      <td>17219</td>\n",
       "      <td>131370</td>\n",
       "      <td>44887</td>\n",
       "      <td>157349</td>\n",
       "    </tr>\n",
       "  </tbody>\n",
       "</table>\n",
       "</div>"
      ],
      "text/plain": [
       "       VehicleType Gearbox   Model FuelType       Brand Repaired\n",
       "count       199958  203907  199779   196649      207678   177496\n",
       "unique           8       2     249        7          40        2\n",
       "top          sedan  manual    golf   petrol  volkswagen       no\n",
       "freq         58189  162691   17219   131370       44887   157349"
      ]
     },
     "execution_count": 29,
     "metadata": {},
     "output_type": "execute_result"
    }
   ],
   "source": [
    "df_train.select_dtypes(include='object').describe()"
   ]
  },
  {
   "cell_type": "markdown",
   "metadata": {},
   "source": [
    "Все категориальные колонки значимы, сохраню их названия в список cat_columns."
   ]
  },
  {
   "cell_type": "code",
   "execution_count": 30,
   "metadata": {},
   "outputs": [
    {
     "data": {
      "text/plain": [
       "['VehicleType', 'Gearbox', 'Model', 'FuelType', 'Brand', 'Repaired']"
      ]
     },
     "execution_count": 30,
     "metadata": {},
     "output_type": "execute_result"
    }
   ],
   "source": [
    "cat_columns = list(df_train.select_dtypes(include='object').columns)\n",
    "cat_columns"
   ]
  },
  {
   "cell_type": "code",
   "execution_count": 31,
   "metadata": {},
   "outputs": [
    {
     "name": "stdout",
     "output_type": "stream",
     "text": [
      "VehicleType:\n"
     ]
    },
    {
     "data": {
      "text/plain": [
       "['bus', 'convertible', 'coupe', 'other', 'sedan', 'small', 'suv', 'wagon']"
      ]
     },
     "metadata": {},
     "output_type": "display_data"
    },
    {
     "name": "stdout",
     "output_type": "stream",
     "text": [
      "Gearbox:\n"
     ]
    },
    {
     "data": {
      "text/plain": [
       "['auto', 'manual']"
      ]
     },
     "metadata": {},
     "output_type": "display_data"
    },
    {
     "name": "stdout",
     "output_type": "stream",
     "text": [
      "Model:\n"
     ]
    },
    {
     "data": {
      "text/plain": [
       "['100',\n",
       " '145',\n",
       " '147',\n",
       " '156',\n",
       " '159',\n",
       " '1_reihe',\n",
       " '1er',\n",
       " '200',\n",
       " '2_reihe',\n",
       " '300c',\n",
       " '3_reihe',\n",
       " '3er',\n",
       " '4_reihe',\n",
       " '500',\n",
       " '5_reihe',\n",
       " '5er',\n",
       " '601',\n",
       " '6_reihe',\n",
       " '6er',\n",
       " '7er',\n",
       " '80',\n",
       " '850',\n",
       " '90',\n",
       " '900',\n",
       " '9000',\n",
       " '911',\n",
       " 'a1',\n",
       " 'a2',\n",
       " 'a3',\n",
       " 'a4',\n",
       " 'a5',\n",
       " 'a6',\n",
       " 'a8',\n",
       " 'a_klasse',\n",
       " 'accord',\n",
       " 'agila',\n",
       " 'alhambra',\n",
       " 'almera',\n",
       " 'altea',\n",
       " 'amarok',\n",
       " 'antara',\n",
       " 'arosa',\n",
       " 'astra',\n",
       " 'auris',\n",
       " 'avensis',\n",
       " 'aveo',\n",
       " 'aygo',\n",
       " 'b_klasse',\n",
       " 'b_max',\n",
       " 'beetle',\n",
       " 'berlingo',\n",
       " 'bora',\n",
       " 'boxster',\n",
       " 'bravo',\n",
       " 'c1',\n",
       " 'c2',\n",
       " 'c3',\n",
       " 'c4',\n",
       " 'c5',\n",
       " 'c_klasse',\n",
       " 'c_max',\n",
       " 'c_reihe',\n",
       " 'caddy',\n",
       " 'calibra',\n",
       " 'captiva',\n",
       " 'carisma',\n",
       " 'carnival',\n",
       " 'cayenne',\n",
       " 'cc',\n",
       " 'ceed',\n",
       " 'charade',\n",
       " 'cherokee',\n",
       " 'citigo',\n",
       " 'civic',\n",
       " 'cl',\n",
       " 'clio',\n",
       " 'clk',\n",
       " 'clubman',\n",
       " 'colt',\n",
       " 'combo',\n",
       " 'cooper',\n",
       " 'cordoba',\n",
       " 'corolla',\n",
       " 'corsa',\n",
       " 'cr_reihe',\n",
       " 'croma',\n",
       " 'crossfire',\n",
       " 'cuore',\n",
       " 'cx_reihe',\n",
       " 'defender',\n",
       " 'delta',\n",
       " 'discovery',\n",
       " 'doblo',\n",
       " 'ducato',\n",
       " 'duster',\n",
       " 'e_klasse',\n",
       " 'elefantino',\n",
       " 'eos',\n",
       " 'escort',\n",
       " 'espace',\n",
       " 'exeo',\n",
       " 'fabia',\n",
       " 'fiesta',\n",
       " 'focus',\n",
       " 'forester',\n",
       " 'forfour',\n",
       " 'fortwo',\n",
       " 'fox',\n",
       " 'freelander',\n",
       " 'fusion',\n",
       " 'g_klasse',\n",
       " 'galant',\n",
       " 'galaxy',\n",
       " 'getz',\n",
       " 'gl',\n",
       " 'glk',\n",
       " 'golf',\n",
       " 'grand',\n",
       " 'i3',\n",
       " 'i_reihe',\n",
       " 'ibiza',\n",
       " 'impreza',\n",
       " 'insignia',\n",
       " 'jazz',\n",
       " 'jetta',\n",
       " 'jimny',\n",
       " 'juke',\n",
       " 'justy',\n",
       " 'ka',\n",
       " 'kadett',\n",
       " 'kaefer',\n",
       " 'kalina',\n",
       " 'kalos',\n",
       " 'kangoo',\n",
       " 'kappa',\n",
       " 'kuga',\n",
       " 'laguna',\n",
       " 'lancer',\n",
       " 'lanos',\n",
       " 'legacy',\n",
       " 'leon',\n",
       " 'lodgy',\n",
       " 'logan',\n",
       " 'lupo',\n",
       " 'lybra',\n",
       " 'm_klasse',\n",
       " 'm_reihe',\n",
       " 'materia',\n",
       " 'matiz',\n",
       " 'megane',\n",
       " 'meriva',\n",
       " 'micra',\n",
       " 'mii',\n",
       " 'modus',\n",
       " 'mondeo',\n",
       " 'move',\n",
       " 'musa',\n",
       " 'mustang',\n",
       " 'mx_reihe',\n",
       " 'navara',\n",
       " 'niva',\n",
       " 'note',\n",
       " 'nubira',\n",
       " 'octavia',\n",
       " 'omega',\n",
       " 'one',\n",
       " 'other',\n",
       " 'outlander',\n",
       " 'pajero',\n",
       " 'panda',\n",
       " 'passat',\n",
       " 'phaeton',\n",
       " 'picanto',\n",
       " 'polo',\n",
       " 'primera',\n",
       " 'ptcruiser',\n",
       " 'punto',\n",
       " 'q3',\n",
       " 'q5',\n",
       " 'q7',\n",
       " 'qashqai',\n",
       " 'r19',\n",
       " 'range_rover',\n",
       " 'range_rover_evoque',\n",
       " 'range_rover_sport',\n",
       " 'rangerover',\n",
       " 'rav',\n",
       " 'rio',\n",
       " 'roadster',\n",
       " 'roomster',\n",
       " 'rx_reihe',\n",
       " 's60',\n",
       " 's_klasse',\n",
       " 's_max',\n",
       " 's_type',\n",
       " 'samara',\n",
       " 'sandero',\n",
       " 'santa',\n",
       " 'scenic',\n",
       " 'scirocco',\n",
       " 'seicento',\n",
       " 'serie_2',\n",
       " 'serie_3',\n",
       " 'sharan',\n",
       " 'signum',\n",
       " 'sirion',\n",
       " 'sl',\n",
       " 'slk',\n",
       " 'sorento',\n",
       " 'spark',\n",
       " 'spider',\n",
       " 'sportage',\n",
       " 'sprinter',\n",
       " 'stilo',\n",
       " 'superb',\n",
       " 'swift',\n",
       " 'terios',\n",
       " 'tigra',\n",
       " 'tiguan',\n",
       " 'toledo',\n",
       " 'touareg',\n",
       " 'touran',\n",
       " 'transit',\n",
       " 'transporter',\n",
       " 'tt',\n",
       " 'tucson',\n",
       " 'twingo',\n",
       " 'up',\n",
       " 'v40',\n",
       " 'v50',\n",
       " 'v60',\n",
       " 'v70',\n",
       " 'v_klasse',\n",
       " 'vectra',\n",
       " 'verso',\n",
       " 'viano',\n",
       " 'vito',\n",
       " 'vivaro',\n",
       " 'voyager',\n",
       " 'wrangler',\n",
       " 'x_reihe',\n",
       " 'x_trail',\n",
       " 'x_type',\n",
       " 'xc_reihe',\n",
       " 'yaris',\n",
       " 'yeti',\n",
       " 'ypsilon',\n",
       " 'z_reihe',\n",
       " 'zafira']"
      ]
     },
     "metadata": {},
     "output_type": "display_data"
    },
    {
     "name": "stdout",
     "output_type": "stream",
     "text": [
      "FuelType:\n"
     ]
    },
    {
     "data": {
      "text/plain": [
       "['cng', 'electric', 'gasoline', 'hybrid', 'lpg', 'other', 'petrol']"
      ]
     },
     "metadata": {},
     "output_type": "display_data"
    },
    {
     "name": "stdout",
     "output_type": "stream",
     "text": [
      "Brand:\n"
     ]
    },
    {
     "data": {
      "text/plain": [
       "['alfa_romeo',\n",
       " 'audi',\n",
       " 'bmw',\n",
       " 'chevrolet',\n",
       " 'chrysler',\n",
       " 'citroen',\n",
       " 'dacia',\n",
       " 'daewoo',\n",
       " 'daihatsu',\n",
       " 'fiat',\n",
       " 'ford',\n",
       " 'honda',\n",
       " 'hyundai',\n",
       " 'jaguar',\n",
       " 'jeep',\n",
       " 'kia',\n",
       " 'lada',\n",
       " 'lancia',\n",
       " 'land_rover',\n",
       " 'mazda',\n",
       " 'mercedes_benz',\n",
       " 'mini',\n",
       " 'mitsubishi',\n",
       " 'nissan',\n",
       " 'opel',\n",
       " 'peugeot',\n",
       " 'porsche',\n",
       " 'renault',\n",
       " 'rover',\n",
       " 'saab',\n",
       " 'seat',\n",
       " 'skoda',\n",
       " 'smart',\n",
       " 'sonstige_autos',\n",
       " 'subaru',\n",
       " 'suzuki',\n",
       " 'toyota',\n",
       " 'trabant',\n",
       " 'volkswagen',\n",
       " 'volvo']"
      ]
     },
     "metadata": {},
     "output_type": "display_data"
    },
    {
     "name": "stdout",
     "output_type": "stream",
     "text": [
      "Repaired:\n"
     ]
    },
    {
     "data": {
      "text/plain": [
       "['no', 'yes']"
      ]
     },
     "metadata": {},
     "output_type": "display_data"
    }
   ],
   "source": [
    "for column in cat_columns:\n",
    "    print(f'{column}:')\n",
    "    display(sorted(df_train[column].dropna().unique()))"
   ]
  },
  {
   "cell_type": "markdown",
   "metadata": {},
   "source": [
    "Скрытых дублей среди значений категориальных столбцов нет, все категории написаны в одном (\"змеином\") формате "
   ]
  },
  {
   "cell_type": "code",
   "execution_count": 32,
   "metadata": {},
   "outputs": [
    {
     "data": {
      "image/png": "[encoded data removed]",
      "text/plain": [
       "<Figure size 900x600 with 1 Axes>"
      ]
     },
     "metadata": {},
     "output_type": "display_data"
    },
    {
     "data": {
      "image/png": "[encoded data removed]",
      "text/plain": [
       "<Figure size 900x600 with 1 Axes>"
      ]
     },
     "metadata": {},
     "output_type": "display_data"
    },
    {
     "data": {
      "image/png": "[encoded data removed]",
      "text/plain": [
       "<Figure size 900x600 with 1 Axes>"
      ]
     },
     "metadata": {},
     "output_type": "display_data"
    },
    {
     "data": {
      "image/png": "[encoded data removed]",
      "text/plain": [
       "<Figure size 900x600 with 1 Axes>"
      ]
     },
     "metadata": {},
     "output_type": "display_data"
    },
    {
     "data": {
      "image/png": "[encoded data removed]",
      "text/plain": [
       "<Figure size 900x600 with 1 Axes>"
      ]
     },
     "metadata": {},
     "output_type": "display_data"
    },
    {
     "data": {
      "image/png": "[encoded data removed]",
      "text/plain": [
       "<Figure size 900x600 with 1 Axes>"
      ]
     },
     "metadata": {},
     "output_type": "display_data"
    }
   ],
   "source": [
    "for column in cat_columns:\n",
    "    df_train[column].value_counts(dropna=False).head(50).plot(kind='bar', title=f'Распределение колонки \"{column}\"', figsize=(9, 6))\n",
    "    plt.show()"
   ]
  },
  {
   "cell_type": "markdown",
   "metadata": {},
   "source": [
    "Из графиков барплот видно, самые популярные типы кузова sedan, small и wagon, еще весьма часто тип кузова пропущен при заполнении. Коробка передач manual встречается в значительно большем количестве записей, чем auto. В датасете больше всего автомобилей модели golf, на втором и третьем месте other и пропущенное значение. Большинство атомобилей поддерживаю бензиновое топливо, на втором месте - газовое. В датасете подавляющее число автомобилей марки volkswagen, далее идут opel и bmw. Пропуски в колонках VehicleType, Gearbox, Model, FuelType заполню самым распрастраненным по Brand (в Brand отсутствуют пропуски). Пропуски в столбце Repaired заполню 'unknown', потому что даже приблизительно предсказать была ли машина в аварии по другим столбцам не представляет возможности."
   ]
  },
  {
   "cell_type": "code",
   "execution_count": 33,
   "metadata": {},
   "outputs": [],
   "source": [
    "def get_mode_by_column(data, dividing_column, columns):\n",
    "    return data.groupby(dividing_column)[columns].\\\n",
    "    agg(lambda x: x.mode()[0] if x.count() != 0 else 'unknown').reset_index()"
   ]
  },
  {
   "cell_type": "markdown",
   "metadata": {},
   "source": [
    "Функция группирует данные по dividing_column и выдает моды для столбцов columns в виде таблицы"
   ]
  },
  {
   "cell_type": "code",
   "execution_count": 34,
   "metadata": {
    "scrolled": true
   },
   "outputs": [
    {
     "data": {
      "text/html": [
       "<div>\n",
       "<style scoped>\n",
       "    .dataframe tbody tr th:only-of-type {\n",
       "        vertical-align: middle;\n",
       "    }\n",
       "\n",
       "    .dataframe tbody tr th {\n",
       "        vertical-align: top;\n",
       "    }\n",
       "\n",
       "    .dataframe thead th {\n",
       "        text-align: right;\n",
       "    }\n",
       "</style>\n",
       "<table border=\"1\" class=\"dataframe\">\n",
       "  <thead>\n",
       "    <tr style=\"text-align: right;\">\n",
       "      <th></th>\n",
       "      <th>Brand</th>\n",
       "      <th>VehicleType</th>\n",
       "      <th>Gearbox</th>\n",
       "      <th>Model</th>\n",
       "      <th>FuelType</th>\n",
       "    </tr>\n",
       "  </thead>\n",
       "  <tbody>\n",
       "    <tr>\n",
       "      <th>0</th>\n",
       "      <td>alfa_romeo</td>\n",
       "      <td>sedan</td>\n",
       "      <td>manual</td>\n",
       "      <td>156</td>\n",
       "      <td>petrol</td>\n",
       "    </tr>\n",
       "    <tr>\n",
       "      <th>1</th>\n",
       "      <td>audi</td>\n",
       "      <td>wagon</td>\n",
       "      <td>manual</td>\n",
       "      <td>a4</td>\n",
       "      <td>petrol</td>\n",
       "    </tr>\n",
       "    <tr>\n",
       "      <th>2</th>\n",
       "      <td>bmw</td>\n",
       "      <td>sedan</td>\n",
       "      <td>manual</td>\n",
       "      <td>3er</td>\n",
       "      <td>petrol</td>\n",
       "    </tr>\n",
       "    <tr>\n",
       "      <th>3</th>\n",
       "      <td>chevrolet</td>\n",
       "      <td>small</td>\n",
       "      <td>manual</td>\n",
       "      <td>other</td>\n",
       "      <td>petrol</td>\n",
       "    </tr>\n",
       "    <tr>\n",
       "      <th>4</th>\n",
       "      <td>chrysler</td>\n",
       "      <td>bus</td>\n",
       "      <td>auto</td>\n",
       "      <td>other</td>\n",
       "      <td>petrol</td>\n",
       "    </tr>\n",
       "    <tr>\n",
       "      <th>5</th>\n",
       "      <td>citroen</td>\n",
       "      <td>small</td>\n",
       "      <td>manual</td>\n",
       "      <td>other</td>\n",
       "      <td>petrol</td>\n",
       "    </tr>\n",
       "    <tr>\n",
       "      <th>6</th>\n",
       "      <td>dacia</td>\n",
       "      <td>suv</td>\n",
       "      <td>manual</td>\n",
       "      <td>logan</td>\n",
       "      <td>petrol</td>\n",
       "    </tr>\n",
       "    <tr>\n",
       "      <th>7</th>\n",
       "      <td>daewoo</td>\n",
       "      <td>small</td>\n",
       "      <td>manual</td>\n",
       "      <td>matiz</td>\n",
       "      <td>petrol</td>\n",
       "    </tr>\n",
       "    <tr>\n",
       "      <th>8</th>\n",
       "      <td>daihatsu</td>\n",
       "      <td>small</td>\n",
       "      <td>manual</td>\n",
       "      <td>cuore</td>\n",
       "      <td>petrol</td>\n",
       "    </tr>\n",
       "    <tr>\n",
       "      <th>9</th>\n",
       "      <td>fiat</td>\n",
       "      <td>small</td>\n",
       "      <td>manual</td>\n",
       "      <td>punto</td>\n",
       "      <td>petrol</td>\n",
       "    </tr>\n",
       "    <tr>\n",
       "      <th>10</th>\n",
       "      <td>ford</td>\n",
       "      <td>small</td>\n",
       "      <td>manual</td>\n",
       "      <td>focus</td>\n",
       "      <td>petrol</td>\n",
       "    </tr>\n",
       "    <tr>\n",
       "      <th>11</th>\n",
       "      <td>honda</td>\n",
       "      <td>sedan</td>\n",
       "      <td>manual</td>\n",
       "      <td>civic</td>\n",
       "      <td>petrol</td>\n",
       "    </tr>\n",
       "    <tr>\n",
       "      <th>12</th>\n",
       "      <td>hyundai</td>\n",
       "      <td>small</td>\n",
       "      <td>manual</td>\n",
       "      <td>i_reihe</td>\n",
       "      <td>petrol</td>\n",
       "    </tr>\n",
       "    <tr>\n",
       "      <th>13</th>\n",
       "      <td>jaguar</td>\n",
       "      <td>sedan</td>\n",
       "      <td>auto</td>\n",
       "      <td>other</td>\n",
       "      <td>petrol</td>\n",
       "    </tr>\n",
       "    <tr>\n",
       "      <th>14</th>\n",
       "      <td>jeep</td>\n",
       "      <td>suv</td>\n",
       "      <td>auto</td>\n",
       "      <td>grand</td>\n",
       "      <td>petrol</td>\n",
       "    </tr>\n",
       "    <tr>\n",
       "      <th>15</th>\n",
       "      <td>kia</td>\n",
       "      <td>suv</td>\n",
       "      <td>manual</td>\n",
       "      <td>other</td>\n",
       "      <td>petrol</td>\n",
       "    </tr>\n",
       "    <tr>\n",
       "      <th>16</th>\n",
       "      <td>lada</td>\n",
       "      <td>suv</td>\n",
       "      <td>manual</td>\n",
       "      <td>niva</td>\n",
       "      <td>petrol</td>\n",
       "    </tr>\n",
       "    <tr>\n",
       "      <th>17</th>\n",
       "      <td>lancia</td>\n",
       "      <td>small</td>\n",
       "      <td>manual</td>\n",
       "      <td>ypsilon</td>\n",
       "      <td>petrol</td>\n",
       "    </tr>\n",
       "    <tr>\n",
       "      <th>18</th>\n",
       "      <td>land_rover</td>\n",
       "      <td>suv</td>\n",
       "      <td>manual</td>\n",
       "      <td>freelander</td>\n",
       "      <td>gasoline</td>\n",
       "    </tr>\n",
       "    <tr>\n",
       "      <th>19</th>\n",
       "      <td>mazda</td>\n",
       "      <td>sedan</td>\n",
       "      <td>manual</td>\n",
       "      <td>6_reihe</td>\n",
       "      <td>petrol</td>\n",
       "    </tr>\n",
       "    <tr>\n",
       "      <th>20</th>\n",
       "      <td>mercedes_benz</td>\n",
       "      <td>sedan</td>\n",
       "      <td>auto</td>\n",
       "      <td>c_klasse</td>\n",
       "      <td>petrol</td>\n",
       "    </tr>\n",
       "    <tr>\n",
       "      <th>21</th>\n",
       "      <td>mini</td>\n",
       "      <td>small</td>\n",
       "      <td>manual</td>\n",
       "      <td>cooper</td>\n",
       "      <td>petrol</td>\n",
       "    </tr>\n",
       "    <tr>\n",
       "      <th>22</th>\n",
       "      <td>mitsubishi</td>\n",
       "      <td>sedan</td>\n",
       "      <td>manual</td>\n",
       "      <td>colt</td>\n",
       "      <td>petrol</td>\n",
       "    </tr>\n",
       "    <tr>\n",
       "      <th>23</th>\n",
       "      <td>nissan</td>\n",
       "      <td>small</td>\n",
       "      <td>manual</td>\n",
       "      <td>micra</td>\n",
       "      <td>petrol</td>\n",
       "    </tr>\n",
       "    <tr>\n",
       "      <th>24</th>\n",
       "      <td>opel</td>\n",
       "      <td>small</td>\n",
       "      <td>manual</td>\n",
       "      <td>corsa</td>\n",
       "      <td>petrol</td>\n",
       "    </tr>\n",
       "    <tr>\n",
       "      <th>25</th>\n",
       "      <td>peugeot</td>\n",
       "      <td>small</td>\n",
       "      <td>manual</td>\n",
       "      <td>2_reihe</td>\n",
       "      <td>petrol</td>\n",
       "    </tr>\n",
       "    <tr>\n",
       "      <th>26</th>\n",
       "      <td>porsche</td>\n",
       "      <td>convertible</td>\n",
       "      <td>manual</td>\n",
       "      <td>boxster</td>\n",
       "      <td>petrol</td>\n",
       "    </tr>\n",
       "    <tr>\n",
       "      <th>27</th>\n",
       "      <td>renault</td>\n",
       "      <td>small</td>\n",
       "      <td>manual</td>\n",
       "      <td>twingo</td>\n",
       "      <td>petrol</td>\n",
       "    </tr>\n",
       "    <tr>\n",
       "      <th>28</th>\n",
       "      <td>rover</td>\n",
       "      <td>sedan</td>\n",
       "      <td>manual</td>\n",
       "      <td>other</td>\n",
       "      <td>petrol</td>\n",
       "    </tr>\n",
       "    <tr>\n",
       "      <th>29</th>\n",
       "      <td>saab</td>\n",
       "      <td>sedan</td>\n",
       "      <td>manual</td>\n",
       "      <td>other</td>\n",
       "      <td>petrol</td>\n",
       "    </tr>\n",
       "    <tr>\n",
       "      <th>30</th>\n",
       "      <td>seat</td>\n",
       "      <td>small</td>\n",
       "      <td>manual</td>\n",
       "      <td>ibiza</td>\n",
       "      <td>petrol</td>\n",
       "    </tr>\n",
       "    <tr>\n",
       "      <th>31</th>\n",
       "      <td>skoda</td>\n",
       "      <td>wagon</td>\n",
       "      <td>manual</td>\n",
       "      <td>fabia</td>\n",
       "      <td>petrol</td>\n",
       "    </tr>\n",
       "    <tr>\n",
       "      <th>32</th>\n",
       "      <td>smart</td>\n",
       "      <td>small</td>\n",
       "      <td>auto</td>\n",
       "      <td>fortwo</td>\n",
       "      <td>petrol</td>\n",
       "    </tr>\n",
       "    <tr>\n",
       "      <th>33</th>\n",
       "      <td>sonstige_autos</td>\n",
       "      <td>suv</td>\n",
       "      <td>manual</td>\n",
       "      <td>unknown</td>\n",
       "      <td>petrol</td>\n",
       "    </tr>\n",
       "    <tr>\n",
       "      <th>34</th>\n",
       "      <td>subaru</td>\n",
       "      <td>wagon</td>\n",
       "      <td>manual</td>\n",
       "      <td>impreza</td>\n",
       "      <td>petrol</td>\n",
       "    </tr>\n",
       "    <tr>\n",
       "      <th>35</th>\n",
       "      <td>suzuki</td>\n",
       "      <td>small</td>\n",
       "      <td>manual</td>\n",
       "      <td>other</td>\n",
       "      <td>petrol</td>\n",
       "    </tr>\n",
       "    <tr>\n",
       "      <th>36</th>\n",
       "      <td>toyota</td>\n",
       "      <td>small</td>\n",
       "      <td>manual</td>\n",
       "      <td>yaris</td>\n",
       "      <td>petrol</td>\n",
       "    </tr>\n",
       "    <tr>\n",
       "      <th>37</th>\n",
       "      <td>trabant</td>\n",
       "      <td>sedan</td>\n",
       "      <td>manual</td>\n",
       "      <td>601</td>\n",
       "      <td>petrol</td>\n",
       "    </tr>\n",
       "    <tr>\n",
       "      <th>38</th>\n",
       "      <td>volkswagen</td>\n",
       "      <td>sedan</td>\n",
       "      <td>manual</td>\n",
       "      <td>golf</td>\n",
       "      <td>petrol</td>\n",
       "    </tr>\n",
       "    <tr>\n",
       "      <th>39</th>\n",
       "      <td>volvo</td>\n",
       "      <td>wagon</td>\n",
       "      <td>manual</td>\n",
       "      <td>v40</td>\n",
       "      <td>petrol</td>\n",
       "    </tr>\n",
       "  </tbody>\n",
       "</table>\n",
       "</div>"
      ],
      "text/plain": [
       "             Brand  VehicleType Gearbox       Model  FuelType\n",
       "0       alfa_romeo        sedan  manual         156    petrol\n",
       "1             audi        wagon  manual          a4    petrol\n",
       "2              bmw        sedan  manual         3er    petrol\n",
       "3        chevrolet        small  manual       other    petrol\n",
       "4         chrysler          bus    auto       other    petrol\n",
       "5          citroen        small  manual       other    petrol\n",
       "6            dacia          suv  manual       logan    petrol\n",
       "7           daewoo        small  manual       matiz    petrol\n",
       "8         daihatsu        small  manual       cuore    petrol\n",
       "9             fiat        small  manual       punto    petrol\n",
       "10            ford        small  manual       focus    petrol\n",
       "11           honda        sedan  manual       civic    petrol\n",
       "12         hyundai        small  manual     i_reihe    petrol\n",
       "13          jaguar        sedan    auto       other    petrol\n",
       "14            jeep          suv    auto       grand    petrol\n",
       "15             kia          suv  manual       other    petrol\n",
       "16            lada          suv  manual        niva    petrol\n",
       "17          lancia        small  manual     ypsilon    petrol\n",
       "18      land_rover          suv  manual  freelander  gasoline\n",
       "19           mazda        sedan  manual     6_reihe    petrol\n",
       "20   mercedes_benz        sedan    auto    c_klasse    petrol\n",
       "21            mini        small  manual      cooper    petrol\n",
       "22      mitsubishi        sedan  manual        colt    petrol\n",
       "23          nissan        small  manual       micra    petrol\n",
       "24            opel        small  manual       corsa    petrol\n",
       "25         peugeot        small  manual     2_reihe    petrol\n",
       "26         porsche  convertible  manual     boxster    petrol\n",
       "27         renault        small  manual      twingo    petrol\n",
       "28           rover        sedan  manual       other    petrol\n",
       "29            saab        sedan  manual       other    petrol\n",
       "30            seat        small  manual       ibiza    petrol\n",
       "31           skoda        wagon  manual       fabia    petrol\n",
       "32           smart        small    auto      fortwo    petrol\n",
       "33  sonstige_autos          suv  manual     unknown    petrol\n",
       "34          subaru        wagon  manual     impreza    petrol\n",
       "35          suzuki        small  manual       other    petrol\n",
       "36          toyota        small  manual       yaris    petrol\n",
       "37         trabant        sedan  manual         601    petrol\n",
       "38      volkswagen        sedan  manual        golf    petrol\n",
       "39           volvo        wagon  manual         v40    petrol"
      ]
     },
     "execution_count": 34,
     "metadata": {},
     "output_type": "execute_result"
    }
   ],
   "source": [
    "mode_by_brand = get_mode_by_column(df_train, 'Brand', ['VehicleType', 'Gearbox', 'Model', 'FuelType'])\n",
    "mode_by_brand"
   ]
  },
  {
   "cell_type": "markdown",
   "metadata": {},
   "source": [
    "Получаю таблицу соответствия марки машины и самого частого значения для VehicleType, Gearbox, Model, FuelType."
   ]
  },
  {
   "cell_type": "code",
   "execution_count": 35,
   "metadata": {},
   "outputs": [],
   "source": [
    "def fillna_with_mode_by_column(fit_data, predict_data, dividing_column, columns):\n",
    "    mode_by_brand = get_mode_by_column(fit_data, dividing_column, columns)\n",
    "    mode_df = predict_data.merge(mode_by_brand, how='left', left_on=dividing_column, right_on=dividing_column)[[x + '_y' for x in columns]]\n",
    "    mode_df.columns = columns\n",
    "    mode_df = mode_df.set_index(predict_data.index)\n",
    "    return predict_data[columns].fillna(mode_df)"
   ]
  },
  {
   "cell_type": "markdown",
   "metadata": {},
   "source": [
    "Функция строит таблицу мод с помощью get_mode_by_column по обучающим данным, затем с помощью merge получает моду для каждой строки данных, которые нужно заполнить, затем заполняет пропущенные поля с помощью таблицы с модами."
   ]
  },
  {
   "cell_type": "code",
   "execution_count": 36,
   "metadata": {},
   "outputs": [
    {
     "data": {
      "text/html": [
       "<div>\n",
       "<style scoped>\n",
       "    .dataframe tbody tr th:only-of-type {\n",
       "        vertical-align: middle;\n",
       "    }\n",
       "\n",
       "    .dataframe tbody tr th {\n",
       "        vertical-align: top;\n",
       "    }\n",
       "\n",
       "    .dataframe thead th {\n",
       "        text-align: right;\n",
       "    }\n",
       "</style>\n",
       "<table border=\"1\" class=\"dataframe\">\n",
       "  <thead>\n",
       "    <tr style=\"text-align: right;\">\n",
       "      <th></th>\n",
       "      <th>VehicleType</th>\n",
       "      <th>Gearbox</th>\n",
       "      <th>Model</th>\n",
       "      <th>FuelType</th>\n",
       "    </tr>\n",
       "  </thead>\n",
       "  <tbody>\n",
       "    <tr>\n",
       "      <th>246550</th>\n",
       "      <td>bus</td>\n",
       "      <td>manual</td>\n",
       "      <td>caddy</td>\n",
       "      <td>gasoline</td>\n",
       "    </tr>\n",
       "    <tr>\n",
       "      <th>113274</th>\n",
       "      <td>small</td>\n",
       "      <td>manual</td>\n",
       "      <td>cooper</td>\n",
       "      <td>petrol</td>\n",
       "    </tr>\n",
       "    <tr>\n",
       "      <th>35527</th>\n",
       "      <td>coupe</td>\n",
       "      <td>manual</td>\n",
       "      <td>3er</td>\n",
       "      <td>petrol</td>\n",
       "    </tr>\n",
       "    <tr>\n",
       "      <th>321785</th>\n",
       "      <td>small</td>\n",
       "      <td>manual</td>\n",
       "      <td>other</td>\n",
       "      <td>petrol</td>\n",
       "    </tr>\n",
       "    <tr>\n",
       "      <th>115179</th>\n",
       "      <td>sedan</td>\n",
       "      <td>manual</td>\n",
       "      <td>golf</td>\n",
       "      <td>petrol</td>\n",
       "    </tr>\n",
       "    <tr>\n",
       "      <th>...</th>\n",
       "      <td>...</td>\n",
       "      <td>...</td>\n",
       "      <td>...</td>\n",
       "      <td>...</td>\n",
       "    </tr>\n",
       "    <tr>\n",
       "      <th>110268</th>\n",
       "      <td>wagon</td>\n",
       "      <td>auto</td>\n",
       "      <td>3er</td>\n",
       "      <td>gasoline</td>\n",
       "    </tr>\n",
       "    <tr>\n",
       "      <th>119879</th>\n",
       "      <td>small</td>\n",
       "      <td>manual</td>\n",
       "      <td>polo</td>\n",
       "      <td>petrol</td>\n",
       "    </tr>\n",
       "    <tr>\n",
       "      <th>131932</th>\n",
       "      <td>sedan</td>\n",
       "      <td>manual</td>\n",
       "      <td>5er</td>\n",
       "      <td>petrol</td>\n",
       "    </tr>\n",
       "    <tr>\n",
       "      <th>146867</th>\n",
       "      <td>sedan</td>\n",
       "      <td>manual</td>\n",
       "      <td>3er</td>\n",
       "      <td>gasoline</td>\n",
       "    </tr>\n",
       "    <tr>\n",
       "      <th>121958</th>\n",
       "      <td>small</td>\n",
       "      <td>manual</td>\n",
       "      <td>500</td>\n",
       "      <td>petrol</td>\n",
       "    </tr>\n",
       "  </tbody>\n",
       "</table>\n",
       "<p>207678 rows × 4 columns</p>\n",
       "</div>"
      ],
      "text/plain": [
       "       VehicleType Gearbox   Model  FuelType\n",
       "246550         bus  manual   caddy  gasoline\n",
       "113274       small  manual  cooper    petrol\n",
       "35527        coupe  manual     3er    petrol\n",
       "321785       small  manual   other    petrol\n",
       "115179       sedan  manual    golf    petrol\n",
       "...            ...     ...     ...       ...\n",
       "110268       wagon    auto     3er  gasoline\n",
       "119879       small  manual    polo    petrol\n",
       "131932       sedan  manual     5er    petrol\n",
       "146867       sedan  manual     3er  gasoline\n",
       "121958       small  manual     500    petrol\n",
       "\n",
       "[207678 rows x 4 columns]"
      ]
     },
     "execution_count": 36,
     "metadata": {},
     "output_type": "execute_result"
    }
   ],
   "source": [
    "df_train[['VehicleType', 'Gearbox', 'Model', 'FuelType']]"
   ]
  },
  {
   "cell_type": "code",
   "execution_count": 37,
   "metadata": {},
   "outputs": [
    {
     "data": {
      "text/html": [
       "<div>\n",
       "<style scoped>\n",
       "    .dataframe tbody tr th:only-of-type {\n",
       "        vertical-align: middle;\n",
       "    }\n",
       "\n",
       "    .dataframe tbody tr th {\n",
       "        vertical-align: top;\n",
       "    }\n",
       "\n",
       "    .dataframe thead th {\n",
       "        text-align: right;\n",
       "    }\n",
       "</style>\n",
       "<table border=\"1\" class=\"dataframe\">\n",
       "  <thead>\n",
       "    <tr style=\"text-align: right;\">\n",
       "      <th></th>\n",
       "      <th>VehicleType</th>\n",
       "      <th>Gearbox</th>\n",
       "      <th>Model</th>\n",
       "      <th>FuelType</th>\n",
       "    </tr>\n",
       "  </thead>\n",
       "  <tbody>\n",
       "    <tr>\n",
       "      <th>246550</th>\n",
       "      <td>bus</td>\n",
       "      <td>manual</td>\n",
       "      <td>caddy</td>\n",
       "      <td>gasoline</td>\n",
       "    </tr>\n",
       "    <tr>\n",
       "      <th>113274</th>\n",
       "      <td>small</td>\n",
       "      <td>manual</td>\n",
       "      <td>cooper</td>\n",
       "      <td>petrol</td>\n",
       "    </tr>\n",
       "    <tr>\n",
       "      <th>35527</th>\n",
       "      <td>coupe</td>\n",
       "      <td>manual</td>\n",
       "      <td>3er</td>\n",
       "      <td>petrol</td>\n",
       "    </tr>\n",
       "    <tr>\n",
       "      <th>321785</th>\n",
       "      <td>small</td>\n",
       "      <td>manual</td>\n",
       "      <td>other</td>\n",
       "      <td>petrol</td>\n",
       "    </tr>\n",
       "    <tr>\n",
       "      <th>115179</th>\n",
       "      <td>sedan</td>\n",
       "      <td>manual</td>\n",
       "      <td>golf</td>\n",
       "      <td>petrol</td>\n",
       "    </tr>\n",
       "    <tr>\n",
       "      <th>...</th>\n",
       "      <td>...</td>\n",
       "      <td>...</td>\n",
       "      <td>...</td>\n",
       "      <td>...</td>\n",
       "    </tr>\n",
       "    <tr>\n",
       "      <th>110268</th>\n",
       "      <td>wagon</td>\n",
       "      <td>auto</td>\n",
       "      <td>3er</td>\n",
       "      <td>gasoline</td>\n",
       "    </tr>\n",
       "    <tr>\n",
       "      <th>119879</th>\n",
       "      <td>small</td>\n",
       "      <td>manual</td>\n",
       "      <td>polo</td>\n",
       "      <td>petrol</td>\n",
       "    </tr>\n",
       "    <tr>\n",
       "      <th>131932</th>\n",
       "      <td>sedan</td>\n",
       "      <td>manual</td>\n",
       "      <td>5er</td>\n",
       "      <td>petrol</td>\n",
       "    </tr>\n",
       "    <tr>\n",
       "      <th>146867</th>\n",
       "      <td>sedan</td>\n",
       "      <td>manual</td>\n",
       "      <td>3er</td>\n",
       "      <td>gasoline</td>\n",
       "    </tr>\n",
       "    <tr>\n",
       "      <th>121958</th>\n",
       "      <td>small</td>\n",
       "      <td>manual</td>\n",
       "      <td>500</td>\n",
       "      <td>petrol</td>\n",
       "    </tr>\n",
       "  </tbody>\n",
       "</table>\n",
       "<p>207678 rows × 4 columns</p>\n",
       "</div>"
      ],
      "text/plain": [
       "       VehicleType Gearbox   Model  FuelType\n",
       "246550         bus  manual   caddy  gasoline\n",
       "113274       small  manual  cooper    petrol\n",
       "35527        coupe  manual     3er    petrol\n",
       "321785       small  manual   other    petrol\n",
       "115179       sedan  manual    golf    petrol\n",
       "...            ...     ...     ...       ...\n",
       "110268       wagon    auto     3er  gasoline\n",
       "119879       small  manual    polo    petrol\n",
       "131932       sedan  manual     5er    petrol\n",
       "146867       sedan  manual     3er  gasoline\n",
       "121958       small  manual     500    petrol\n",
       "\n",
       "[207678 rows x 4 columns]"
      ]
     },
     "execution_count": 37,
     "metadata": {},
     "output_type": "execute_result"
    }
   ],
   "source": [
    "df_train[['VehicleType', 'Gearbox', 'Model', 'FuelType']] = \\\n",
    "fillna_with_mode_by_column(df_train, df_train, 'Brand', ['VehicleType', 'Gearbox', 'Model', 'FuelType'])\n",
    "df_train[['VehicleType', 'Gearbox', 'Model', 'FuelType']]"
   ]
  },
  {
   "cell_type": "code",
   "execution_count": 38,
   "metadata": {},
   "outputs": [
    {
     "data": {
      "text/plain": [
       "DateCrawled              0\n",
       "Price                    0\n",
       "VehicleType              0\n",
       "RegistrationYear         0\n",
       "Gearbox                  0\n",
       "Power                    0\n",
       "Model                    0\n",
       "Kilometer                0\n",
       "RegistrationMonth        0\n",
       "FuelType                 0\n",
       "Brand                    0\n",
       "Repaired             30182\n",
       "DateCreated              0\n",
       "NumberOfPictures         0\n",
       "PostalCode               0\n",
       "LastSeen                 0\n",
       "dtype: int64"
      ]
     },
     "execution_count": 38,
     "metadata": {},
     "output_type": "execute_result"
    }
   ],
   "source": [
    "df_train.isna().sum()"
   ]
  },
  {
   "cell_type": "markdown",
   "metadata": {},
   "source": [
    "Заполняю пропущенные значения VehicleType, Gearbox, Model, FuelType в train."
   ]
  },
  {
   "cell_type": "code",
   "execution_count": 39,
   "metadata": {},
   "outputs": [
    {
     "data": {
      "text/html": [
       "<div>\n",
       "<style scoped>\n",
       "    .dataframe tbody tr th:only-of-type {\n",
       "        vertical-align: middle;\n",
       "    }\n",
       "\n",
       "    .dataframe tbody tr th {\n",
       "        vertical-align: top;\n",
       "    }\n",
       "\n",
       "    .dataframe thead th {\n",
       "        text-align: right;\n",
       "    }\n",
       "</style>\n",
       "<table border=\"1\" class=\"dataframe\">\n",
       "  <thead>\n",
       "    <tr style=\"text-align: right;\">\n",
       "      <th></th>\n",
       "      <th>VehicleType</th>\n",
       "      <th>Gearbox</th>\n",
       "      <th>Model</th>\n",
       "      <th>FuelType</th>\n",
       "    </tr>\n",
       "  </thead>\n",
       "  <tbody>\n",
       "    <tr>\n",
       "      <th>294049</th>\n",
       "      <td>wagon</td>\n",
       "      <td>manual</td>\n",
       "      <td>leon</td>\n",
       "      <td>petrol</td>\n",
       "    </tr>\n",
       "    <tr>\n",
       "      <th>76415</th>\n",
       "      <td>wagon</td>\n",
       "      <td>manual</td>\n",
       "      <td>a3</td>\n",
       "      <td>gasoline</td>\n",
       "    </tr>\n",
       "    <tr>\n",
       "      <th>212563</th>\n",
       "      <td>wagon</td>\n",
       "      <td>manual</td>\n",
       "      <td>passat</td>\n",
       "      <td>gasoline</td>\n",
       "    </tr>\n",
       "    <tr>\n",
       "      <th>109307</th>\n",
       "      <td>small</td>\n",
       "      <td>manual</td>\n",
       "      <td>corsa</td>\n",
       "      <td>petrol</td>\n",
       "    </tr>\n",
       "    <tr>\n",
       "      <th>248545</th>\n",
       "      <td>NaN</td>\n",
       "      <td>manual</td>\n",
       "      <td>a_klasse</td>\n",
       "      <td>petrol</td>\n",
       "    </tr>\n",
       "    <tr>\n",
       "      <th>...</th>\n",
       "      <td>...</td>\n",
       "      <td>...</td>\n",
       "      <td>...</td>\n",
       "      <td>...</td>\n",
       "    </tr>\n",
       "    <tr>\n",
       "      <th>254129</th>\n",
       "      <td>wagon</td>\n",
       "      <td>manual</td>\n",
       "      <td>3_reihe</td>\n",
       "      <td>petrol</td>\n",
       "    </tr>\n",
       "    <tr>\n",
       "      <th>185667</th>\n",
       "      <td>bus</td>\n",
       "      <td>manual</td>\n",
       "      <td>alhambra</td>\n",
       "      <td>petrol</td>\n",
       "    </tr>\n",
       "    <tr>\n",
       "      <th>58518</th>\n",
       "      <td>wagon</td>\n",
       "      <td>NaN</td>\n",
       "      <td>sharan</td>\n",
       "      <td>gasoline</td>\n",
       "    </tr>\n",
       "    <tr>\n",
       "      <th>54137</th>\n",
       "      <td>wagon</td>\n",
       "      <td>manual</td>\n",
       "      <td>laguna</td>\n",
       "      <td>petrol</td>\n",
       "    </tr>\n",
       "    <tr>\n",
       "      <th>177556</th>\n",
       "      <td>wagon</td>\n",
       "      <td>manual</td>\n",
       "      <td>astra</td>\n",
       "      <td>petrol</td>\n",
       "    </tr>\n",
       "  </tbody>\n",
       "</table>\n",
       "<p>106311 rows × 4 columns</p>\n",
       "</div>"
      ],
      "text/plain": [
       "       VehicleType Gearbox     Model  FuelType\n",
       "294049       wagon  manual      leon    petrol\n",
       "76415        wagon  manual        a3  gasoline\n",
       "212563       wagon  manual    passat  gasoline\n",
       "109307       small  manual     corsa    petrol\n",
       "248545         NaN  manual  a_klasse    petrol\n",
       "...            ...     ...       ...       ...\n",
       "254129       wagon  manual   3_reihe    petrol\n",
       "185667         bus  manual  alhambra    petrol\n",
       "58518        wagon     NaN    sharan  gasoline\n",
       "54137        wagon  manual    laguna    petrol\n",
       "177556       wagon  manual     astra    petrol\n",
       "\n",
       "[106311 rows x 4 columns]"
      ]
     },
     "execution_count": 39,
     "metadata": {},
     "output_type": "execute_result"
    }
   ],
   "source": [
    "df_test[['VehicleType', 'Gearbox', 'Model', 'FuelType']]"
   ]
  },
  {
   "cell_type": "code",
   "execution_count": 40,
   "metadata": {},
   "outputs": [
    {
     "data": {
      "text/html": [
       "<div>\n",
       "<style scoped>\n",
       "    .dataframe tbody tr th:only-of-type {\n",
       "        vertical-align: middle;\n",
       "    }\n",
       "\n",
       "    .dataframe tbody tr th {\n",
       "        vertical-align: top;\n",
       "    }\n",
       "\n",
       "    .dataframe thead th {\n",
       "        text-align: right;\n",
       "    }\n",
       "</style>\n",
       "<table border=\"1\" class=\"dataframe\">\n",
       "  <thead>\n",
       "    <tr style=\"text-align: right;\">\n",
       "      <th></th>\n",
       "      <th>VehicleType</th>\n",
       "      <th>Gearbox</th>\n",
       "      <th>Model</th>\n",
       "      <th>FuelType</th>\n",
       "    </tr>\n",
       "  </thead>\n",
       "  <tbody>\n",
       "    <tr>\n",
       "      <th>294049</th>\n",
       "      <td>wagon</td>\n",
       "      <td>manual</td>\n",
       "      <td>leon</td>\n",
       "      <td>petrol</td>\n",
       "    </tr>\n",
       "    <tr>\n",
       "      <th>76415</th>\n",
       "      <td>wagon</td>\n",
       "      <td>manual</td>\n",
       "      <td>a3</td>\n",
       "      <td>gasoline</td>\n",
       "    </tr>\n",
       "    <tr>\n",
       "      <th>212563</th>\n",
       "      <td>wagon</td>\n",
       "      <td>manual</td>\n",
       "      <td>passat</td>\n",
       "      <td>gasoline</td>\n",
       "    </tr>\n",
       "    <tr>\n",
       "      <th>109307</th>\n",
       "      <td>small</td>\n",
       "      <td>manual</td>\n",
       "      <td>corsa</td>\n",
       "      <td>petrol</td>\n",
       "    </tr>\n",
       "    <tr>\n",
       "      <th>248545</th>\n",
       "      <td>sedan</td>\n",
       "      <td>manual</td>\n",
       "      <td>a_klasse</td>\n",
       "      <td>petrol</td>\n",
       "    </tr>\n",
       "    <tr>\n",
       "      <th>...</th>\n",
       "      <td>...</td>\n",
       "      <td>...</td>\n",
       "      <td>...</td>\n",
       "      <td>...</td>\n",
       "    </tr>\n",
       "    <tr>\n",
       "      <th>254129</th>\n",
       "      <td>wagon</td>\n",
       "      <td>manual</td>\n",
       "      <td>3_reihe</td>\n",
       "      <td>petrol</td>\n",
       "    </tr>\n",
       "    <tr>\n",
       "      <th>185667</th>\n",
       "      <td>bus</td>\n",
       "      <td>manual</td>\n",
       "      <td>alhambra</td>\n",
       "      <td>petrol</td>\n",
       "    </tr>\n",
       "    <tr>\n",
       "      <th>58518</th>\n",
       "      <td>wagon</td>\n",
       "      <td>manual</td>\n",
       "      <td>sharan</td>\n",
       "      <td>gasoline</td>\n",
       "    </tr>\n",
       "    <tr>\n",
       "      <th>54137</th>\n",
       "      <td>wagon</td>\n",
       "      <td>manual</td>\n",
       "      <td>laguna</td>\n",
       "      <td>petrol</td>\n",
       "    </tr>\n",
       "    <tr>\n",
       "      <th>177556</th>\n",
       "      <td>wagon</td>\n",
       "      <td>manual</td>\n",
       "      <td>astra</td>\n",
       "      <td>petrol</td>\n",
       "    </tr>\n",
       "  </tbody>\n",
       "</table>\n",
       "<p>106311 rows × 4 columns</p>\n",
       "</div>"
      ],
      "text/plain": [
       "       VehicleType Gearbox     Model  FuelType\n",
       "294049       wagon  manual      leon    petrol\n",
       "76415        wagon  manual        a3  gasoline\n",
       "212563       wagon  manual    passat  gasoline\n",
       "109307       small  manual     corsa    petrol\n",
       "248545       sedan  manual  a_klasse    petrol\n",
       "...            ...     ...       ...       ...\n",
       "254129       wagon  manual   3_reihe    petrol\n",
       "185667         bus  manual  alhambra    petrol\n",
       "58518        wagon  manual    sharan  gasoline\n",
       "54137        wagon  manual    laguna    petrol\n",
       "177556       wagon  manual     astra    petrol\n",
       "\n",
       "[106311 rows x 4 columns]"
      ]
     },
     "execution_count": 40,
     "metadata": {},
     "output_type": "execute_result"
    }
   ],
   "source": [
    "df_test[['VehicleType', 'Gearbox', 'Model', 'FuelType']] = \\\n",
    "fillna_with_mode_by_column(df_train, df_test, 'Brand', ['VehicleType', 'Gearbox', 'Model', 'FuelType'])\n",
    "df_test[['VehicleType', 'Gearbox', 'Model', 'FuelType']]"
   ]
  },
  {
   "cell_type": "code",
   "execution_count": 41,
   "metadata": {},
   "outputs": [
    {
     "data": {
      "text/plain": [
       "DateCrawled              0\n",
       "Price                    0\n",
       "VehicleType              0\n",
       "RegistrationYear         0\n",
       "Gearbox                  0\n",
       "Power                    0\n",
       "Model                    0\n",
       "Kilometer                0\n",
       "RegistrationMonth        0\n",
       "FuelType                 0\n",
       "Brand                    0\n",
       "Repaired             21200\n",
       "DateCreated              0\n",
       "NumberOfPictures         0\n",
       "PostalCode               0\n",
       "LastSeen                 0\n",
       "dtype: int64"
      ]
     },
     "execution_count": 41,
     "metadata": {},
     "output_type": "execute_result"
    }
   ],
   "source": [
    "df_test.isna().sum()"
   ]
  },
  {
   "cell_type": "markdown",
   "metadata": {},
   "source": [
    "Заполняю в df_test пустые значения столбцов на VehicleType, Gearbox, Model, FuelType."
   ]
  },
  {
   "cell_type": "code",
   "execution_count": 42,
   "metadata": {},
   "outputs": [],
   "source": [
    "df_train['Repaired'] = df_train.loc[:, 'Repaired'].fillna('unknown')"
   ]
  },
  {
   "cell_type": "code",
   "execution_count": 43,
   "metadata": {},
   "outputs": [],
   "source": [
    "df_test['Repaired'] = df_test.loc[:, 'Repaired'].fillna('unknown')"
   ]
  },
  {
   "cell_type": "code",
   "execution_count": 44,
   "metadata": {},
   "outputs": [
    {
     "data": {
      "text/plain": [
       "DateCrawled          0\n",
       "Price                0\n",
       "VehicleType          0\n",
       "RegistrationYear     0\n",
       "Gearbox              0\n",
       "Power                0\n",
       "Model                0\n",
       "Kilometer            0\n",
       "RegistrationMonth    0\n",
       "FuelType             0\n",
       "Brand                0\n",
       "Repaired             0\n",
       "DateCreated          0\n",
       "NumberOfPictures     0\n",
       "PostalCode           0\n",
       "LastSeen             0\n",
       "dtype: int64"
      ]
     },
     "execution_count": 44,
     "metadata": {},
     "output_type": "execute_result"
    }
   ],
   "source": [
    "df_train.isna().sum()"
   ]
  },
  {
   "cell_type": "code",
   "execution_count": 45,
   "metadata": {},
   "outputs": [
    {
     "data": {
      "text/plain": [
       "DateCrawled          0\n",
       "Price                0\n",
       "VehicleType          0\n",
       "RegistrationYear     0\n",
       "Gearbox              0\n",
       "Power                0\n",
       "Model                0\n",
       "Kilometer            0\n",
       "RegistrationMonth    0\n",
       "FuelType             0\n",
       "Brand                0\n",
       "Repaired             0\n",
       "DateCreated          0\n",
       "NumberOfPictures     0\n",
       "PostalCode           0\n",
       "LastSeen             0\n",
       "dtype: int64"
      ]
     },
     "execution_count": 45,
     "metadata": {},
     "output_type": "execute_result"
    }
   ],
   "source": [
    "df_test.isna().sum()"
   ]
  },
  {
   "cell_type": "markdown",
   "metadata": {},
   "source": [
    "Заполнила все пропуски в Repaired на unknown"
   ]
  },
  {
   "cell_type": "code",
   "execution_count": 46,
   "metadata": {},
   "outputs": [
    {
     "data": {
      "text/html": [
       "<div>\n",
       "<style scoped>\n",
       "    .dataframe tbody tr th:only-of-type {\n",
       "        vertical-align: middle;\n",
       "    }\n",
       "\n",
       "    .dataframe tbody tr th {\n",
       "        vertical-align: top;\n",
       "    }\n",
       "\n",
       "    .dataframe thead th {\n",
       "        text-align: right;\n",
       "    }\n",
       "</style>\n",
       "<table border=\"1\" class=\"dataframe\">\n",
       "  <thead>\n",
       "    <tr style=\"text-align: right;\">\n",
       "      <th></th>\n",
       "      <th>VehicleType</th>\n",
       "      <th>Gearbox</th>\n",
       "      <th>Model</th>\n",
       "      <th>FuelType</th>\n",
       "      <th>Brand</th>\n",
       "      <th>Repaired</th>\n",
       "      <th>RegistrationYear</th>\n",
       "      <th>Power</th>\n",
       "      <th>Kilometer</th>\n",
       "    </tr>\n",
       "  </thead>\n",
       "  <tbody>\n",
       "    <tr>\n",
       "      <th>246550</th>\n",
       "      <td>bus</td>\n",
       "      <td>manual</td>\n",
       "      <td>caddy</td>\n",
       "      <td>gasoline</td>\n",
       "      <td>volkswagen</td>\n",
       "      <td>no</td>\n",
       "      <td>2005</td>\n",
       "      <td>105</td>\n",
       "      <td>150000</td>\n",
       "    </tr>\n",
       "    <tr>\n",
       "      <th>113274</th>\n",
       "      <td>small</td>\n",
       "      <td>manual</td>\n",
       "      <td>cooper</td>\n",
       "      <td>petrol</td>\n",
       "      <td>mini</td>\n",
       "      <td>no</td>\n",
       "      <td>2002</td>\n",
       "      <td>116</td>\n",
       "      <td>125000</td>\n",
       "    </tr>\n",
       "    <tr>\n",
       "      <th>35527</th>\n",
       "      <td>coupe</td>\n",
       "      <td>manual</td>\n",
       "      <td>3er</td>\n",
       "      <td>petrol</td>\n",
       "      <td>bmw</td>\n",
       "      <td>no</td>\n",
       "      <td>2002</td>\n",
       "      <td>170</td>\n",
       "      <td>125000</td>\n",
       "    </tr>\n",
       "    <tr>\n",
       "      <th>321785</th>\n",
       "      <td>small</td>\n",
       "      <td>manual</td>\n",
       "      <td>other</td>\n",
       "      <td>petrol</td>\n",
       "      <td>alfa_romeo</td>\n",
       "      <td>unknown</td>\n",
       "      <td>2009</td>\n",
       "      <td>155</td>\n",
       "      <td>80000</td>\n",
       "    </tr>\n",
       "    <tr>\n",
       "      <th>115179</th>\n",
       "      <td>sedan</td>\n",
       "      <td>manual</td>\n",
       "      <td>golf</td>\n",
       "      <td>petrol</td>\n",
       "      <td>volkswagen</td>\n",
       "      <td>no</td>\n",
       "      <td>1999</td>\n",
       "      <td>75</td>\n",
       "      <td>150000</td>\n",
       "    </tr>\n",
       "    <tr>\n",
       "      <th>...</th>\n",
       "      <td>...</td>\n",
       "      <td>...</td>\n",
       "      <td>...</td>\n",
       "      <td>...</td>\n",
       "      <td>...</td>\n",
       "      <td>...</td>\n",
       "      <td>...</td>\n",
       "      <td>...</td>\n",
       "      <td>...</td>\n",
       "    </tr>\n",
       "    <tr>\n",
       "      <th>110268</th>\n",
       "      <td>wagon</td>\n",
       "      <td>auto</td>\n",
       "      <td>3er</td>\n",
       "      <td>gasoline</td>\n",
       "      <td>bmw</td>\n",
       "      <td>no</td>\n",
       "      <td>2007</td>\n",
       "      <td>286</td>\n",
       "      <td>150000</td>\n",
       "    </tr>\n",
       "    <tr>\n",
       "      <th>119879</th>\n",
       "      <td>small</td>\n",
       "      <td>manual</td>\n",
       "      <td>polo</td>\n",
       "      <td>petrol</td>\n",
       "      <td>volkswagen</td>\n",
       "      <td>yes</td>\n",
       "      <td>1998</td>\n",
       "      <td>50</td>\n",
       "      <td>150000</td>\n",
       "    </tr>\n",
       "    <tr>\n",
       "      <th>131932</th>\n",
       "      <td>sedan</td>\n",
       "      <td>manual</td>\n",
       "      <td>5er</td>\n",
       "      <td>petrol</td>\n",
       "      <td>bmw</td>\n",
       "      <td>no</td>\n",
       "      <td>2004</td>\n",
       "      <td>192</td>\n",
       "      <td>150000</td>\n",
       "    </tr>\n",
       "    <tr>\n",
       "      <th>146867</th>\n",
       "      <td>sedan</td>\n",
       "      <td>manual</td>\n",
       "      <td>3er</td>\n",
       "      <td>gasoline</td>\n",
       "      <td>bmw</td>\n",
       "      <td>no</td>\n",
       "      <td>2004</td>\n",
       "      <td>150</td>\n",
       "      <td>150000</td>\n",
       "    </tr>\n",
       "    <tr>\n",
       "      <th>121958</th>\n",
       "      <td>small</td>\n",
       "      <td>manual</td>\n",
       "      <td>500</td>\n",
       "      <td>petrol</td>\n",
       "      <td>fiat</td>\n",
       "      <td>no</td>\n",
       "      <td>2014</td>\n",
       "      <td>69</td>\n",
       "      <td>30000</td>\n",
       "    </tr>\n",
       "  </tbody>\n",
       "</table>\n",
       "<p>207678 rows × 9 columns</p>\n",
       "</div>"
      ],
      "text/plain": [
       "       VehicleType Gearbox   Model  FuelType       Brand Repaired  \\\n",
       "246550         bus  manual   caddy  gasoline  volkswagen       no   \n",
       "113274       small  manual  cooper    petrol        mini       no   \n",
       "35527        coupe  manual     3er    petrol         bmw       no   \n",
       "321785       small  manual   other    petrol  alfa_romeo  unknown   \n",
       "115179       sedan  manual    golf    petrol  volkswagen       no   \n",
       "...            ...     ...     ...       ...         ...      ...   \n",
       "110268       wagon    auto     3er  gasoline         bmw       no   \n",
       "119879       small  manual    polo    petrol  volkswagen      yes   \n",
       "131932       sedan  manual     5er    petrol         bmw       no   \n",
       "146867       sedan  manual     3er  gasoline         bmw       no   \n",
       "121958       small  manual     500    petrol        fiat       no   \n",
       "\n",
       "        RegistrationYear  Power  Kilometer  \n",
       "246550              2005    105     150000  \n",
       "113274              2002    116     125000  \n",
       "35527               2002    170     125000  \n",
       "321785              2009    155      80000  \n",
       "115179              1999     75     150000  \n",
       "...                  ...    ...        ...  \n",
       "110268              2007    286     150000  \n",
       "119879              1998     50     150000  \n",
       "131932              2004    192     150000  \n",
       "146867              2004    150     150000  \n",
       "121958              2014     69      30000  \n",
       "\n",
       "[207678 rows x 9 columns]"
      ]
     },
     "execution_count": 46,
     "metadata": {},
     "output_type": "execute_result"
    }
   ],
   "source": [
    "X_train = df_train[cat_columns + num_columns]\n",
    "X_train"
   ]
  },
  {
   "cell_type": "code",
   "execution_count": 47,
   "metadata": {},
   "outputs": [
    {
     "data": {
      "text/plain": [
       "246550     4600\n",
       "113274     5300\n",
       "35527      4990\n",
       "321785     6499\n",
       "115179     1400\n",
       "          ...  \n",
       "110268    13600\n",
       "119879      200\n",
       "131932    12525\n",
       "146867     4444\n",
       "121958     9999\n",
       "Name: Price, Length: 207678, dtype: int64"
      ]
     },
     "execution_count": 47,
     "metadata": {},
     "output_type": "execute_result"
    }
   ],
   "source": [
    "y_train = df_train['Price']\n",
    "y_train"
   ]
  },
  {
   "cell_type": "code",
   "execution_count": 48,
   "metadata": {},
   "outputs": [
    {
     "data": {
      "text/html": [
       "<div>\n",
       "<style scoped>\n",
       "    .dataframe tbody tr th:only-of-type {\n",
       "        vertical-align: middle;\n",
       "    }\n",
       "\n",
       "    .dataframe tbody tr th {\n",
       "        vertical-align: top;\n",
       "    }\n",
       "\n",
       "    .dataframe thead th {\n",
       "        text-align: right;\n",
       "    }\n",
       "</style>\n",
       "<table border=\"1\" class=\"dataframe\">\n",
       "  <thead>\n",
       "    <tr style=\"text-align: right;\">\n",
       "      <th></th>\n",
       "      <th>VehicleType</th>\n",
       "      <th>Gearbox</th>\n",
       "      <th>Model</th>\n",
       "      <th>FuelType</th>\n",
       "      <th>Brand</th>\n",
       "      <th>Repaired</th>\n",
       "      <th>RegistrationYear</th>\n",
       "      <th>Power</th>\n",
       "      <th>Kilometer</th>\n",
       "    </tr>\n",
       "  </thead>\n",
       "  <tbody>\n",
       "    <tr>\n",
       "      <th>294049</th>\n",
       "      <td>wagon</td>\n",
       "      <td>manual</td>\n",
       "      <td>leon</td>\n",
       "      <td>petrol</td>\n",
       "      <td>seat</td>\n",
       "      <td>no</td>\n",
       "      <td>2014</td>\n",
       "      <td>122</td>\n",
       "      <td>30000</td>\n",
       "    </tr>\n",
       "    <tr>\n",
       "      <th>76415</th>\n",
       "      <td>wagon</td>\n",
       "      <td>manual</td>\n",
       "      <td>a3</td>\n",
       "      <td>gasoline</td>\n",
       "      <td>audi</td>\n",
       "      <td>unknown</td>\n",
       "      <td>2011</td>\n",
       "      <td>140</td>\n",
       "      <td>70000</td>\n",
       "    </tr>\n",
       "    <tr>\n",
       "      <th>212563</th>\n",
       "      <td>wagon</td>\n",
       "      <td>manual</td>\n",
       "      <td>passat</td>\n",
       "      <td>gasoline</td>\n",
       "      <td>volkswagen</td>\n",
       "      <td>no</td>\n",
       "      <td>2001</td>\n",
       "      <td>131</td>\n",
       "      <td>150000</td>\n",
       "    </tr>\n",
       "    <tr>\n",
       "      <th>109307</th>\n",
       "      <td>small</td>\n",
       "      <td>manual</td>\n",
       "      <td>corsa</td>\n",
       "      <td>petrol</td>\n",
       "      <td>opel</td>\n",
       "      <td>yes</td>\n",
       "      <td>1996</td>\n",
       "      <td>60</td>\n",
       "      <td>150000</td>\n",
       "    </tr>\n",
       "    <tr>\n",
       "      <th>248545</th>\n",
       "      <td>sedan</td>\n",
       "      <td>manual</td>\n",
       "      <td>a_klasse</td>\n",
       "      <td>petrol</td>\n",
       "      <td>mercedes_benz</td>\n",
       "      <td>unknown</td>\n",
       "      <td>2016</td>\n",
       "      <td>82</td>\n",
       "      <td>150000</td>\n",
       "    </tr>\n",
       "    <tr>\n",
       "      <th>...</th>\n",
       "      <td>...</td>\n",
       "      <td>...</td>\n",
       "      <td>...</td>\n",
       "      <td>...</td>\n",
       "      <td>...</td>\n",
       "      <td>...</td>\n",
       "      <td>...</td>\n",
       "      <td>...</td>\n",
       "      <td>...</td>\n",
       "    </tr>\n",
       "    <tr>\n",
       "      <th>254129</th>\n",
       "      <td>wagon</td>\n",
       "      <td>manual</td>\n",
       "      <td>3_reihe</td>\n",
       "      <td>petrol</td>\n",
       "      <td>peugeot</td>\n",
       "      <td>no</td>\n",
       "      <td>2008</td>\n",
       "      <td>120</td>\n",
       "      <td>100000</td>\n",
       "    </tr>\n",
       "    <tr>\n",
       "      <th>185667</th>\n",
       "      <td>bus</td>\n",
       "      <td>manual</td>\n",
       "      <td>alhambra</td>\n",
       "      <td>petrol</td>\n",
       "      <td>seat</td>\n",
       "      <td>no</td>\n",
       "      <td>2000</td>\n",
       "      <td>116</td>\n",
       "      <td>150000</td>\n",
       "    </tr>\n",
       "    <tr>\n",
       "      <th>58518</th>\n",
       "      <td>wagon</td>\n",
       "      <td>manual</td>\n",
       "      <td>sharan</td>\n",
       "      <td>gasoline</td>\n",
       "      <td>volkswagen</td>\n",
       "      <td>unknown</td>\n",
       "      <td>2003</td>\n",
       "      <td>0</td>\n",
       "      <td>150000</td>\n",
       "    </tr>\n",
       "    <tr>\n",
       "      <th>54137</th>\n",
       "      <td>wagon</td>\n",
       "      <td>manual</td>\n",
       "      <td>laguna</td>\n",
       "      <td>petrol</td>\n",
       "      <td>renault</td>\n",
       "      <td>no</td>\n",
       "      <td>2003</td>\n",
       "      <td>120</td>\n",
       "      <td>150000</td>\n",
       "    </tr>\n",
       "    <tr>\n",
       "      <th>177556</th>\n",
       "      <td>wagon</td>\n",
       "      <td>manual</td>\n",
       "      <td>astra</td>\n",
       "      <td>petrol</td>\n",
       "      <td>opel</td>\n",
       "      <td>unknown</td>\n",
       "      <td>1998</td>\n",
       "      <td>136</td>\n",
       "      <td>150000</td>\n",
       "    </tr>\n",
       "  </tbody>\n",
       "</table>\n",
       "<p>106311 rows × 9 columns</p>\n",
       "</div>"
      ],
      "text/plain": [
       "       VehicleType Gearbox     Model  FuelType          Brand Repaired  \\\n",
       "294049       wagon  manual      leon    petrol           seat       no   \n",
       "76415        wagon  manual        a3  gasoline           audi  unknown   \n",
       "212563       wagon  manual    passat  gasoline     volkswagen       no   \n",
       "109307       small  manual     corsa    petrol           opel      yes   \n",
       "248545       sedan  manual  a_klasse    petrol  mercedes_benz  unknown   \n",
       "...            ...     ...       ...       ...            ...      ...   \n",
       "254129       wagon  manual   3_reihe    petrol        peugeot       no   \n",
       "185667         bus  manual  alhambra    petrol           seat       no   \n",
       "58518        wagon  manual    sharan  gasoline     volkswagen  unknown   \n",
       "54137        wagon  manual    laguna    petrol        renault       no   \n",
       "177556       wagon  manual     astra    petrol           opel  unknown   \n",
       "\n",
       "        RegistrationYear  Power  Kilometer  \n",
       "294049              2014    122      30000  \n",
       "76415               2011    140      70000  \n",
       "212563              2001    131     150000  \n",
       "109307              1996     60     150000  \n",
       "248545              2016     82     150000  \n",
       "...                  ...    ...        ...  \n",
       "254129              2008    120     100000  \n",
       "185667              2000    116     150000  \n",
       "58518               2003      0     150000  \n",
       "54137               2003    120     150000  \n",
       "177556              1998    136     150000  \n",
       "\n",
       "[106311 rows x 9 columns]"
      ]
     },
     "execution_count": 48,
     "metadata": {},
     "output_type": "execute_result"
    }
   ],
   "source": [
    "X_test = df_test[cat_columns + num_columns]\n",
    "X_test"
   ]
  },
  {
   "cell_type": "code",
   "execution_count": 49,
   "metadata": {
    "scrolled": true
   },
   "outputs": [
    {
     "data": {
      "text/plain": [
       "294049    19999\n",
       "76415     14250\n",
       "212563     2850\n",
       "109307       50\n",
       "248545      500\n",
       "          ...  \n",
       "254129     5950\n",
       "185667     1600\n",
       "58518      2550\n",
       "54137      1900\n",
       "177556     1250\n",
       "Name: Price, Length: 106311, dtype: int64"
      ]
     },
     "execution_count": 49,
     "metadata": {},
     "output_type": "execute_result"
    }
   ],
   "source": [
    "y_test = df_test['Price']\n",
    "y_test"
   ]
  },
  {
   "cell_type": "markdown",
   "metadata": {},
   "source": [
    "## Обучение моделей"
   ]
  },
  {
   "cell_type": "markdown",
   "metadata": {},
   "source": [
    "### Подготовка выборки для обучения моделей"
   ]
  },
  {
   "cell_type": "code",
   "execution_count": 50,
   "metadata": {},
   "outputs": [],
   "source": [
    "column_transformer =\\\n",
    "ColumnTransformer([('ordinal_encoder', OrdinalEncoder(handle_unknown='use_encoded_value', unknown_value=-1), cat_columns)], \n",
    "                  remainder='passthrough')"
   ]
  },
  {
   "cell_type": "markdown",
   "metadata": {},
   "source": [
    "Применяю OrdinalEncoder к категориальным данным, числовые оставляю как есть. Такой выбор обусловлен тем, что я планирую использовать модели основанный на деревьях решений, они не подвержены проблемам, возникающим из-за разного масштаба столбцов. А так же, потому что требования заказчика включают скорость обучения модели, OrdinalEncoder не увеличивает количество признаков, в отличие от OneHotEncoder, и, соответственно, модели будут обучаться быстрее."
   ]
  },
  {
   "cell_type": "markdown",
   "metadata": {},
   "source": [
    "### Метрика качества"
   ]
  },
  {
   "cell_type": "code",
   "execution_count": 51,
   "metadata": {},
   "outputs": [],
   "source": [
    "def rmse(y_true, y_pred):\n",
    "    return np.sqrt(mean_squared_error(y_true, y_pred))"
   ]
  },
  {
   "cell_type": "markdown",
   "metadata": {},
   "source": [
    "В качестве метрики предоженно использовать RMSE."
   ]
  },
  {
   "cell_type": "markdown",
   "metadata": {},
   "source": [
    "### RandomForestRegressor"
   ]
  },
  {
   "cell_type": "code",
   "execution_count": 52,
   "metadata": {},
   "outputs": [],
   "source": [
    "pipeline_rf = Pipeline([('column_transformer', column_transformer),\n",
    "                        ('rf', RandomForestRegressor(random_state=RANDOM_STATE, \n",
    "                                                     n_jobs=-1))])"
   ]
  },
  {
   "cell_type": "code",
   "execution_count": 53,
   "metadata": {},
   "outputs": [],
   "source": [
    "param_grid = {'rf__n_estimators': range(1, 100), \n",
    "              'rf__max_depth': range(1, 50)}"
   ]
  },
  {
   "cell_type": "code",
   "execution_count": 54,
   "metadata": {
    "tags": []
   },
   "outputs": [
    {
     "data": {
      "text/plain": [
       "RandomizedSearchCV(estimator=Pipeline(steps=[('column_transformer',\n",
       "                                              ColumnTransformer(remainder='passthrough',\n",
       "                                                                transformers=[('ordinal_encoder',\n",
       "                                                                               OrdinalEncoder(handle_unknown='use_encoded_value',\n",
       "                                                                                              unknown_value=-1),\n",
       "                                                                               ['VehicleType',\n",
       "                                                                                'Gearbox',\n",
       "                                                                                'Model',\n",
       "                                                                                'FuelType',\n",
       "                                                                                'Brand',\n",
       "                                                                                'Repaired'])])),\n",
       "                                             ('rf',\n",
       "                                              RandomForestRegressor(n_jobs=-1,\n",
       "                                                                    random_state=42))]),\n",
       "                   n_iter=40, n_jobs=-1,\n",
       "                   param_distributions={'rf__max_depth': range(1, 50),\n",
       "                                        'rf__n_estimators': range(1, 100)},\n",
       "                   random_state=42, scoring='neg_mean_squared_error')"
      ]
     },
     "execution_count": 54,
     "metadata": {},
     "output_type": "execute_result"
    }
   ],
   "source": [
    "grid_rf = RandomizedSearchCV(estimator=pipeline_rf, \n",
    "                             param_distributions=param_grid,\n",
    "                             n_iter=40, \n",
    "                             scoring='neg_mean_squared_error', \n",
    "                             random_state=RANDOM_STATE, \n",
    "                             n_jobs=-1)\n",
    "grid_rf.fit(X_train, y_train)"
   ]
  },
  {
   "cell_type": "code",
   "execution_count": 55,
   "metadata": {
    "tags": []
   },
   "outputs": [
    {
     "name": "stdout",
     "output_type": "stream",
     "text": [
      "Лучшие параметры: {'rf__n_estimators': 68, 'rf__max_depth': 21}\n",
      "MSE на кросс-валидации: 2580609.8593092887\n"
     ]
    }
   ],
   "source": [
    "print('Лучшие параметры:', grid_rf.best_params_)\n",
    "print('MSE на кросс-валидации:', -grid_rf.best_score_)"
   ]
  },
  {
   "cell_type": "code",
   "execution_count": 56,
   "metadata": {},
   "outputs": [
    {
     "name": "stdout",
     "output_type": "stream",
     "text": [
      "Время обучения: 3.78 сек.\n"
     ]
    }
   ],
   "source": [
    "best_rf = Pipeline([('column_transformer', column_transformer),\n",
    "                    ('rf', RandomForestRegressor(n_estimators=68, max_depth=21, random_state=RANDOM_STATE, n_jobs=-1))])\n",
    "start = time()\n",
    "best_rf.fit(X_train, y_train)\n",
    "end = time()\n",
    "print('Время обучения:', round(end - start, 2), 'сек.')"
   ]
  },
  {
   "cell_type": "code",
   "execution_count": 57,
   "metadata": {},
   "outputs": [
    {
     "name": "stdout",
     "output_type": "stream",
     "text": [
      "Время предсказания: 0.87 сек.\n"
     ]
    }
   ],
   "source": [
    "start = time()\n",
    "best_rf.predict(X_train)\n",
    "end = time()\n",
    "print('Время предсказания:', round(end - start, 2), 'сек.')"
   ]
  },
  {
   "cell_type": "markdown",
   "metadata": {},
   "source": [
    "### LGBMRegressor"
   ]
  },
  {
   "cell_type": "code",
   "execution_count": 58,
   "metadata": {},
   "outputs": [],
   "source": [
    "pipeline_lgbm = Pipeline([('column_transformer', column_transformer),\n",
    "                          ('lgbm', LGBMRegressor(objective='regression',\n",
    "                                                 metric='rmse',\n",
    "                                                 categorical_feature=[0,1,2,3,4,5],\n",
    "                                                 seed=RANDOM_STATE))])"
   ]
  },
  {
   "cell_type": "code",
   "execution_count": 59,
   "metadata": {},
   "outputs": [],
   "source": [
    "param_grid = {'lgbm__num_iterations': range(1, 100), \n",
    "              'lgbm__max_depth': range(1, 50), \n",
    "              'lgbm__learning_rate' : [0.1, 0.2, 0.5]}"
   ]
  },
  {
   "cell_type": "code",
   "execution_count": 60,
   "metadata": {},
   "outputs": [
    {
     "data": {
      "text/plain": [
       "RandomizedSearchCV(estimator=Pipeline(steps=[('column_transformer',\n",
       "                                              ColumnTransformer(remainder='passthrough',\n",
       "                                                                transformers=[('ordinal_encoder',\n",
       "                                                                               OrdinalEncoder(handle_unknown='use_encoded_value',\n",
       "                                                                                              unknown_value=-1),\n",
       "                                                                               ['VehicleType',\n",
       "                                                                                'Gearbox',\n",
       "                                                                                'Model',\n",
       "                                                                                'FuelType',\n",
       "                                                                                'Brand',\n",
       "                                                                                'Repaired'])])),\n",
       "                                             ('lgbm',\n",
       "                                              LGBMRegressor(categorical_feature=[0,\n",
       "                                                                                 1,\n",
       "                                                                                 2,\n",
       "                                                                                 3,\n",
       "                                                                                 4,\n",
       "                                                                                 5],\n",
       "                                                            metric='rmse',\n",
       "                                                            objective='regression',\n",
       "                                                            seed=42))]),\n",
       "                   n_iter=100, n_jobs=-1,\n",
       "                   param_distributions={'lgbm__learning_rate': [0.1, 0.2, 0.5],\n",
       "                                        'lgbm__max_depth': range(1, 50),\n",
       "                                        'lgbm__num_iterations': range(1, 100)},\n",
       "                   random_state=42, scoring='neg_mean_squared_error')"
      ]
     },
     "execution_count": 60,
     "metadata": {},
     "output_type": "execute_result"
    }
   ],
   "source": [
    "grid_lgbm = RandomizedSearchCV(estimator=pipeline_lgbm, \n",
    "                               param_distributions=param_grid,\n",
    "                               n_iter=100, \n",
    "                               scoring='neg_mean_squared_error', \n",
    "                               random_state=RANDOM_STATE, \n",
    "                               n_jobs=-1)\n",
    "grid_lgbm.fit(X_train, y_train)"
   ]
  },
  {
   "cell_type": "code",
   "execution_count": 61,
   "metadata": {},
   "outputs": [
    {
     "name": "stdout",
     "output_type": "stream",
     "text": [
      "Лучшие параметры: {'lgbm__num_iterations': 98, 'lgbm__max_depth': 14, 'lgbm__learning_rate': 0.2}\n",
      "MSE на кросс-валидации: 2538716.1417795373\n"
     ]
    }
   ],
   "source": [
    "print('Лучшие параметры:', grid_lgbm.best_params_)\n",
    "print('MSE на кросс-валидации:', -grid_lgbm.best_score_)"
   ]
  },
  {
   "cell_type": "code",
   "execution_count": 62,
   "metadata": {},
   "outputs": [
    {
     "name": "stdout",
     "output_type": "stream",
     "text": [
      "Время обучения: 0.66 сек.\n"
     ]
    }
   ],
   "source": [
    "best_lgbm = Pipeline([('column_transformer', column_transformer),\n",
    "                      ('lgbm', LGBMRegressor(num_iterations=98,\n",
    "                                             max_depth=14,\n",
    "                                             learning_rate=0.2,\n",
    "                                             objective='regression',\n",
    "                                             metric='rmse',\n",
    "                                             categorical_feature=[0, 1, 2, 3, 4, 5],\n",
    "                                             seed=RANDOM_STATE))])\n",
    "start = time()\n",
    "best_lgbm.fit(X_train, y_train)\n",
    "end = time()\n",
    "print('Время обучения:', round(end - start, 2), 'сек.')"
   ]
  },
  {
   "cell_type": "code",
   "execution_count": 63,
   "metadata": {},
   "outputs": [
    {
     "name": "stdout",
     "output_type": "stream",
     "text": [
      "Время предсказания: 0.34 сек.\n"
     ]
    }
   ],
   "source": [
    "start = time()\n",
    "best_lgbm.predict(X_train)\n",
    "end = time()\n",
    "print('Время предсказания:', round(end - start, 2), 'сек.')"
   ]
  },
  {
   "cell_type": "markdown",
   "metadata": {},
   "source": [
    "### DecisionTreeRegressor"
   ]
  },
  {
   "cell_type": "code",
   "execution_count": 64,
   "metadata": {},
   "outputs": [],
   "source": [
    "pipeline_dt = Pipeline([('column_transformer', column_transformer),\n",
    "                        ('dt', DecisionTreeRegressor(random_state=RANDOM_STATE))])"
   ]
  },
  {
   "cell_type": "code",
   "execution_count": 65,
   "metadata": {},
   "outputs": [],
   "source": [
    "param_grid = {'dt__max_depth': range(1, 100), \n",
    "              'dt__min_samples_leaf': [50, 100, 200, 500, 1000]}"
   ]
  },
  {
   "cell_type": "code",
   "execution_count": 66,
   "metadata": {},
   "outputs": [
    {
     "data": {
      "text/plain": [
       "RandomizedSearchCV(estimator=Pipeline(steps=[('column_transformer',\n",
       "                                              ColumnTransformer(remainder='passthrough',\n",
       "                                                                transformers=[('ordinal_encoder',\n",
       "                                                                               OrdinalEncoder(handle_unknown='use_encoded_value',\n",
       "                                                                                              unknown_value=-1),\n",
       "                                                                               ['VehicleType',\n",
       "                                                                                'Gearbox',\n",
       "                                                                                'Model',\n",
       "                                                                                'FuelType',\n",
       "                                                                                'Brand',\n",
       "                                                                                'Repaired'])])),\n",
       "                                             ('dt',\n",
       "                                              DecisionTreeRegressor(random_state=42))]),\n",
       "                   n_iter=40, n_jobs=-1,\n",
       "                   param_distributions={'dt__max_depth': range(1, 100),\n",
       "                                        'dt__min_samples_leaf': [50, 100, 200,\n",
       "                                                                 500, 1000]},\n",
       "                   random_state=42, scoring='neg_mean_squared_error')"
      ]
     },
     "execution_count": 66,
     "metadata": {},
     "output_type": "execute_result"
    }
   ],
   "source": [
    "grid_dt = RandomizedSearchCV(estimator=pipeline_dt, \n",
    "                             param_distributions=param_grid,\n",
    "                             n_iter=40, \n",
    "                             scoring='neg_mean_squared_error', \n",
    "                             random_state=RANDOM_STATE, \n",
    "                             n_jobs=-1)\n",
    "grid_dt.fit(X_train, y_train)"
   ]
  },
  {
   "cell_type": "code",
   "execution_count": 67,
   "metadata": {},
   "outputs": [
    {
     "name": "stdout",
     "output_type": "stream",
     "text": [
      "Лучшие параметры: {'dt__min_samples_leaf': 50, 'dt__max_depth': 63}\n",
      "MSE на кросс-валидации: 3565131.377506523\n"
     ]
    }
   ],
   "source": [
    "print('Лучшие параметры:', grid_dt.best_params_)\n",
    "print('MSE на кросс-валидации:', -grid_dt.best_score_)"
   ]
  },
  {
   "cell_type": "code",
   "execution_count": 68,
   "metadata": {},
   "outputs": [
    {
     "name": "stdout",
     "output_type": "stream",
     "text": [
      "Время обучения: 0.57 сек.\n"
     ]
    }
   ],
   "source": [
    "best_dt = Pipeline([('column_transformer', column_transformer),\n",
    "                    ('dt', DecisionTreeRegressor(min_samples_leaf=50, max_depth=63, random_state=RANDOM_STATE))])\n",
    "start = time()\n",
    "best_dt.fit(X_train, y_train)\n",
    "end = time()\n",
    "print('Время обучения:', round(end - start, 2), 'сек.')"
   ]
  },
  {
   "cell_type": "code",
   "execution_count": 69,
   "metadata": {},
   "outputs": [
    {
     "name": "stdout",
     "output_type": "stream",
     "text": [
      "Время предсказания: 0.21 сек.\n"
     ]
    }
   ],
   "source": [
    "start = time()\n",
    "grid_dt.predict(X_train)\n",
    "end = time()\n",
    "print('Время предсказания:', round(end - start, 2), 'сек.')"
   ]
  },
  {
   "cell_type": "markdown",
   "metadata": {},
   "source": [
    "## Анализ моделей"
   ]
  },
  {
   "cell_type": "markdown",
   "metadata": {},
   "source": [
    "LGBMRegressor проводит обучение и предсказание за время незначительно превышающее DecisionTreeRegressor, но качество обучение у лучшей модели градиентного бустинга гораздо лучше, чем у лучшей модели дерева решений. Качество лучшей модели RandomForestRegressor сравнимо с бустингом, но скорость обучения в разы проигрывает. Заказчику предлагается модель LGBMRegressor со следующими параметрами."
   ]
  },
  {
   "cell_type": "code",
   "execution_count": 70,
   "metadata": {},
   "outputs": [
    {
     "data": {
      "text/plain": [
       "Pipeline(steps=[('column_transformer',\n",
       "                 ColumnTransformer(remainder='passthrough',\n",
       "                                   transformers=[('ordinal_encoder',\n",
       "                                                  OrdinalEncoder(handle_unknown='use_encoded_value',\n",
       "                                                                 unknown_value=-1),\n",
       "                                                  ['VehicleType', 'Gearbox',\n",
       "                                                   'Model', 'FuelType', 'Brand',\n",
       "                                                   'Repaired'])])),\n",
       "                ('lgbm',\n",
       "                 LGBMRegressor(categorical_feature=[0, 1, 2, 3, 4, 5],\n",
       "                               learning_rate=0.2, max_depth=14, metric='rmse',\n",
       "                               num_iterations=98, objective='regression',\n",
       "                               seed=42))])"
      ]
     },
     "execution_count": 70,
     "metadata": {},
     "output_type": "execute_result"
    }
   ],
   "source": [
    "best_lgbm"
   ]
  },
  {
   "cell_type": "code",
   "execution_count": 71,
   "metadata": {},
   "outputs": [
    {
     "name": "stdout",
     "output_type": "stream",
     "text": [
      "RMSE на трейне лучшей модели: 1510.1920179404347\n",
      "RMSE на тесте лучшей модели: 1829.479151081932\n",
      "RMSE на тесте \"наивного\" регрессора: 4544.182722303984\n"
     ]
    }
   ],
   "source": [
    "print('RMSE на трейне лучшей модели:', rmse(y_train, best_lgbm.predict(X_train)))\n",
    "print('RMSE на тесте лучшей модели:', rmse(y_test, best_lgbm.predict(X_test)))\n",
    "print('RMSE на тесте \"наивного\" регрессора:', rmse(y_test, DummyRegressor().fit(X_train, y_train).predict(X_test)))"
   ]
  },
  {
   "cell_type": "code",
   "execution_count": 74,
   "metadata": {},
   "outputs": [
    {
     "data": {
      "text/plain": [
       "RegistrationYear    732\n",
       "Model               702\n",
       "Power               682\n",
       "Kilometer           291\n",
       "Brand               208\n",
       "VehicleType         137\n",
       "Repaired             98\n",
       "Gearbox              49\n",
       "FuelType             41\n",
       "dtype: int32"
      ]
     },
     "execution_count": 74,
     "metadata": {},
     "output_type": "execute_result"
    }
   ],
   "source": [
    "feature_importances = pd.Series(data=best_lgbm.steps[1][1].feature_importances_, index=cat_columns + num_columns).sort_values(ascending=False)\n",
    "feature_importances"
   ]
  },
  {
   "cell_type": "code",
   "execution_count": 75,
   "metadata": {},
   "outputs": [
    {
     "data": {
      "image/png": "[encoded data removed]",
      "text/plain": [
       "<Figure size 900x600 with 1 Axes>"
      ]
     },
     "metadata": {},
     "output_type": "display_data"
    }
   ],
   "source": [
    "feature_importances.plot(kind='bar', title=f'Важность колонок', figsize=(9, 6));"
   ]
  },
  {
   "cell_type": "markdown",
   "metadata": {},
   "source": [
    "Для лучшей модели самые важные колонки год регистрации, модель и мощность"
   ]
  }
 ],
 "metadata": {
  "ExecuteTimeLog": [
   {
    "duration": 358,
    "start_time": "2023-02-07T13:28:10.851Z"
   },
   {
    "duration": 1273,
    "start_time": "2023-02-07T13:28:31.999Z"
   },
   {
    "duration": 37,
    "start_time": "2023-02-07T13:28:36.167Z"
   },
   {
    "duration": 125,
    "start_time": "2023-02-07T13:28:56.159Z"
   },
   {
    "duration": 63,
    "start_time": "2023-02-07T13:29:09.904Z"
   },
   {
    "duration": 4,
    "start_time": "2023-02-07T13:29:13.772Z"
   },
   {
    "duration": 19,
    "start_time": "2023-02-07T13:30:08.488Z"
   },
   {
    "duration": 29,
    "start_time": "2023-02-07T13:30:35.512Z"
   },
   {
    "duration": 40,
    "start_time": "2023-02-07T13:30:49.560Z"
   },
   {
    "duration": 20,
    "start_time": "2023-02-07T13:31:16.232Z"
   },
   {
    "duration": 20,
    "start_time": "2023-02-07T13:31:33.096Z"
   },
   {
    "duration": 110,
    "start_time": "2023-02-07T13:40:24.883Z"
   },
   {
    "duration": 95,
    "start_time": "2023-02-07T14:11:59.569Z"
   },
   {
    "duration": 3,
    "start_time": "2023-02-07T14:15:24.556Z"
   },
   {
    "duration": 5,
    "start_time": "2023-02-07T14:30:12.871Z"
   },
   {
    "duration": 6,
    "start_time": "2023-02-07T14:30:29.678Z"
   },
   {
    "duration": 7,
    "start_time": "2023-02-07T14:30:50.135Z"
   },
   {
    "duration": 6,
    "start_time": "2023-02-07T14:31:35.815Z"
   },
   {
    "duration": 7,
    "start_time": "2023-02-07T14:32:01.648Z"
   },
   {
    "duration": 7,
    "start_time": "2023-02-07T14:32:30.518Z"
   },
   {
    "duration": 20,
    "start_time": "2023-02-07T14:39:57.906Z"
   },
   {
    "duration": 789,
    "start_time": "2023-02-07T14:42:38.402Z"
   },
   {
    "duration": 21,
    "start_time": "2023-02-07T14:42:41.256Z"
   },
   {
    "duration": 892,
    "start_time": "2023-02-07T14:45:08.576Z"
   },
   {
    "duration": 42,
    "start_time": "2023-02-07T15:04:15.719Z"
   },
   {
    "duration": 48,
    "start_time": "2023-02-07T15:04:21.798Z"
   },
   {
    "duration": 4,
    "start_time": "2023-02-07T15:04:52.477Z"
   },
   {
    "duration": 9,
    "start_time": "2023-02-07T15:04:57.718Z"
   },
   {
    "duration": 1248,
    "start_time": "2023-02-07T15:12:33.840Z"
   },
   {
    "duration": 171,
    "start_time": "2023-02-07T15:16:32.056Z"
   },
   {
    "duration": 24,
    "start_time": "2023-02-07T15:16:49.290Z"
   },
   {
    "duration": 21,
    "start_time": "2023-02-07T15:25:30.586Z"
   },
   {
    "duration": 3,
    "start_time": "2023-02-07T15:26:22.963Z"
   },
   {
    "duration": 198,
    "start_time": "2023-02-07T15:26:30.307Z"
   },
   {
    "duration": 19,
    "start_time": "2023-02-07T15:26:32.514Z"
   },
   {
    "duration": 23,
    "start_time": "2023-02-07T15:26:35.380Z"
   },
   {
    "duration": 8,
    "start_time": "2023-02-07T15:26:51.674Z"
   },
   {
    "duration": 546,
    "start_time": "2023-02-07T15:27:00.003Z"
   },
   {
    "duration": 166,
    "start_time": "2023-02-07T15:27:21.260Z"
   },
   {
    "duration": 160,
    "start_time": "2023-02-07T15:28:00.595Z"
   },
   {
    "duration": 3772,
    "start_time": "2023-02-07T15:32:59.333Z"
   },
   {
    "duration": 1978,
    "start_time": "2023-02-07T15:33:23.891Z"
   },
   {
    "duration": 113,
    "start_time": "2023-02-07T15:53:50.628Z"
   },
   {
    "duration": 105,
    "start_time": "2023-02-07T15:54:19.563Z"
   },
   {
    "duration": 3,
    "start_time": "2023-02-07T15:57:05.363Z"
   },
   {
    "duration": 2,
    "start_time": "2023-02-07T15:57:07.779Z"
   },
   {
    "duration": 767,
    "start_time": "2023-02-07T15:57:09.939Z"
   },
   {
    "duration": 114,
    "start_time": "2023-02-07T15:57:13.979Z"
   },
   {
    "duration": 104,
    "start_time": "2023-02-07T15:57:16.683Z"
   },
   {
    "duration": 2,
    "start_time": "2023-02-07T15:59:12.829Z"
   },
   {
    "duration": 3,
    "start_time": "2023-02-07T15:59:14.990Z"
   },
   {
    "duration": 866,
    "start_time": "2023-02-07T15:59:17.197Z"
   },
   {
    "duration": 79,
    "start_time": "2023-02-07T15:59:27.156Z"
   },
   {
    "duration": 74,
    "start_time": "2023-02-07T15:59:30.052Z"
   },
   {
    "duration": 3,
    "start_time": "2023-02-07T16:44:20.550Z"
   },
   {
    "duration": 3,
    "start_time": "2023-02-07T16:46:04.663Z"
   },
   {
    "duration": 18,
    "start_time": "2023-02-07T16:46:38.983Z"
   },
   {
    "duration": 3,
    "start_time": "2023-02-07T16:47:25.535Z"
   },
   {
    "duration": 25,
    "start_time": "2023-02-07T16:48:21.450Z"
   },
   {
    "duration": 3,
    "start_time": "2023-02-07T17:01:51.763Z"
   },
   {
    "duration": 19,
    "start_time": "2023-02-07T17:01:54.874Z"
   },
   {
    "duration": 2,
    "start_time": "2023-02-07T17:19:18.926Z"
   },
   {
    "duration": 12,
    "start_time": "2023-02-07T17:19:32.198Z"
   },
   {
    "duration": 49,
    "start_time": "2023-02-07T17:19:34.599Z"
   },
   {
    "duration": 58,
    "start_time": "2023-02-07T17:20:37.782Z"
   },
   {
    "duration": 50,
    "start_time": "2023-02-07T17:21:05.714Z"
   },
   {
    "duration": 48,
    "start_time": "2023-02-07T17:21:09.838Z"
   },
   {
    "duration": 43,
    "start_time": "2023-02-07T17:21:16.254Z"
   },
   {
    "duration": 56,
    "start_time": "2023-02-07T17:21:32.062Z"
   },
   {
    "duration": 45,
    "start_time": "2023-02-07T17:23:51.022Z"
   },
   {
    "duration": 54,
    "start_time": "2023-02-07T17:23:59.038Z"
   },
   {
    "duration": 1169,
    "start_time": "2023-02-08T07:50:12.827Z"
   },
   {
    "duration": 4,
    "start_time": "2023-02-08T07:50:13.998Z"
   },
   {
    "duration": 3296,
    "start_time": "2023-02-08T07:50:14.004Z"
   },
   {
    "duration": 93,
    "start_time": "2023-02-08T07:50:17.301Z"
   },
   {
    "duration": 114,
    "start_time": "2023-02-08T07:50:17.397Z"
   },
   {
    "duration": 55,
    "start_time": "2023-02-08T07:50:17.512Z"
   },
   {
    "duration": 18,
    "start_time": "2023-02-08T07:50:17.568Z"
   },
   {
    "duration": 152,
    "start_time": "2023-02-08T07:50:17.588Z"
   },
   {
    "duration": 23,
    "start_time": "2023-02-08T07:50:17.742Z"
   },
   {
    "duration": 25,
    "start_time": "2023-02-08T07:50:17.767Z"
   },
   {
    "duration": 4828,
    "start_time": "2023-02-08T07:50:17.794Z"
   },
   {
    "duration": 2075,
    "start_time": "2023-02-08T07:50:22.624Z"
   },
   {
    "duration": 3,
    "start_time": "2023-02-08T07:50:40.675Z"
   },
   {
    "duration": 57,
    "start_time": "2023-02-08T07:50:43.324Z"
   },
   {
    "duration": 54,
    "start_time": "2023-02-08T07:51:01.244Z"
   },
   {
    "duration": 62,
    "start_time": "2023-02-08T07:51:15.756Z"
   },
   {
    "duration": 3,
    "start_time": "2023-02-08T07:53:53.516Z"
   },
   {
    "duration": 3,
    "start_time": "2023-02-08T07:54:27.962Z"
   },
   {
    "duration": 125,
    "start_time": "2023-02-08T07:54:30.461Z"
   },
   {
    "duration": 20,
    "start_time": "2023-02-08T07:54:51.301Z"
   },
   {
    "duration": 77,
    "start_time": "2023-02-08T07:55:11.143Z"
   },
   {
    "duration": 25,
    "start_time": "2023-02-08T07:55:19.678Z"
   },
   {
    "duration": 75,
    "start_time": "2023-02-08T07:55:25.165Z"
   },
   {
    "duration": 4,
    "start_time": "2023-02-08T07:55:36.470Z"
   },
   {
    "duration": 32,
    "start_time": "2023-02-08T07:55:39.228Z"
   },
   {
    "duration": 22,
    "start_time": "2023-02-08T07:56:04.910Z"
   },
   {
    "duration": 12,
    "start_time": "2023-02-08T07:57:29.437Z"
   },
   {
    "duration": 3,
    "start_time": "2023-02-08T07:58:54.397Z"
   },
   {
    "duration": 34,
    "start_time": "2023-02-08T07:58:57.589Z"
   },
   {
    "duration": 20,
    "start_time": "2023-02-08T07:59:01.279Z"
   },
   {
    "duration": 3,
    "start_time": "2023-02-08T08:24:41.459Z"
   },
   {
    "duration": 37,
    "start_time": "2023-02-08T08:24:44.075Z"
   },
   {
    "duration": 121,
    "start_time": "2023-02-08T08:24:46.404Z"
   },
   {
    "duration": 124,
    "start_time": "2023-02-08T08:25:05.068Z"
   },
   {
    "duration": 4,
    "start_time": "2023-02-08T08:25:25.633Z"
   },
   {
    "duration": 24,
    "start_time": "2023-02-08T08:25:28.604Z"
   },
   {
    "duration": 37,
    "start_time": "2023-02-08T08:25:38.997Z"
   },
   {
    "duration": 29,
    "start_time": "2023-02-08T08:25:47.268Z"
   },
   {
    "duration": 27,
    "start_time": "2023-02-08T08:25:56.316Z"
   },
   {
    "duration": 117,
    "start_time": "2023-02-08T08:26:04.470Z"
   },
   {
    "duration": 115,
    "start_time": "2023-02-08T08:26:40.733Z"
   },
   {
    "duration": 108,
    "start_time": "2023-02-08T08:27:15.802Z"
   },
   {
    "duration": 112,
    "start_time": "2023-02-08T08:27:26.772Z"
   },
   {
    "duration": 117,
    "start_time": "2023-02-08T08:27:38.642Z"
   },
   {
    "duration": 120,
    "start_time": "2023-02-08T08:27:53.508Z"
   },
   {
    "duration": 125,
    "start_time": "2023-02-08T08:27:59.733Z"
   },
   {
    "duration": 105,
    "start_time": "2023-02-08T08:28:11.611Z"
   },
   {
    "duration": 108,
    "start_time": "2023-02-08T08:28:16.972Z"
   },
   {
    "duration": 121,
    "start_time": "2023-02-08T08:29:09.069Z"
   },
   {
    "duration": 4,
    "start_time": "2023-02-08T08:30:11.884Z"
   },
   {
    "duration": 10,
    "start_time": "2023-02-08T08:30:11.890Z"
   },
   {
    "duration": 1651,
    "start_time": "2023-02-08T08:30:11.902Z"
   },
   {
    "duration": 109,
    "start_time": "2023-02-08T08:30:13.555Z"
   },
   {
    "duration": 105,
    "start_time": "2023-02-08T08:30:13.667Z"
   },
   {
    "duration": 123,
    "start_time": "2023-02-08T08:30:13.773Z"
   },
   {
    "duration": 14,
    "start_time": "2023-02-08T08:30:13.897Z"
   },
   {
    "duration": 120,
    "start_time": "2023-02-08T08:30:13.913Z"
   },
   {
    "duration": 24,
    "start_time": "2023-02-08T08:30:14.037Z"
   },
   {
    "duration": 24,
    "start_time": "2023-02-08T08:30:14.062Z"
   },
   {
    "duration": 4231,
    "start_time": "2023-02-08T08:30:14.087Z"
   },
   {
    "duration": 2015,
    "start_time": "2023-02-08T08:30:18.320Z"
   },
   {
    "duration": 3,
    "start_time": "2023-02-08T08:30:20.337Z"
   },
   {
    "duration": 61,
    "start_time": "2023-02-08T08:30:20.343Z"
   },
   {
    "duration": 121,
    "start_time": "2023-02-08T08:30:24.397Z"
   },
   {
    "duration": 15,
    "start_time": "2023-02-08T08:30:57.998Z"
   },
   {
    "duration": 3,
    "start_time": "2023-02-08T09:05:10.531Z"
   },
   {
    "duration": 2,
    "start_time": "2023-02-08T09:05:12.780Z"
   },
   {
    "duration": 1133,
    "start_time": "2023-02-08T09:05:15.273Z"
   },
   {
    "duration": 3,
    "start_time": "2023-02-08T09:30:03.242Z"
   },
   {
    "duration": 2,
    "start_time": "2023-02-08T09:30:06.251Z"
   },
   {
    "duration": 1234,
    "start_time": "2023-02-08T09:30:08.976Z"
   },
   {
    "duration": 103,
    "start_time": "2023-02-08T09:32:03.521Z"
   },
   {
    "duration": 11,
    "start_time": "2023-02-08T09:32:07.442Z"
   },
   {
    "duration": 69,
    "start_time": "2023-02-08T09:38:44.695Z"
   },
   {
    "duration": 3657,
    "start_time": "2023-02-08T09:39:11.357Z"
   },
   {
    "duration": 172,
    "start_time": "2023-02-08T09:40:48.000Z"
   },
   {
    "duration": 4,
    "start_time": "2023-02-08T09:53:31.196Z"
   },
   {
    "duration": 3,
    "start_time": "2023-02-08T09:53:36.739Z"
   },
   {
    "duration": 2,
    "start_time": "2023-02-08T09:53:37.794Z"
   },
   {
    "duration": 1601,
    "start_time": "2023-02-08T09:53:38.907Z"
   },
   {
    "duration": 93,
    "start_time": "2023-02-08T09:53:42.946Z"
   },
   {
    "duration": 101,
    "start_time": "2023-02-08T09:53:45.186Z"
   },
   {
    "duration": 38,
    "start_time": "2023-02-08T09:53:49.700Z"
   },
   {
    "duration": 9,
    "start_time": "2023-02-08T09:53:53.787Z"
   },
   {
    "duration": 155,
    "start_time": "2023-02-08T09:53:56.458Z"
   },
   {
    "duration": 28,
    "start_time": "2023-02-08T09:53:57.836Z"
   },
   {
    "duration": 25,
    "start_time": "2023-02-08T09:54:00.251Z"
   },
   {
    "duration": 8,
    "start_time": "2023-02-08T09:54:30.708Z"
   },
   {
    "duration": 9,
    "start_time": "2023-02-08T09:54:42.485Z"
   },
   {
    "duration": 4652,
    "start_time": "2023-02-08T09:55:01.708Z"
   },
   {
    "duration": 1993,
    "start_time": "2023-02-08T09:55:08.380Z"
   },
   {
    "duration": 3,
    "start_time": "2023-02-08T09:55:53.332Z"
   },
   {
    "duration": 4331,
    "start_time": "2023-02-08T09:56:26.093Z"
   },
   {
    "duration": 4123,
    "start_time": "2023-02-08T09:56:43.781Z"
   },
   {
    "duration": 4327,
    "start_time": "2023-02-08T09:57:13.045Z"
   },
   {
    "duration": 4387,
    "start_time": "2023-02-08T09:58:19.886Z"
   },
   {
    "duration": 4424,
    "start_time": "2023-02-08T09:59:00.822Z"
   },
   {
    "duration": 4534,
    "start_time": "2023-02-08T10:01:18.016Z"
   },
   {
    "duration": 4667,
    "start_time": "2023-02-08T10:01:54.248Z"
   },
   {
    "duration": 4452,
    "start_time": "2023-02-08T10:02:11.378Z"
   },
   {
    "duration": 4734,
    "start_time": "2023-02-08T10:03:04.750Z"
   },
   {
    "duration": 2067,
    "start_time": "2023-02-08T10:03:27.521Z"
   },
   {
    "duration": 81,
    "start_time": "2023-02-08T10:11:47.749Z"
   },
   {
    "duration": 71,
    "start_time": "2023-02-08T10:15:28.392Z"
   },
   {
    "duration": 4,
    "start_time": "2023-02-08T10:21:16.816Z"
   },
   {
    "duration": 12,
    "start_time": "2023-02-08T10:22:57.576Z"
   },
   {
    "duration": 57,
    "start_time": "2023-02-08T10:23:07.177Z"
   },
   {
    "duration": 15,
    "start_time": "2023-02-08T10:23:55.466Z"
   },
   {
    "duration": 14,
    "start_time": "2023-02-08T10:24:44.250Z"
   },
   {
    "duration": 15,
    "start_time": "2023-02-08T10:25:22.162Z"
   },
   {
    "duration": 19,
    "start_time": "2023-02-08T10:25:37.563Z"
   },
   {
    "duration": 3,
    "start_time": "2023-02-08T10:26:19.394Z"
   },
   {
    "duration": 61,
    "start_time": "2023-02-08T10:27:31.523Z"
   },
   {
    "duration": 69,
    "start_time": "2023-02-08T10:28:01.003Z"
   },
   {
    "duration": 70,
    "start_time": "2023-02-08T10:28:10.133Z"
   },
   {
    "duration": 138,
    "start_time": "2023-02-08T10:28:44.343Z"
   },
   {
    "duration": 75,
    "start_time": "2023-02-08T10:28:56.673Z"
   },
   {
    "duration": 78,
    "start_time": "2023-02-08T10:29:26.459Z"
   },
   {
    "duration": 62,
    "start_time": "2023-02-08T10:30:41.588Z"
   },
   {
    "duration": 67,
    "start_time": "2023-02-08T10:30:46.562Z"
   },
   {
    "duration": 68,
    "start_time": "2023-02-08T10:35:46.310Z"
   },
   {
    "duration": 68,
    "start_time": "2023-02-08T10:36:04.349Z"
   },
   {
    "duration": 264,
    "start_time": "2023-02-08T10:43:10.081Z"
   },
   {
    "duration": 236,
    "start_time": "2023-02-08T10:43:16.858Z"
   },
   {
    "duration": 338,
    "start_time": "2023-02-08T10:43:40.480Z"
   },
   {
    "duration": 101,
    "start_time": "2023-02-08T10:49:19.066Z"
   },
   {
    "duration": 24,
    "start_time": "2023-02-08T10:49:23.755Z"
   },
   {
    "duration": 2888,
    "start_time": "2023-02-08T10:51:23.099Z"
   },
   {
    "duration": 3,
    "start_time": "2023-02-08T10:51:27.963Z"
   },
   {
    "duration": 4,
    "start_time": "2023-02-08T10:51:30.598Z"
   },
   {
    "duration": 1047,
    "start_time": "2023-02-08T10:51:34.579Z"
   },
   {
    "duration": 89,
    "start_time": "2023-02-08T10:52:00.604Z"
   },
   {
    "duration": 25,
    "start_time": "2023-02-08T10:52:03.794Z"
   },
   {
    "duration": 25,
    "start_time": "2023-02-08T10:52:15.940Z"
   },
   {
    "duration": 1154,
    "start_time": "2023-02-08T10:52:51.460Z"
   },
   {
    "duration": 4622,
    "start_time": "2023-02-08T10:55:33.958Z"
   },
   {
    "duration": 2141,
    "start_time": "2023-02-08T10:55:55.110Z"
   },
   {
    "duration": 274,
    "start_time": "2023-02-08T10:57:41.901Z"
   },
   {
    "duration": 5,
    "start_time": "2023-02-08T10:59:38.768Z"
   },
   {
    "duration": 285,
    "start_time": "2023-02-08T10:59:43.430Z"
   },
   {
    "duration": 5,
    "start_time": "2023-02-08T10:59:51.278Z"
   },
   {
    "duration": 41,
    "start_time": "2023-02-08T11:02:01.592Z"
   },
   {
    "duration": 12,
    "start_time": "2023-02-08T11:02:48.023Z"
   },
   {
    "duration": 29,
    "start_time": "2023-02-08T11:03:12.457Z"
   },
   {
    "duration": 35,
    "start_time": "2023-02-08T11:04:31.793Z"
   },
   {
    "duration": 67,
    "start_time": "2023-02-08T11:05:17.033Z"
   },
   {
    "duration": 26,
    "start_time": "2023-02-08T11:07:16.352Z"
   },
   {
    "duration": 29,
    "start_time": "2023-02-08T11:07:52.808Z"
   },
   {
    "duration": 31,
    "start_time": "2023-02-08T11:13:58.331Z"
   },
   {
    "duration": 40,
    "start_time": "2023-02-08T11:52:09.251Z"
   },
   {
    "duration": 68,
    "start_time": "2023-02-08T12:02:13.153Z"
   },
   {
    "duration": 63,
    "start_time": "2023-02-08T12:06:07.959Z"
   },
   {
    "duration": 88,
    "start_time": "2023-02-08T12:10:25.475Z"
   },
   {
    "duration": 3,
    "start_time": "2023-02-08T12:10:32.627Z"
   },
   {
    "duration": 67,
    "start_time": "2023-02-08T12:10:32.633Z"
   },
   {
    "duration": 1261,
    "start_time": "2023-02-08T12:10:32.702Z"
   },
   {
    "duration": 102,
    "start_time": "2023-02-08T12:10:33.967Z"
   },
   {
    "duration": 24,
    "start_time": "2023-02-08T12:10:34.072Z"
   },
   {
    "duration": 49,
    "start_time": "2023-02-08T12:10:34.098Z"
   },
   {
    "duration": 4854,
    "start_time": "2023-02-08T12:10:34.148Z"
   },
   {
    "duration": 2331,
    "start_time": "2023-02-08T12:10:39.004Z"
   },
   {
    "duration": 289,
    "start_time": "2023-02-08T12:10:41.336Z"
   },
   {
    "duration": 4,
    "start_time": "2023-02-08T12:10:41.626Z"
   },
   {
    "duration": 292,
    "start_time": "2023-02-08T12:10:41.639Z"
   },
   {
    "duration": 8,
    "start_time": "2023-02-08T12:10:41.940Z"
   },
   {
    "duration": 112,
    "start_time": "2023-02-08T12:10:41.951Z"
   },
   {
    "duration": 128,
    "start_time": "2023-02-08T12:10:42.067Z"
   },
   {
    "duration": 3,
    "start_time": "2023-02-08T12:11:22.571Z"
   },
   {
    "duration": 17,
    "start_time": "2023-02-08T12:11:22.577Z"
   },
   {
    "duration": 1149,
    "start_time": "2023-02-08T12:11:22.596Z"
   },
   {
    "duration": 101,
    "start_time": "2023-02-08T12:11:23.746Z"
   },
   {
    "duration": 36,
    "start_time": "2023-02-08T12:11:23.850Z"
   },
   {
    "duration": 51,
    "start_time": "2023-02-08T12:11:23.887Z"
   },
   {
    "duration": 5401,
    "start_time": "2023-02-08T12:11:23.940Z"
   },
   {
    "duration": 2213,
    "start_time": "2023-02-08T12:11:29.344Z"
   },
   {
    "duration": 253,
    "start_time": "2023-02-08T12:11:31.559Z"
   },
   {
    "duration": 4,
    "start_time": "2023-02-08T12:11:31.813Z"
   },
   {
    "duration": 298,
    "start_time": "2023-02-08T12:11:31.819Z"
   },
   {
    "duration": 4,
    "start_time": "2023-02-08T12:11:32.119Z"
   },
   {
    "duration": 129,
    "start_time": "2023-02-08T12:11:32.125Z"
   },
   {
    "duration": 104,
    "start_time": "2023-02-08T12:11:32.259Z"
   },
   {
    "duration": 0,
    "start_time": "2023-02-08T12:11:32.364Z"
   },
   {
    "duration": 93,
    "start_time": "2023-02-08T12:11:55.595Z"
   },
   {
    "duration": 26,
    "start_time": "2023-02-08T12:12:56.771Z"
   },
   {
    "duration": 30,
    "start_time": "2023-02-08T12:13:13.780Z"
   },
   {
    "duration": 24,
    "start_time": "2023-02-08T13:07:04.067Z"
   },
   {
    "duration": 5,
    "start_time": "2023-02-08T13:28:27.512Z"
   },
   {
    "duration": 22,
    "start_time": "2023-02-08T13:30:39.932Z"
   },
   {
    "duration": 4,
    "start_time": "2023-02-08T13:31:03.660Z"
   },
   {
    "duration": 44,
    "start_time": "2023-02-08T13:33:19.798Z"
   },
   {
    "duration": 30,
    "start_time": "2023-02-08T13:33:54.898Z"
   },
   {
    "duration": 30,
    "start_time": "2023-02-08T13:33:59.180Z"
   },
   {
    "duration": 17,
    "start_time": "2023-02-08T13:39:26.196Z"
   },
   {
    "duration": 38,
    "start_time": "2023-02-08T13:41:11.941Z"
   },
   {
    "duration": 32,
    "start_time": "2023-02-08T13:43:03.848Z"
   },
   {
    "duration": 21,
    "start_time": "2023-02-08T13:50:38.609Z"
   },
   {
    "duration": 20,
    "start_time": "2023-02-08T13:51:39.104Z"
   },
   {
    "duration": 3,
    "start_time": "2023-02-08T14:51:40.146Z"
   },
   {
    "duration": 28,
    "start_time": "2023-02-08T14:51:40.151Z"
   },
   {
    "duration": 1551,
    "start_time": "2023-02-08T14:51:40.181Z"
   },
   {
    "duration": 91,
    "start_time": "2023-02-08T14:51:41.734Z"
   },
   {
    "duration": 28,
    "start_time": "2023-02-08T14:51:41.828Z"
   },
   {
    "duration": 51,
    "start_time": "2023-02-08T14:51:41.858Z"
   },
   {
    "duration": 4430,
    "start_time": "2023-02-08T14:51:41.911Z"
   },
   {
    "duration": 2103,
    "start_time": "2023-02-08T14:51:46.342Z"
   },
   {
    "duration": 271,
    "start_time": "2023-02-08T14:51:48.447Z"
   },
   {
    "duration": 5,
    "start_time": "2023-02-08T14:51:48.720Z"
   },
   {
    "duration": 257,
    "start_time": "2023-02-08T14:51:48.738Z"
   },
   {
    "duration": 5,
    "start_time": "2023-02-08T14:51:48.997Z"
   },
   {
    "duration": 86,
    "start_time": "2023-02-08T14:51:49.004Z"
   },
   {
    "duration": 12,
    "start_time": "2023-02-08T14:51:49.093Z"
   },
   {
    "duration": 97,
    "start_time": "2023-02-08T14:51:49.107Z"
   },
   {
    "duration": 14,
    "start_time": "2023-02-08T14:51:57.612Z"
   },
   {
    "duration": 9,
    "start_time": "2023-02-08T14:52:09.717Z"
   },
   {
    "duration": 7,
    "start_time": "2023-02-08T14:52:22.893Z"
   },
   {
    "duration": 1514,
    "start_time": "2023-02-08T14:52:34.405Z"
   },
   {
    "duration": 1972,
    "start_time": "2023-02-08T14:55:17.286Z"
   },
   {
    "duration": 77,
    "start_time": "2023-02-08T14:56:12.014Z"
   },
   {
    "duration": 1727,
    "start_time": "2023-02-08T14:56:16.334Z"
   },
   {
    "duration": 233,
    "start_time": "2023-02-08T15:03:16.264Z"
   },
   {
    "duration": 9,
    "start_time": "2023-02-08T15:04:24.607Z"
   },
   {
    "duration": 8,
    "start_time": "2023-02-08T15:04:35.719Z"
   },
   {
    "duration": 1432,
    "start_time": "2023-02-08T15:04:43.815Z"
   },
   {
    "duration": 1460,
    "start_time": "2023-02-08T15:05:23.280Z"
   },
   {
    "duration": 2453,
    "start_time": "2023-02-08T15:06:08.439Z"
   },
   {
    "duration": 2019,
    "start_time": "2023-02-08T15:07:09.152Z"
   },
   {
    "duration": 265,
    "start_time": "2023-02-08T15:12:29.336Z"
   },
   {
    "duration": 4,
    "start_time": "2023-02-08T15:13:18.249Z"
   },
   {
    "duration": 26,
    "start_time": "2023-02-08T15:13:21.952Z"
   },
   {
    "duration": 23,
    "start_time": "2023-02-08T15:13:27.722Z"
   },
   {
    "duration": 314,
    "start_time": "2023-02-08T15:14:33.220Z"
   },
   {
    "duration": 249,
    "start_time": "2023-02-08T15:14:45.497Z"
   },
   {
    "duration": 267,
    "start_time": "2023-02-08T15:15:12.423Z"
   },
   {
    "duration": 234,
    "start_time": "2023-02-08T15:15:26.246Z"
   },
   {
    "duration": 11,
    "start_time": "2023-02-08T15:19:23.042Z"
   },
   {
    "duration": 26,
    "start_time": "2023-02-08T15:19:36.648Z"
   },
   {
    "duration": 226,
    "start_time": "2023-02-08T15:22:04.443Z"
   },
   {
    "duration": 3,
    "start_time": "2023-02-08T15:31:07.933Z"
   },
   {
    "duration": 961,
    "start_time": "2023-02-08T15:32:33.180Z"
   },
   {
    "duration": 3,
    "start_time": "2023-02-08T15:37:38.988Z"
   },
   {
    "duration": 14,
    "start_time": "2023-02-08T15:37:38.993Z"
   },
   {
    "duration": 1034,
    "start_time": "2023-02-08T15:37:39.009Z"
   },
   {
    "duration": 100,
    "start_time": "2023-02-08T15:37:40.045Z"
   },
   {
    "duration": 42,
    "start_time": "2023-02-08T15:37:40.148Z"
   },
   {
    "duration": 47,
    "start_time": "2023-02-08T15:37:40.191Z"
   },
   {
    "duration": 4369,
    "start_time": "2023-02-08T15:37:40.240Z"
   },
   {
    "duration": 2035,
    "start_time": "2023-02-08T15:37:44.611Z"
   },
   {
    "duration": 258,
    "start_time": "2023-02-08T15:37:46.648Z"
   },
   {
    "duration": 5,
    "start_time": "2023-02-08T15:37:46.907Z"
   },
   {
    "duration": 260,
    "start_time": "2023-02-08T15:37:46.913Z"
   },
   {
    "duration": 4,
    "start_time": "2023-02-08T15:37:47.175Z"
   },
   {
    "duration": 87,
    "start_time": "2023-02-08T15:37:47.181Z"
   },
   {
    "duration": 12,
    "start_time": "2023-02-08T15:37:47.271Z"
   },
   {
    "duration": 101,
    "start_time": "2023-02-08T15:37:47.285Z"
   },
   {
    "duration": 3,
    "start_time": "2023-02-08T15:37:47.389Z"
   },
   {
    "duration": 1031,
    "start_time": "2023-02-08T15:37:47.395Z"
   },
   {
    "duration": 1357,
    "start_time": "2023-02-08T15:42:20.031Z"
   },
   {
    "duration": 947,
    "start_time": "2023-02-08T15:42:39.461Z"
   },
   {
    "duration": 911,
    "start_time": "2023-02-08T15:43:02.007Z"
   },
   {
    "duration": 904,
    "start_time": "2023-02-08T15:43:41.278Z"
   },
   {
    "duration": 4,
    "start_time": "2023-02-08T15:44:28.952Z"
   },
   {
    "duration": 24,
    "start_time": "2023-02-08T15:44:32.271Z"
   },
   {
    "duration": 28,
    "start_time": "2023-02-08T15:44:35.421Z"
   },
   {
    "duration": 9,
    "start_time": "2023-02-08T15:46:47.485Z"
   },
   {
    "duration": 9,
    "start_time": "2023-02-08T15:46:55.933Z"
   },
   {
    "duration": 10,
    "start_time": "2023-02-08T15:47:27.230Z"
   },
   {
    "duration": 28,
    "start_time": "2023-02-08T15:47:36.315Z"
   },
   {
    "duration": 31,
    "start_time": "2023-02-08T15:51:42.617Z"
   },
   {
    "duration": 40,
    "start_time": "2023-02-08T15:52:32.722Z"
   },
   {
    "duration": 9,
    "start_time": "2023-02-08T15:54:34.624Z"
   },
   {
    "duration": 11,
    "start_time": "2023-02-08T15:54:48.417Z"
   },
   {
    "duration": 9,
    "start_time": "2023-02-08T15:54:53.344Z"
   },
   {
    "duration": 24,
    "start_time": "2023-02-08T15:56:18.671Z"
   },
   {
    "duration": 1201,
    "start_time": "2023-02-08T15:56:49.559Z"
   },
   {
    "duration": 160,
    "start_time": "2023-02-08T15:57:04.743Z"
   },
   {
    "duration": 191,
    "start_time": "2023-02-08T15:57:18.814Z"
   },
   {
    "duration": 7,
    "start_time": "2023-02-08T16:23:04.936Z"
   },
   {
    "duration": 8,
    "start_time": "2023-02-08T16:51:42.319Z"
   },
   {
    "duration": 163,
    "start_time": "2023-02-08T16:51:59.252Z"
   },
   {
    "duration": 200,
    "start_time": "2023-02-08T16:52:10.028Z"
   },
   {
    "duration": 217,
    "start_time": "2023-02-08T16:53:47.020Z"
   },
   {
    "duration": 17,
    "start_time": "2023-02-08T16:54:17.341Z"
   },
   {
    "duration": 31,
    "start_time": "2023-02-08T16:54:26.618Z"
   },
   {
    "duration": 1301,
    "start_time": "2023-02-08T16:57:12.019Z"
   },
   {
    "duration": 5,
    "start_time": "2023-02-08T17:44:20.861Z"
   },
   {
    "duration": 4,
    "start_time": "2023-02-08T17:45:34.962Z"
   },
   {
    "duration": 10,
    "start_time": "2023-02-08T17:45:34.969Z"
   },
   {
    "duration": 1059,
    "start_time": "2023-02-08T17:45:34.981Z"
   },
   {
    "duration": 100,
    "start_time": "2023-02-08T17:45:36.042Z"
   },
   {
    "duration": 36,
    "start_time": "2023-02-08T17:45:36.145Z"
   },
   {
    "duration": 39,
    "start_time": "2023-02-08T17:45:36.184Z"
   },
   {
    "duration": 4376,
    "start_time": "2023-02-08T17:45:36.225Z"
   },
   {
    "duration": 2161,
    "start_time": "2023-02-08T17:45:40.603Z"
   },
   {
    "duration": 251,
    "start_time": "2023-02-08T17:45:42.765Z"
   },
   {
    "duration": 5,
    "start_time": "2023-02-08T17:45:43.019Z"
   },
   {
    "duration": 267,
    "start_time": "2023-02-08T17:45:43.038Z"
   },
   {
    "duration": 5,
    "start_time": "2023-02-08T17:45:43.306Z"
   },
   {
    "duration": 96,
    "start_time": "2023-02-08T17:45:43.313Z"
   },
   {
    "duration": 5,
    "start_time": "2023-02-08T17:45:43.413Z"
   },
   {
    "duration": 33,
    "start_time": "2023-02-08T17:45:43.421Z"
   },
   {
    "duration": 110,
    "start_time": "2023-02-08T17:45:43.456Z"
   },
   {
    "duration": 3,
    "start_time": "2023-02-08T17:45:43.568Z"
   },
   {
    "duration": 12,
    "start_time": "2023-02-08T17:45:43.573Z"
   },
   {
    "duration": 30,
    "start_time": "2023-02-08T17:45:43.586Z"
   },
   {
    "duration": 41,
    "start_time": "2023-02-08T17:45:43.619Z"
   },
   {
    "duration": 25,
    "start_time": "2023-02-08T17:45:43.662Z"
   },
   {
    "duration": 821,
    "start_time": "2023-02-08T17:45:43.689Z"
   },
   {
    "duration": 5,
    "start_time": "2023-02-08T17:48:34.126Z"
   },
   {
    "duration": 4,
    "start_time": "2023-02-08T17:48:39.431Z"
   },
   {
    "duration": 92,
    "start_time": "2023-02-08T18:11:48.378Z"
   },
   {
    "duration": 235,
    "start_time": "2023-02-08T18:15:19.509Z"
   },
   {
    "duration": 1761,
    "start_time": "2023-02-09T06:15:10.710Z"
   },
   {
    "duration": 4,
    "start_time": "2023-02-09T06:15:12.475Z"
   },
   {
    "duration": 3816,
    "start_time": "2023-02-09T06:15:12.481Z"
   },
   {
    "duration": 110,
    "start_time": "2023-02-09T06:15:16.299Z"
   },
   {
    "duration": 29,
    "start_time": "2023-02-09T06:15:16.412Z"
   },
   {
    "duration": 38,
    "start_time": "2023-02-09T06:15:16.443Z"
   },
   {
    "duration": 4745,
    "start_time": "2023-02-09T06:15:16.483Z"
   },
   {
    "duration": 2439,
    "start_time": "2023-02-09T06:15:21.230Z"
   },
   {
    "duration": 312,
    "start_time": "2023-02-09T06:15:23.671Z"
   },
   {
    "duration": 4,
    "start_time": "2023-02-09T06:15:23.985Z"
   },
   {
    "duration": 341,
    "start_time": "2023-02-09T06:15:23.991Z"
   },
   {
    "duration": 6,
    "start_time": "2023-02-09T06:15:24.334Z"
   },
   {
    "duration": 86,
    "start_time": "2023-02-09T06:15:24.342Z"
   },
   {
    "duration": 11,
    "start_time": "2023-02-09T06:15:24.430Z"
   },
   {
    "duration": 43,
    "start_time": "2023-02-09T06:15:24.442Z"
   },
   {
    "duration": 97,
    "start_time": "2023-02-09T06:15:24.486Z"
   },
   {
    "duration": 3,
    "start_time": "2023-02-09T06:15:24.585Z"
   },
   {
    "duration": 19,
    "start_time": "2023-02-09T06:15:24.590Z"
   },
   {
    "duration": 56,
    "start_time": "2023-02-09T06:15:24.611Z"
   },
   {
    "duration": 34,
    "start_time": "2023-02-09T06:15:24.669Z"
   },
   {
    "duration": 54,
    "start_time": "2023-02-09T06:15:24.706Z"
   },
   {
    "duration": 935,
    "start_time": "2023-02-09T06:15:24.762Z"
   },
   {
    "duration": 5,
    "start_time": "2023-02-09T06:15:25.699Z"
   },
   {
    "duration": 95,
    "start_time": "2023-02-09T06:15:25.705Z"
   },
   {
    "duration": 227,
    "start_time": "2023-02-09T06:15:25.802Z"
   },
   {
    "duration": 1411,
    "start_time": "2023-02-09T06:22:46.793Z"
   },
   {
    "duration": 7,
    "start_time": "2023-02-09T06:22:48.207Z"
   },
   {
    "duration": 1046,
    "start_time": "2023-02-09T06:22:48.216Z"
   },
   {
    "duration": 109,
    "start_time": "2023-02-09T06:22:49.264Z"
   },
   {
    "duration": 35,
    "start_time": "2023-02-09T06:22:49.376Z"
   },
   {
    "duration": 42,
    "start_time": "2023-02-09T06:22:49.414Z"
   },
   {
    "duration": 4660,
    "start_time": "2023-02-09T06:22:49.458Z"
   },
   {
    "duration": 2095,
    "start_time": "2023-02-09T06:22:54.120Z"
   },
   {
    "duration": 318,
    "start_time": "2023-02-09T06:22:56.217Z"
   },
   {
    "duration": 6,
    "start_time": "2023-02-09T06:22:56.537Z"
   },
   {
    "duration": 328,
    "start_time": "2023-02-09T06:22:56.545Z"
   },
   {
    "duration": 5,
    "start_time": "2023-02-09T06:22:56.875Z"
   },
   {
    "duration": 95,
    "start_time": "2023-02-09T06:22:56.882Z"
   },
   {
    "duration": 6,
    "start_time": "2023-02-09T06:22:56.981Z"
   },
   {
    "duration": 28,
    "start_time": "2023-02-09T06:22:56.989Z"
   },
   {
    "duration": 120,
    "start_time": "2023-02-09T06:22:57.019Z"
   },
   {
    "duration": 4,
    "start_time": "2023-02-09T06:22:57.141Z"
   },
   {
    "duration": 14,
    "start_time": "2023-02-09T06:22:57.147Z"
   },
   {
    "duration": 43,
    "start_time": "2023-02-09T06:22:57.163Z"
   },
   {
    "duration": 55,
    "start_time": "2023-02-09T06:22:57.209Z"
   },
   {
    "duration": 33,
    "start_time": "2023-02-09T06:22:57.266Z"
   },
   {
    "duration": 899,
    "start_time": "2023-02-09T06:22:57.302Z"
   },
   {
    "duration": 5,
    "start_time": "2023-02-09T06:22:58.203Z"
   },
   {
    "duration": 96,
    "start_time": "2023-02-09T06:22:58.209Z"
   },
   {
    "duration": 230,
    "start_time": "2023-02-09T06:22:58.307Z"
   },
   {
    "duration": 13,
    "start_time": "2023-02-09T06:25:41.650Z"
   },
   {
    "duration": 15,
    "start_time": "2023-02-09T06:25:48.010Z"
   },
   {
    "duration": 15,
    "start_time": "2023-02-09T06:26:00.314Z"
   },
   {
    "duration": 18,
    "start_time": "2023-02-09T06:26:08.929Z"
   },
   {
    "duration": 16,
    "start_time": "2023-02-09T06:26:22.636Z"
   },
   {
    "duration": 14,
    "start_time": "2023-02-09T06:26:26.923Z"
   },
   {
    "duration": 18,
    "start_time": "2023-02-09T06:27:44.270Z"
   },
   {
    "duration": 151,
    "start_time": "2023-02-09T06:27:57.635Z"
   },
   {
    "duration": 135,
    "start_time": "2023-02-09T06:31:31.364Z"
   },
   {
    "duration": 22,
    "start_time": "2023-02-09T06:32:13.325Z"
   },
   {
    "duration": 158,
    "start_time": "2023-02-09T06:33:19.655Z"
   },
   {
    "duration": 184,
    "start_time": "2023-02-09T06:33:43.685Z"
   },
   {
    "duration": 190,
    "start_time": "2023-02-09T06:34:10.804Z"
   },
   {
    "duration": 168,
    "start_time": "2023-02-09T06:34:34.908Z"
   },
   {
    "duration": 3,
    "start_time": "2023-02-09T06:35:59.830Z"
   },
   {
    "duration": 206,
    "start_time": "2023-02-09T06:36:16.653Z"
   },
   {
    "duration": 39,
    "start_time": "2023-02-09T06:39:02.974Z"
   },
   {
    "duration": 49,
    "start_time": "2023-02-09T06:39:41.765Z"
   },
   {
    "duration": 220,
    "start_time": "2023-02-09T06:39:49.727Z"
   },
   {
    "duration": 159,
    "start_time": "2023-02-09T06:43:08.766Z"
   },
   {
    "duration": 171,
    "start_time": "2023-02-09T06:43:18.391Z"
   },
   {
    "duration": 989,
    "start_time": "2023-02-09T06:48:00.480Z"
   },
   {
    "duration": 4934,
    "start_time": "2023-02-09T06:48:38.176Z"
   },
   {
    "duration": 130,
    "start_time": "2023-02-09T06:51:32.058Z"
   },
   {
    "duration": 25,
    "start_time": "2023-02-09T06:51:52.818Z"
   },
   {
    "duration": 34,
    "start_time": "2023-02-09T06:51:58.016Z"
   },
   {
    "duration": 23,
    "start_time": "2023-02-09T06:52:03.224Z"
   },
   {
    "duration": 108,
    "start_time": "2023-02-09T06:52:06.936Z"
   },
   {
    "duration": 935,
    "start_time": "2023-02-09T06:52:15.222Z"
   },
   {
    "duration": 129,
    "start_time": "2023-02-09T06:52:36.061Z"
   },
   {
    "duration": 70,
    "start_time": "2023-02-09T06:53:07.489Z"
   },
   {
    "duration": 35,
    "start_time": "2023-02-09T06:53:11.706Z"
   },
   {
    "duration": 95,
    "start_time": "2023-02-09T06:53:24.761Z"
   },
   {
    "duration": 238,
    "start_time": "2023-02-09T06:56:24.818Z"
   },
   {
    "duration": 78,
    "start_time": "2023-02-09T06:56:34.250Z"
   },
   {
    "duration": 191,
    "start_time": "2023-02-09T06:56:37.394Z"
   },
   {
    "duration": 158,
    "start_time": "2023-02-09T06:57:09.155Z"
   },
   {
    "duration": 34,
    "start_time": "2023-02-09T06:57:21.186Z"
   },
   {
    "duration": 232,
    "start_time": "2023-02-09T06:57:30.713Z"
   },
   {
    "duration": 159,
    "start_time": "2023-02-09T06:57:41.065Z"
   },
   {
    "duration": 186,
    "start_time": "2023-02-09T06:58:19.954Z"
   },
   {
    "duration": 224,
    "start_time": "2023-02-09T06:58:37.266Z"
   },
   {
    "duration": 2593,
    "start_time": "2023-02-09T07:05:40.180Z"
   },
   {
    "duration": 2040,
    "start_time": "2023-02-09T07:05:51.866Z"
   },
   {
    "duration": 52,
    "start_time": "2023-02-09T07:55:24.006Z"
   },
   {
    "duration": 41,
    "start_time": "2023-02-09T07:55:42.441Z"
   },
   {
    "duration": 23,
    "start_time": "2023-02-09T07:56:35.216Z"
   },
   {
    "duration": 18,
    "start_time": "2023-02-09T07:57:20.223Z"
   },
   {
    "duration": 11,
    "start_time": "2023-02-09T07:58:26.513Z"
   },
   {
    "duration": 11,
    "start_time": "2023-02-09T07:58:31.905Z"
   },
   {
    "duration": 11,
    "start_time": "2023-02-09T07:58:39.111Z"
   },
   {
    "duration": 15,
    "start_time": "2023-02-09T07:59:16.880Z"
   },
   {
    "duration": 16,
    "start_time": "2023-02-09T07:59:26.336Z"
   },
   {
    "duration": 53,
    "start_time": "2023-02-09T08:03:06.047Z"
   },
   {
    "duration": 111,
    "start_time": "2023-02-09T08:04:11.634Z"
   },
   {
    "duration": 209,
    "start_time": "2023-02-09T08:08:46.292Z"
   },
   {
    "duration": 1755,
    "start_time": "2023-02-09T08:09:35.227Z"
   },
   {
    "duration": 194,
    "start_time": "2023-02-09T08:09:49.610Z"
   },
   {
    "duration": 230,
    "start_time": "2023-02-09T08:11:02.523Z"
   },
   {
    "duration": 170,
    "start_time": "2023-02-09T08:11:40.858Z"
   },
   {
    "duration": 180,
    "start_time": "2023-02-09T08:12:06.786Z"
   },
   {
    "duration": 182,
    "start_time": "2023-02-09T08:12:36.154Z"
   },
   {
    "duration": 51,
    "start_time": "2023-02-09T08:13:35.977Z"
   },
   {
    "duration": 24,
    "start_time": "2023-02-09T08:14:21.274Z"
   },
   {
    "duration": 201,
    "start_time": "2023-02-09T08:17:31.506Z"
   },
   {
    "duration": 207,
    "start_time": "2023-02-09T08:17:55.552Z"
   },
   {
    "duration": 200,
    "start_time": "2023-02-09T08:18:37.204Z"
   },
   {
    "duration": 231,
    "start_time": "2023-02-09T08:18:56.665Z"
   },
   {
    "duration": 249,
    "start_time": "2023-02-09T08:19:28.709Z"
   },
   {
    "duration": 209,
    "start_time": "2023-02-09T08:28:55.511Z"
   },
   {
    "duration": 1731,
    "start_time": "2023-02-09T08:30:39.496Z"
   },
   {
    "duration": 205,
    "start_time": "2023-02-09T08:30:51.974Z"
   },
   {
    "duration": 68,
    "start_time": "2023-02-09T08:41:00.886Z"
   },
   {
    "duration": 878,
    "start_time": "2023-02-09T08:41:32.990Z"
   },
   {
    "duration": 73,
    "start_time": "2023-02-09T08:41:47.181Z"
   },
   {
    "duration": 192,
    "start_time": "2023-02-09T08:42:13.890Z"
   },
   {
    "duration": 218,
    "start_time": "2023-02-09T08:42:26.464Z"
   },
   {
    "duration": 64,
    "start_time": "2023-02-09T08:43:04.809Z"
   },
   {
    "duration": 140,
    "start_time": "2023-02-09T08:46:15.187Z"
   },
   {
    "duration": 177,
    "start_time": "2023-02-09T08:46:47.906Z"
   },
   {
    "duration": 62,
    "start_time": "2023-02-09T08:47:18.314Z"
   },
   {
    "duration": 739,
    "start_time": "2023-02-09T08:50:04.906Z"
   },
   {
    "duration": 15,
    "start_time": "2023-02-09T08:50:47.900Z"
   },
   {
    "duration": 627,
    "start_time": "2023-02-09T08:51:04.990Z"
   },
   {
    "duration": 4454,
    "start_time": "2023-02-09T08:52:15.604Z"
   },
   {
    "duration": 53,
    "start_time": "2023-02-09T08:54:39.678Z"
   },
   {
    "duration": 183,
    "start_time": "2023-02-09T08:55:33.597Z"
   },
   {
    "duration": 62,
    "start_time": "2023-02-09T08:56:46.998Z"
   },
   {
    "duration": 53,
    "start_time": "2023-02-09T08:58:09.807Z"
   },
   {
    "duration": 204,
    "start_time": "2023-02-09T09:01:58.157Z"
   },
   {
    "duration": 200,
    "start_time": "2023-02-09T09:07:22.380Z"
   },
   {
    "duration": 187,
    "start_time": "2023-02-09T09:07:36.102Z"
   },
   {
    "duration": 854,
    "start_time": "2023-02-09T09:12:42.410Z"
   },
   {
    "duration": 457,
    "start_time": "2023-02-09T09:13:03.183Z"
   },
   {
    "duration": 484,
    "start_time": "2023-02-09T09:13:31.583Z"
   },
   {
    "duration": 368,
    "start_time": "2023-02-09T09:13:56.306Z"
   },
   {
    "duration": 636,
    "start_time": "2023-02-09T09:14:11.320Z"
   },
   {
    "duration": 348,
    "start_time": "2023-02-09T09:14:18.719Z"
   },
   {
    "duration": 376,
    "start_time": "2023-02-09T09:15:21.888Z"
   },
   {
    "duration": 218,
    "start_time": "2023-02-09T09:31:05.011Z"
   },
   {
    "duration": 683,
    "start_time": "2023-02-09T09:32:02.374Z"
   },
   {
    "duration": 620,
    "start_time": "2023-02-09T09:32:38.683Z"
   },
   {
    "duration": 677,
    "start_time": "2023-02-09T09:36:15.678Z"
   },
   {
    "duration": 108,
    "start_time": "2023-02-09T09:43:52.310Z"
   },
   {
    "duration": 361,
    "start_time": "2023-02-09T09:44:11.867Z"
   },
   {
    "duration": 356,
    "start_time": "2023-02-09T09:48:36.287Z"
   },
   {
    "duration": 255,
    "start_time": "2023-02-09T09:50:57.513Z"
   },
   {
    "duration": 393,
    "start_time": "2023-02-09T09:53:45.184Z"
   },
   {
    "duration": 18,
    "start_time": "2023-02-09T09:54:46.386Z"
   },
   {
    "duration": 5,
    "start_time": "2023-02-09T09:55:41.801Z"
   },
   {
    "duration": 55,
    "start_time": "2023-02-09T09:59:55.528Z"
   },
   {
    "duration": 33,
    "start_time": "2023-02-09T10:00:36.216Z"
   },
   {
    "duration": 30,
    "start_time": "2023-02-09T10:03:50.179Z"
   },
   {
    "duration": 6,
    "start_time": "2023-02-09T10:04:19.610Z"
   },
   {
    "duration": 11,
    "start_time": "2023-02-09T10:05:06.862Z"
   },
   {
    "duration": 24,
    "start_time": "2023-02-09T10:05:17.316Z"
   },
   {
    "duration": 41,
    "start_time": "2023-02-09T10:05:50.746Z"
   },
   {
    "duration": 37,
    "start_time": "2023-02-09T10:11:45.731Z"
   },
   {
    "duration": 42,
    "start_time": "2023-02-09T10:15:27.043Z"
   },
   {
    "duration": 117,
    "start_time": "2023-02-09T10:18:03.278Z"
   },
   {
    "duration": 31,
    "start_time": "2023-02-09T10:18:09.466Z"
   },
   {
    "duration": 4,
    "start_time": "2023-02-09T10:26:28.882Z"
   },
   {
    "duration": 683,
    "start_time": "2023-02-09T10:29:22.299Z"
   },
   {
    "duration": 711,
    "start_time": "2023-02-09T10:29:39.794Z"
   },
   {
    "duration": 1007,
    "start_time": "2023-02-09T10:30:30.893Z"
   },
   {
    "duration": 1363,
    "start_time": "2023-02-09T10:31:35.717Z"
   },
   {
    "duration": 1697,
    "start_time": "2023-02-09T10:33:21.710Z"
   },
   {
    "duration": 65,
    "start_time": "2023-02-09T10:34:59.311Z"
   },
   {
    "duration": 865,
    "start_time": "2023-02-09T10:35:57.649Z"
   },
   {
    "duration": 59,
    "start_time": "2023-02-09T10:36:05.795Z"
   },
   {
    "duration": 267,
    "start_time": "2023-02-09T10:43:14.624Z"
   },
   {
    "duration": 471,
    "start_time": "2023-02-09T10:46:16.388Z"
   },
   {
    "duration": 41,
    "start_time": "2023-02-09T10:57:29.710Z"
   },
   {
    "duration": 58,
    "start_time": "2023-02-09T10:57:39.630Z"
   },
   {
    "duration": 72,
    "start_time": "2023-02-09T10:57:57.053Z"
   },
   {
    "duration": 13,
    "start_time": "2023-02-09T10:59:47.003Z"
   },
   {
    "duration": 32,
    "start_time": "2023-02-09T10:59:53.980Z"
   },
   {
    "duration": 65,
    "start_time": "2023-02-09T11:00:06.513Z"
   },
   {
    "duration": 45,
    "start_time": "2023-02-09T11:00:34.607Z"
   },
   {
    "duration": 31,
    "start_time": "2023-02-09T11:00:39.303Z"
   },
   {
    "duration": 50,
    "start_time": "2023-02-09T11:00:44.860Z"
   },
   {
    "duration": 4,
    "start_time": "2023-02-09T11:02:08.816Z"
   },
   {
    "duration": 61,
    "start_time": "2023-02-09T11:02:36.596Z"
   },
   {
    "duration": 10,
    "start_time": "2023-02-09T11:02:55.409Z"
   },
   {
    "duration": 9,
    "start_time": "2023-02-09T11:03:00.016Z"
   },
   {
    "duration": 4,
    "start_time": "2023-02-09T11:03:06.784Z"
   },
   {
    "duration": 5,
    "start_time": "2023-02-09T11:03:11.723Z"
   },
   {
    "duration": 28,
    "start_time": "2023-02-09T11:03:58.193Z"
   },
   {
    "duration": 29,
    "start_time": "2023-02-09T11:05:15.357Z"
   },
   {
    "duration": 3768,
    "start_time": "2023-02-09T11:05:30.712Z"
   },
   {
    "duration": 45,
    "start_time": "2023-02-09T11:05:57.313Z"
   },
   {
    "duration": 7934,
    "start_time": "2023-02-09T11:07:02.516Z"
   },
   {
    "duration": 45,
    "start_time": "2023-02-09T11:07:12.309Z"
   },
   {
    "duration": 65,
    "start_time": "2023-02-09T11:12:37.989Z"
   },
   {
    "duration": 411,
    "start_time": "2023-02-09T11:13:47.500Z"
   },
   {
    "duration": 64,
    "start_time": "2023-02-09T11:14:11.910Z"
   },
   {
    "duration": 10,
    "start_time": "2023-02-09T11:21:42.953Z"
   },
   {
    "duration": 24,
    "start_time": "2023-02-09T11:21:59.492Z"
   },
   {
    "duration": 25,
    "start_time": "2023-02-09T11:22:22.988Z"
   },
   {
    "duration": 30,
    "start_time": "2023-02-09T11:22:49.608Z"
   },
   {
    "duration": 24,
    "start_time": "2023-02-09T11:24:44.583Z"
   },
   {
    "duration": 14,
    "start_time": "2023-02-09T11:25:14.850Z"
   },
   {
    "duration": 28,
    "start_time": "2023-02-09T11:25:28.234Z"
   },
   {
    "duration": 15,
    "start_time": "2023-02-09T11:25:49.989Z"
   },
   {
    "duration": 13,
    "start_time": "2023-02-09T11:26:01.698Z"
   },
   {
    "duration": 17,
    "start_time": "2023-02-09T11:31:04.442Z"
   },
   {
    "duration": 11,
    "start_time": "2023-02-09T11:31:16.643Z"
   },
   {
    "duration": 10,
    "start_time": "2023-02-09T11:31:25.325Z"
   },
   {
    "duration": 62,
    "start_time": "2023-02-09T11:31:41.592Z"
   },
   {
    "duration": 10,
    "start_time": "2023-02-09T11:31:49.792Z"
   },
   {
    "duration": 30,
    "start_time": "2023-02-09T11:31:58.381Z"
   },
   {
    "duration": 23,
    "start_time": "2023-02-09T11:40:19.434Z"
   },
   {
    "duration": 120,
    "start_time": "2023-02-09T11:41:37.059Z"
   },
   {
    "duration": 13,
    "start_time": "2023-02-09T11:42:22.558Z"
   },
   {
    "duration": 18,
    "start_time": "2023-02-09T11:42:31.022Z"
   },
   {
    "duration": 90,
    "start_time": "2023-02-09T11:42:40.893Z"
   },
   {
    "duration": 3,
    "start_time": "2023-02-09T11:45:08.333Z"
   },
   {
    "duration": 14,
    "start_time": "2023-02-09T11:45:08.338Z"
   },
   {
    "duration": 1048,
    "start_time": "2023-02-09T11:45:08.353Z"
   },
   {
    "duration": 106,
    "start_time": "2023-02-09T11:45:09.403Z"
   },
   {
    "duration": 34,
    "start_time": "2023-02-09T11:45:09.512Z"
   },
   {
    "duration": 37,
    "start_time": "2023-02-09T11:45:09.548Z"
   },
   {
    "duration": 4429,
    "start_time": "2023-02-09T11:45:09.587Z"
   },
   {
    "duration": 2060,
    "start_time": "2023-02-09T11:45:14.018Z"
   },
   {
    "duration": 242,
    "start_time": "2023-02-09T11:45:16.080Z"
   },
   {
    "duration": 4,
    "start_time": "2023-02-09T11:45:16.324Z"
   },
   {
    "duration": 257,
    "start_time": "2023-02-09T11:45:16.330Z"
   },
   {
    "duration": 5,
    "start_time": "2023-02-09T11:45:16.588Z"
   },
   {
    "duration": 94,
    "start_time": "2023-02-09T11:45:16.594Z"
   },
   {
    "duration": 4,
    "start_time": "2023-02-09T11:45:16.691Z"
   },
   {
    "duration": 23,
    "start_time": "2023-02-09T11:45:16.697Z"
   },
   {
    "duration": 98,
    "start_time": "2023-02-09T11:45:16.722Z"
   },
   {
    "duration": 3,
    "start_time": "2023-02-09T11:45:16.822Z"
   },
   {
    "duration": 4,
    "start_time": "2023-02-09T11:45:16.838Z"
   },
   {
    "duration": 32,
    "start_time": "2023-02-09T11:45:16.844Z"
   },
   {
    "duration": 24,
    "start_time": "2023-02-09T11:45:16.878Z"
   },
   {
    "duration": 55,
    "start_time": "2023-02-09T11:45:16.904Z"
   },
   {
    "duration": 966,
    "start_time": "2023-02-09T11:45:16.961Z"
   },
   {
    "duration": 4,
    "start_time": "2023-02-09T11:45:17.929Z"
   },
   {
    "duration": 79,
    "start_time": "2023-02-09T11:45:17.938Z"
   },
   {
    "duration": 290,
    "start_time": "2023-02-09T11:45:18.019Z"
   },
   {
    "duration": 27,
    "start_time": "2023-02-09T11:45:18.311Z"
   },
   {
    "duration": 204,
    "start_time": "2023-02-09T11:45:18.340Z"
   },
   {
    "duration": 1675,
    "start_time": "2023-02-09T11:45:18.546Z"
   },
   {
    "duration": 236,
    "start_time": "2023-02-09T11:45:20.223Z"
   },
   {
    "duration": 70,
    "start_time": "2023-02-09T11:45:56.573Z"
   },
   {
    "duration": 212,
    "start_time": "2023-02-09T11:47:01.833Z"
   },
   {
    "duration": 155,
    "start_time": "2023-02-09T11:49:11.902Z"
   },
   {
    "duration": 225,
    "start_time": "2023-02-09T11:51:08.344Z"
   },
   {
    "duration": 342,
    "start_time": "2023-02-09T11:52:31.695Z"
   },
   {
    "duration": 26,
    "start_time": "2023-02-09T11:52:43.784Z"
   },
   {
    "duration": 161,
    "start_time": "2023-02-09T11:53:42.135Z"
   },
   {
    "duration": 149,
    "start_time": "2023-02-09T12:11:48.732Z"
   },
   {
    "duration": 153,
    "start_time": "2023-02-09T12:11:53.628Z"
   },
   {
    "duration": 118,
    "start_time": "2023-02-09T12:12:09.123Z"
   },
   {
    "duration": 29,
    "start_time": "2023-02-09T12:12:46.127Z"
   },
   {
    "duration": 186,
    "start_time": "2023-02-09T12:13:01.997Z"
   },
   {
    "duration": 12,
    "start_time": "2023-02-09T12:13:33.661Z"
   },
   {
    "duration": 15,
    "start_time": "2023-02-09T12:17:35.007Z"
   },
   {
    "duration": 12,
    "start_time": "2023-02-09T12:17:43.809Z"
   },
   {
    "duration": 34,
    "start_time": "2023-02-09T12:17:51.927Z"
   },
   {
    "duration": 15,
    "start_time": "2023-02-09T12:18:20.983Z"
   },
   {
    "duration": 14,
    "start_time": "2023-02-09T12:18:33.063Z"
   },
   {
    "duration": 30,
    "start_time": "2023-02-09T12:18:52.844Z"
   },
   {
    "duration": 25,
    "start_time": "2023-02-09T12:19:06.550Z"
   },
   {
    "duration": 20,
    "start_time": "2023-02-09T12:19:30.762Z"
   },
   {
    "duration": 509,
    "start_time": "2023-02-09T12:20:37.337Z"
   },
   {
    "duration": 68,
    "start_time": "2023-02-09T12:20:58.266Z"
   },
   {
    "duration": 63,
    "start_time": "2023-02-09T12:21:50.697Z"
   },
   {
    "duration": 64,
    "start_time": "2023-02-09T12:22:25.764Z"
   },
   {
    "duration": 282,
    "start_time": "2023-02-09T12:23:00.183Z"
   },
   {
    "duration": 87,
    "start_time": "2023-02-09T12:23:20.623Z"
   },
   {
    "duration": 67,
    "start_time": "2023-02-09T12:23:43.742Z"
   },
   {
    "duration": 23,
    "start_time": "2023-02-09T12:23:55.801Z"
   },
   {
    "duration": 19,
    "start_time": "2023-02-09T12:25:41.674Z"
   },
   {
    "duration": 21,
    "start_time": "2023-02-09T12:27:45.211Z"
   },
   {
    "duration": 21,
    "start_time": "2023-02-09T12:29:34.995Z"
   },
   {
    "duration": 8352,
    "start_time": "2023-02-09T12:30:11.550Z"
   },
   {
    "duration": 52,
    "start_time": "2023-02-09T12:30:25.437Z"
   },
   {
    "duration": 8410,
    "start_time": "2023-02-09T12:30:28.963Z"
   },
   {
    "duration": 44,
    "start_time": "2023-02-09T12:30:40.530Z"
   },
   {
    "duration": 270,
    "start_time": "2023-02-09T12:31:07.613Z"
   },
   {
    "duration": 486,
    "start_time": "2023-02-09T12:31:12.172Z"
   },
   {
    "duration": 65,
    "start_time": "2023-02-09T12:31:15.171Z"
   },
   {
    "duration": 85,
    "start_time": "2023-02-09T12:34:10.668Z"
   },
   {
    "duration": 1456,
    "start_time": "2023-02-09T12:35:12.541Z"
   },
   {
    "duration": 102,
    "start_time": "2023-02-09T12:35:20.765Z"
   },
   {
    "duration": 27,
    "start_time": "2023-02-09T12:35:30.063Z"
   },
   {
    "duration": 95,
    "start_time": "2023-02-09T12:37:54.966Z"
   },
   {
    "duration": 80,
    "start_time": "2023-02-09T12:38:48.599Z"
   },
   {
    "duration": 25,
    "start_time": "2023-02-09T12:39:31.626Z"
   },
   {
    "duration": 13,
    "start_time": "2023-02-09T12:50:39.553Z"
   },
   {
    "duration": 14,
    "start_time": "2023-02-09T12:51:45.028Z"
   },
   {
    "duration": 19,
    "start_time": "2023-02-09T12:52:02.723Z"
   },
   {
    "duration": 40,
    "start_time": "2023-02-09T12:52:35.172Z"
   },
   {
    "duration": 12,
    "start_time": "2023-02-09T12:53:45.771Z"
   },
   {
    "duration": 18,
    "start_time": "2023-02-09T12:53:53.596Z"
   },
   {
    "duration": 50,
    "start_time": "2023-02-09T12:55:08.989Z"
   },
   {
    "duration": 18,
    "start_time": "2023-02-09T12:55:36.960Z"
   },
   {
    "duration": 50,
    "start_time": "2023-02-09T12:55:56.436Z"
   },
   {
    "duration": 18,
    "start_time": "2023-02-09T12:58:20.473Z"
   },
   {
    "duration": 100,
    "start_time": "2023-02-09T12:59:18.590Z"
   },
   {
    "duration": 157,
    "start_time": "2023-02-09T12:59:53.326Z"
   },
   {
    "duration": 94,
    "start_time": "2023-02-09T13:00:06.318Z"
   },
   {
    "duration": 28,
    "start_time": "2023-02-09T13:00:10.214Z"
   },
   {
    "duration": 17,
    "start_time": "2023-02-09T13:00:53.614Z"
   },
   {
    "duration": 29,
    "start_time": "2023-02-09T13:01:09.457Z"
   },
   {
    "duration": 23,
    "start_time": "2023-02-09T13:02:27.095Z"
   },
   {
    "duration": 14,
    "start_time": "2023-02-09T13:02:47.013Z"
   },
   {
    "duration": 36,
    "start_time": "2023-02-09T13:03:10.024Z"
   },
   {
    "duration": 50,
    "start_time": "2023-02-09T13:03:24.967Z"
   },
   {
    "duration": 18,
    "start_time": "2023-02-09T13:03:38.501Z"
   },
   {
    "duration": 17,
    "start_time": "2023-02-09T13:04:04.262Z"
   },
   {
    "duration": 16,
    "start_time": "2023-02-09T13:04:15.254Z"
   },
   {
    "duration": 14,
    "start_time": "2023-02-09T13:04:22.687Z"
   },
   {
    "duration": 28,
    "start_time": "2023-02-09T13:04:54.338Z"
   },
   {
    "duration": 14,
    "start_time": "2023-02-09T13:05:19.495Z"
   },
   {
    "duration": 10,
    "start_time": "2023-02-09T13:05:34.903Z"
   },
   {
    "duration": 59,
    "start_time": "2023-02-09T13:06:58.736Z"
   },
   {
    "duration": 43,
    "start_time": "2023-02-09T13:07:22.676Z"
   },
   {
    "duration": 63,
    "start_time": "2023-02-09T13:07:50.482Z"
   },
   {
    "duration": 8,
    "start_time": "2023-02-09T13:10:02.535Z"
   },
   {
    "duration": 176,
    "start_time": "2023-02-09T13:10:02.545Z"
   },
   {
    "duration": 1255,
    "start_time": "2023-02-09T13:10:02.723Z"
   },
   {
    "duration": 147,
    "start_time": "2023-02-09T13:10:03.980Z"
   },
   {
    "duration": 39,
    "start_time": "2023-02-09T13:10:04.130Z"
   },
   {
    "duration": 31,
    "start_time": "2023-02-09T13:10:04.171Z"
   },
   {
    "duration": 4638,
    "start_time": "2023-02-09T13:10:04.205Z"
   },
   {
    "duration": 2196,
    "start_time": "2023-02-09T13:10:08.846Z"
   },
   {
    "duration": 278,
    "start_time": "2023-02-09T13:10:11.049Z"
   },
   {
    "duration": 28,
    "start_time": "2023-02-09T13:10:11.329Z"
   },
   {
    "duration": 290,
    "start_time": "2023-02-09T13:10:11.359Z"
   },
   {
    "duration": 4,
    "start_time": "2023-02-09T13:10:11.655Z"
   },
   {
    "duration": 81,
    "start_time": "2023-02-09T13:10:11.661Z"
   },
   {
    "duration": 5,
    "start_time": "2023-02-09T13:10:11.749Z"
   },
   {
    "duration": 28,
    "start_time": "2023-02-09T13:10:11.756Z"
   },
   {
    "duration": 98,
    "start_time": "2023-02-09T13:10:11.786Z"
   },
   {
    "duration": 4,
    "start_time": "2023-02-09T13:10:11.886Z"
   },
   {
    "duration": 8,
    "start_time": "2023-02-09T13:10:11.892Z"
   },
   {
    "duration": 50,
    "start_time": "2023-02-09T13:10:11.902Z"
   },
   {
    "duration": 53,
    "start_time": "2023-02-09T13:10:11.958Z"
   },
   {
    "duration": 44,
    "start_time": "2023-02-09T13:10:12.012Z"
   },
   {
    "duration": 1709,
    "start_time": "2023-02-09T13:10:12.058Z"
   },
   {
    "duration": 5,
    "start_time": "2023-02-09T13:10:13.769Z"
   },
   {
    "duration": 98,
    "start_time": "2023-02-09T13:10:13.776Z"
   },
   {
    "duration": 243,
    "start_time": "2023-02-09T13:10:13.875Z"
   },
   {
    "duration": 35,
    "start_time": "2023-02-09T13:10:14.120Z"
   },
   {
    "duration": 202,
    "start_time": "2023-02-09T13:10:14.157Z"
   },
   {
    "duration": 1660,
    "start_time": "2023-02-09T13:10:14.361Z"
   },
   {
    "duration": 292,
    "start_time": "2023-02-09T13:10:16.023Z"
   },
   {
    "duration": 556,
    "start_time": "2023-02-09T13:10:16.317Z"
   },
   {
    "duration": 84,
    "start_time": "2023-02-09T13:10:16.875Z"
   },
   {
    "duration": 97,
    "start_time": "2023-02-09T13:10:16.961Z"
   },
   {
    "duration": 38,
    "start_time": "2023-02-09T13:10:27.433Z"
   },
   {
    "duration": 74,
    "start_time": "2023-02-09T13:10:30.659Z"
   },
   {
    "duration": 63,
    "start_time": "2023-02-09T13:10:35.129Z"
   },
   {
    "duration": 3,
    "start_time": "2023-02-09T13:11:00.155Z"
   },
   {
    "duration": 54,
    "start_time": "2023-02-09T13:11:00.160Z"
   },
   {
    "duration": 1175,
    "start_time": "2023-02-09T13:11:00.215Z"
   },
   {
    "duration": 115,
    "start_time": "2023-02-09T13:11:01.393Z"
   },
   {
    "duration": 44,
    "start_time": "2023-02-09T13:11:01.512Z"
   },
   {
    "duration": 69,
    "start_time": "2023-02-09T13:11:01.559Z"
   },
   {
    "duration": 5039,
    "start_time": "2023-02-09T13:11:01.631Z"
   },
   {
    "duration": 2574,
    "start_time": "2023-02-09T13:11:06.672Z"
   },
   {
    "duration": 412,
    "start_time": "2023-02-09T13:11:09.248Z"
   },
   {
    "duration": 6,
    "start_time": "2023-02-09T13:11:09.663Z"
   },
   {
    "duration": 307,
    "start_time": "2023-02-09T13:11:09.670Z"
   },
   {
    "duration": 5,
    "start_time": "2023-02-09T13:11:09.979Z"
   },
   {
    "duration": 117,
    "start_time": "2023-02-09T13:11:09.986Z"
   },
   {
    "duration": 5,
    "start_time": "2023-02-09T13:11:10.106Z"
   },
   {
    "duration": 77,
    "start_time": "2023-02-09T13:11:10.112Z"
   },
   {
    "duration": 137,
    "start_time": "2023-02-09T13:11:10.191Z"
   },
   {
    "duration": 3,
    "start_time": "2023-02-09T13:11:10.330Z"
   },
   {
    "duration": 61,
    "start_time": "2023-02-09T13:11:10.337Z"
   },
   {
    "duration": 103,
    "start_time": "2023-02-09T13:11:10.400Z"
   },
   {
    "duration": 29,
    "start_time": "2023-02-09T13:11:10.504Z"
   },
   {
    "duration": 38,
    "start_time": "2023-02-09T13:11:10.534Z"
   },
   {
    "duration": 1011,
    "start_time": "2023-02-09T13:11:10.573Z"
   },
   {
    "duration": 6,
    "start_time": "2023-02-09T13:11:11.587Z"
   },
   {
    "duration": 109,
    "start_time": "2023-02-09T13:11:11.595Z"
   },
   {
    "duration": 244,
    "start_time": "2023-02-09T13:11:11.705Z"
   },
   {
    "duration": 27,
    "start_time": "2023-02-09T13:11:11.952Z"
   },
   {
    "duration": 244,
    "start_time": "2023-02-09T13:11:11.981Z"
   },
   {
    "duration": 1868,
    "start_time": "2023-02-09T13:11:12.238Z"
   },
   {
    "duration": 296,
    "start_time": "2023-02-09T13:11:14.109Z"
   },
   {
    "duration": 479,
    "start_time": "2023-02-09T13:11:14.407Z"
   },
   {
    "duration": 91,
    "start_time": "2023-02-09T13:11:14.888Z"
   },
   {
    "duration": 102,
    "start_time": "2023-02-09T13:11:14.981Z"
   },
   {
    "duration": 25,
    "start_time": "2023-02-09T13:11:15.085Z"
   },
   {
    "duration": 102,
    "start_time": "2023-02-09T13:11:37.926Z"
   },
   {
    "duration": 4,
    "start_time": "2023-02-09T13:12:57.256Z"
   },
   {
    "duration": 1493,
    "start_time": "2023-02-09T13:13:25.306Z"
   },
   {
    "duration": 3,
    "start_time": "2023-02-09T13:13:26.802Z"
   },
   {
    "duration": 1190,
    "start_time": "2023-02-09T13:13:26.807Z"
   },
   {
    "duration": 170,
    "start_time": "2023-02-09T13:13:27.999Z"
   },
   {
    "duration": 32,
    "start_time": "2023-02-09T13:13:28.172Z"
   },
   {
    "duration": 54,
    "start_time": "2023-02-09T13:13:28.206Z"
   },
   {
    "duration": 4650,
    "start_time": "2023-02-09T13:13:28.269Z"
   },
   {
    "duration": 2197,
    "start_time": "2023-02-09T13:13:32.921Z"
   },
   {
    "duration": 368,
    "start_time": "2023-02-09T13:13:35.120Z"
   },
   {
    "duration": 6,
    "start_time": "2023-02-09T13:13:35.490Z"
   },
   {
    "duration": 386,
    "start_time": "2023-02-09T13:13:35.497Z"
   },
   {
    "duration": 6,
    "start_time": "2023-02-09T13:13:35.885Z"
   },
   {
    "duration": 109,
    "start_time": "2023-02-09T13:13:35.893Z"
   },
   {
    "duration": 5,
    "start_time": "2023-02-09T13:13:36.005Z"
   },
   {
    "duration": 39,
    "start_time": "2023-02-09T13:13:36.012Z"
   },
   {
    "duration": 120,
    "start_time": "2023-02-09T13:13:36.052Z"
   },
   {
    "duration": 4,
    "start_time": "2023-02-09T13:13:36.174Z"
   },
   {
    "duration": 27,
    "start_time": "2023-02-09T13:13:36.180Z"
   },
   {
    "duration": 59,
    "start_time": "2023-02-09T13:13:36.209Z"
   },
   {
    "duration": 62,
    "start_time": "2023-02-09T13:13:36.271Z"
   },
   {
    "duration": 45,
    "start_time": "2023-02-09T13:13:36.335Z"
   },
   {
    "duration": 1264,
    "start_time": "2023-02-09T13:13:36.382Z"
   },
   {
    "duration": 8,
    "start_time": "2023-02-09T13:13:37.648Z"
   },
   {
    "duration": 87,
    "start_time": "2023-02-09T13:13:37.658Z"
   },
   {
    "duration": 293,
    "start_time": "2023-02-09T13:13:37.747Z"
   },
   {
    "duration": 26,
    "start_time": "2023-02-09T13:13:38.049Z"
   },
   {
    "duration": 292,
    "start_time": "2023-02-09T13:13:38.078Z"
   },
   {
    "duration": 1908,
    "start_time": "2023-02-09T13:13:38.372Z"
   },
   {
    "duration": 292,
    "start_time": "2023-02-09T13:13:40.282Z"
   },
   {
    "duration": 499,
    "start_time": "2023-02-09T13:13:40.576Z"
   },
   {
    "duration": 87,
    "start_time": "2023-02-09T13:13:41.078Z"
   },
   {
    "duration": 126,
    "start_time": "2023-02-09T13:13:41.166Z"
   },
   {
    "duration": 24,
    "start_time": "2023-02-09T13:13:41.294Z"
   },
   {
    "duration": 1048,
    "start_time": "2023-02-09T13:13:41.320Z"
   },
   {
    "duration": 0,
    "start_time": "2023-02-09T13:13:42.370Z"
   },
   {
    "duration": 5,
    "start_time": "2023-02-09T13:14:04.829Z"
   },
   {
    "duration": 36,
    "start_time": "2023-02-09T13:14:04.837Z"
   },
   {
    "duration": 1217,
    "start_time": "2023-02-09T13:14:04.875Z"
   },
   {
    "duration": 105,
    "start_time": "2023-02-09T13:14:06.094Z"
   },
   {
    "duration": 53,
    "start_time": "2023-02-09T13:14:06.201Z"
   },
   {
    "duration": 29,
    "start_time": "2023-02-09T13:14:06.256Z"
   },
   {
    "duration": 4831,
    "start_time": "2023-02-09T13:14:06.287Z"
   },
   {
    "duration": 2296,
    "start_time": "2023-02-09T13:14:11.120Z"
   },
   {
    "duration": 314,
    "start_time": "2023-02-09T13:14:13.418Z"
   },
   {
    "duration": 5,
    "start_time": "2023-02-09T13:14:13.736Z"
   },
   {
    "duration": 330,
    "start_time": "2023-02-09T13:14:13.742Z"
   },
   {
    "duration": 5,
    "start_time": "2023-02-09T13:14:14.075Z"
   },
   {
    "duration": 194,
    "start_time": "2023-02-09T13:14:14.081Z"
   },
   {
    "duration": 5,
    "start_time": "2023-02-09T13:14:14.277Z"
   },
   {
    "duration": 23,
    "start_time": "2023-02-09T13:14:14.285Z"
   },
   {
    "duration": 108,
    "start_time": "2023-02-09T13:14:14.310Z"
   },
   {
    "duration": 3,
    "start_time": "2023-02-09T13:14:14.420Z"
   },
   {
    "duration": 18,
    "start_time": "2023-02-09T13:14:14.425Z"
   },
   {
    "duration": 60,
    "start_time": "2023-02-09T13:14:14.445Z"
   },
   {
    "duration": 23,
    "start_time": "2023-02-09T13:14:14.507Z"
   },
   {
    "duration": 30,
    "start_time": "2023-02-09T13:14:14.532Z"
   },
   {
    "duration": 1015,
    "start_time": "2023-02-09T13:14:14.564Z"
   },
   {
    "duration": 5,
    "start_time": "2023-02-09T13:14:15.581Z"
   },
   {
    "duration": 113,
    "start_time": "2023-02-09T13:14:15.587Z"
   },
   {
    "duration": 324,
    "start_time": "2023-02-09T13:14:15.703Z"
   },
   {
    "duration": 37,
    "start_time": "2023-02-09T13:14:16.029Z"
   },
   {
    "duration": 220,
    "start_time": "2023-02-09T13:14:16.068Z"
   },
   {
    "duration": 1937,
    "start_time": "2023-02-09T13:14:16.294Z"
   },
   {
    "duration": 279,
    "start_time": "2023-02-09T13:14:18.233Z"
   },
   {
    "duration": 475,
    "start_time": "2023-02-09T13:14:18.514Z"
   },
   {
    "duration": 82,
    "start_time": "2023-02-09T13:14:18.991Z"
   },
   {
    "duration": 96,
    "start_time": "2023-02-09T13:14:19.075Z"
   },
   {
    "duration": 24,
    "start_time": "2023-02-09T13:14:19.173Z"
   },
   {
    "duration": 896,
    "start_time": "2023-02-09T13:14:19.198Z"
   },
   {
    "duration": 0,
    "start_time": "2023-02-09T13:14:20.095Z"
   },
   {
    "duration": 62,
    "start_time": "2023-02-09T13:14:39.659Z"
   },
   {
    "duration": 33,
    "start_time": "2023-02-09T13:14:48.583Z"
   },
   {
    "duration": 58,
    "start_time": "2023-02-09T13:15:48.322Z"
   },
   {
    "duration": 44,
    "start_time": "2023-02-09T13:15:52.320Z"
   },
   {
    "duration": 4,
    "start_time": "2023-02-09T13:16:00.102Z"
   },
   {
    "duration": 24,
    "start_time": "2023-02-09T13:16:00.109Z"
   },
   {
    "duration": 1544,
    "start_time": "2023-02-09T13:16:00.135Z"
   },
   {
    "duration": 113,
    "start_time": "2023-02-09T13:16:01.681Z"
   },
   {
    "duration": 49,
    "start_time": "2023-02-09T13:16:01.797Z"
   },
   {
    "duration": 104,
    "start_time": "2023-02-09T13:16:01.849Z"
   },
   {
    "duration": 5465,
    "start_time": "2023-02-09T13:16:01.960Z"
   },
   {
    "duration": 2455,
    "start_time": "2023-02-09T13:16:07.428Z"
   },
   {
    "duration": 314,
    "start_time": "2023-02-09T13:16:09.886Z"
   },
   {
    "duration": 5,
    "start_time": "2023-02-09T13:16:10.202Z"
   },
   {
    "duration": 380,
    "start_time": "2023-02-09T13:16:10.208Z"
   },
   {
    "duration": 5,
    "start_time": "2023-02-09T13:16:10.591Z"
   },
   {
    "duration": 116,
    "start_time": "2023-02-09T13:16:10.599Z"
   },
   {
    "duration": 5,
    "start_time": "2023-02-09T13:16:10.719Z"
   },
   {
    "duration": 84,
    "start_time": "2023-02-09T13:16:10.726Z"
   },
   {
    "duration": 158,
    "start_time": "2023-02-09T13:16:10.812Z"
   },
   {
    "duration": 4,
    "start_time": "2023-02-09T13:16:10.972Z"
   },
   {
    "duration": 6,
    "start_time": "2023-02-09T13:16:10.978Z"
   },
   {
    "duration": 73,
    "start_time": "2023-02-09T13:16:10.985Z"
   },
   {
    "duration": 60,
    "start_time": "2023-02-09T13:16:11.060Z"
   },
   {
    "duration": 32,
    "start_time": "2023-02-09T13:16:11.123Z"
   },
   {
    "duration": 1219,
    "start_time": "2023-02-09T13:16:11.157Z"
   },
   {
    "duration": 5,
    "start_time": "2023-02-09T13:16:12.379Z"
   },
   {
    "duration": 135,
    "start_time": "2023-02-09T13:16:12.386Z"
   },
   {
    "duration": 369,
    "start_time": "2023-02-09T13:16:12.524Z"
   },
   {
    "duration": 20,
    "start_time": "2023-02-09T13:16:12.899Z"
   },
   {
    "duration": 274,
    "start_time": "2023-02-09T13:16:12.923Z"
   },
   {
    "duration": 2089,
    "start_time": "2023-02-09T13:16:13.199Z"
   },
   {
    "duration": 298,
    "start_time": "2023-02-09T13:16:15.290Z"
   },
   {
    "duration": 526,
    "start_time": "2023-02-09T13:16:15.590Z"
   },
   {
    "duration": 95,
    "start_time": "2023-02-09T13:16:16.118Z"
   },
   {
    "duration": 111,
    "start_time": "2023-02-09T13:16:16.215Z"
   },
   {
    "duration": 44,
    "start_time": "2023-02-09T13:16:16.328Z"
   },
   {
    "duration": 92,
    "start_time": "2023-02-09T13:16:16.374Z"
   },
   {
    "duration": 39,
    "start_time": "2023-02-09T13:16:16.472Z"
   },
   {
    "duration": 4,
    "start_time": "2023-02-09T13:18:23.299Z"
   },
   {
    "duration": 13,
    "start_time": "2023-02-09T13:18:23.306Z"
   },
   {
    "duration": 1157,
    "start_time": "2023-02-09T13:18:23.321Z"
   },
   {
    "duration": 110,
    "start_time": "2023-02-09T13:18:24.480Z"
   },
   {
    "duration": 46,
    "start_time": "2023-02-09T13:18:24.592Z"
   },
   {
    "duration": 26,
    "start_time": "2023-02-09T13:18:24.640Z"
   },
   {
    "duration": 4667,
    "start_time": "2023-02-09T13:18:24.668Z"
   },
   {
    "duration": 2115,
    "start_time": "2023-02-09T13:18:29.342Z"
   },
   {
    "duration": 351,
    "start_time": "2023-02-09T13:18:31.460Z"
   },
   {
    "duration": 5,
    "start_time": "2023-02-09T13:18:31.813Z"
   },
   {
    "duration": 319,
    "start_time": "2023-02-09T13:18:31.820Z"
   },
   {
    "duration": 4,
    "start_time": "2023-02-09T13:18:32.142Z"
   },
   {
    "duration": 151,
    "start_time": "2023-02-09T13:18:32.154Z"
   },
   {
    "duration": 5,
    "start_time": "2023-02-09T13:18:32.308Z"
   },
   {
    "duration": 117,
    "start_time": "2023-02-09T13:18:32.315Z"
   },
   {
    "duration": 127,
    "start_time": "2023-02-09T13:18:32.438Z"
   },
   {
    "duration": 6,
    "start_time": "2023-02-09T13:18:32.567Z"
   },
   {
    "duration": 36,
    "start_time": "2023-02-09T13:18:32.575Z"
   },
   {
    "duration": 57,
    "start_time": "2023-02-09T13:18:32.613Z"
   },
   {
    "duration": 58,
    "start_time": "2023-02-09T13:18:32.676Z"
   },
   {
    "duration": 36,
    "start_time": "2023-02-09T13:18:32.739Z"
   },
   {
    "duration": 1134,
    "start_time": "2023-02-09T13:18:32.778Z"
   },
   {
    "duration": 4,
    "start_time": "2023-02-09T13:18:33.914Z"
   },
   {
    "duration": 114,
    "start_time": "2023-02-09T13:18:33.920Z"
   },
   {
    "duration": 258,
    "start_time": "2023-02-09T13:18:34.037Z"
   },
   {
    "duration": 16,
    "start_time": "2023-02-09T13:18:34.297Z"
   },
   {
    "duration": 258,
    "start_time": "2023-02-09T13:18:34.316Z"
   },
   {
    "duration": 1768,
    "start_time": "2023-02-09T13:18:34.577Z"
   },
   {
    "duration": 255,
    "start_time": "2023-02-09T13:18:36.347Z"
   },
   {
    "duration": 504,
    "start_time": "2023-02-09T13:18:36.604Z"
   },
   {
    "duration": 121,
    "start_time": "2023-02-09T13:18:37.110Z"
   },
   {
    "duration": 97,
    "start_time": "2023-02-09T13:18:37.233Z"
   },
   {
    "duration": 33,
    "start_time": "2023-02-09T13:18:37.340Z"
   },
   {
    "duration": 91,
    "start_time": "2023-02-09T13:18:37.375Z"
   },
   {
    "duration": 36,
    "start_time": "2023-02-09T13:18:45.287Z"
   },
   {
    "duration": 21,
    "start_time": "2023-02-09T13:21:25.327Z"
   },
   {
    "duration": 23,
    "start_time": "2023-02-09T13:21:27.535Z"
   },
   {
    "duration": 80,
    "start_time": "2023-02-09T13:21:37.903Z"
   },
   {
    "duration": 47,
    "start_time": "2023-02-09T13:21:40.424Z"
   },
   {
    "duration": 29,
    "start_time": "2023-02-09T13:23:55.944Z"
   },
   {
    "duration": 92,
    "start_time": "2023-02-09T13:24:36.416Z"
   },
   {
    "duration": 82,
    "start_time": "2023-02-09T13:25:04.001Z"
   },
   {
    "duration": 34,
    "start_time": "2023-02-09T13:25:10.152Z"
   },
   {
    "duration": 4,
    "start_time": "2023-02-09T13:25:43.808Z"
   },
   {
    "duration": 8,
    "start_time": "2023-02-09T13:25:49.078Z"
   },
   {
    "duration": 6,
    "start_time": "2023-02-09T13:26:13.080Z"
   },
   {
    "duration": 1858,
    "start_time": "2023-02-09T13:31:44.287Z"
   },
   {
    "duration": 6,
    "start_time": "2023-02-09T13:31:46.151Z"
   },
   {
    "duration": 1373,
    "start_time": "2023-02-09T13:31:46.159Z"
   },
   {
    "duration": 140,
    "start_time": "2023-02-09T13:31:47.538Z"
   },
   {
    "duration": 27,
    "start_time": "2023-02-09T13:31:47.680Z"
   },
   {
    "duration": 61,
    "start_time": "2023-02-09T13:31:47.709Z"
   },
   {
    "duration": 4974,
    "start_time": "2023-02-09T13:31:47.773Z"
   },
   {
    "duration": 2367,
    "start_time": "2023-02-09T13:31:52.750Z"
   },
   {
    "duration": 480,
    "start_time": "2023-02-09T13:31:55.119Z"
   },
   {
    "duration": 5,
    "start_time": "2023-02-09T13:31:55.601Z"
   },
   {
    "duration": 391,
    "start_time": "2023-02-09T13:31:55.609Z"
   },
   {
    "duration": 6,
    "start_time": "2023-02-09T13:31:56.001Z"
   },
   {
    "duration": 150,
    "start_time": "2023-02-09T13:31:56.009Z"
   },
   {
    "duration": 6,
    "start_time": "2023-02-09T13:31:56.165Z"
   },
   {
    "duration": 23,
    "start_time": "2023-02-09T13:31:56.173Z"
   },
   {
    "duration": 152,
    "start_time": "2023-02-09T13:31:56.199Z"
   },
   {
    "duration": 15,
    "start_time": "2023-02-09T13:31:56.359Z"
   },
   {
    "duration": 16,
    "start_time": "2023-02-09T13:31:56.376Z"
   },
   {
    "duration": 65,
    "start_time": "2023-02-09T13:31:56.395Z"
   },
   {
    "duration": 87,
    "start_time": "2023-02-09T13:31:56.463Z"
   },
   {
    "duration": 36,
    "start_time": "2023-02-09T13:31:56.555Z"
   },
   {
    "duration": 1187,
    "start_time": "2023-02-09T13:31:56.593Z"
   },
   {
    "duration": 5,
    "start_time": "2023-02-09T13:31:57.782Z"
   },
   {
    "duration": 108,
    "start_time": "2023-02-09T13:31:57.789Z"
   },
   {
    "duration": 284,
    "start_time": "2023-02-09T13:31:57.899Z"
   },
   {
    "duration": 15,
    "start_time": "2023-02-09T13:31:58.185Z"
   },
   {
    "duration": 262,
    "start_time": "2023-02-09T13:31:58.203Z"
   },
   {
    "duration": 1683,
    "start_time": "2023-02-09T13:31:58.468Z"
   },
   {
    "duration": 240,
    "start_time": "2023-02-09T13:32:00.158Z"
   },
   {
    "duration": 475,
    "start_time": "2023-02-09T13:32:00.400Z"
   },
   {
    "duration": 80,
    "start_time": "2023-02-09T13:32:00.877Z"
   },
   {
    "duration": 127,
    "start_time": "2023-02-09T13:32:00.960Z"
   },
   {
    "duration": 24,
    "start_time": "2023-02-09T13:32:01.089Z"
   },
   {
    "duration": 101,
    "start_time": "2023-02-09T13:32:01.115Z"
   },
   {
    "duration": 53,
    "start_time": "2023-02-09T13:32:01.218Z"
   },
   {
    "duration": 32,
    "start_time": "2023-02-09T13:32:01.274Z"
   },
   {
    "duration": 36,
    "start_time": "2023-02-09T13:32:01.309Z"
   },
   {
    "duration": 136,
    "start_time": "2023-02-09T13:32:01.348Z"
   },
   {
    "duration": 62,
    "start_time": "2023-02-09T13:32:01.487Z"
   },
   {
    "duration": 51,
    "start_time": "2023-02-09T13:32:01.552Z"
   },
   {
    "duration": 30,
    "start_time": "2023-02-09T13:32:01.611Z"
   },
   {
    "duration": 54,
    "start_time": "2023-02-09T13:32:01.643Z"
   },
   {
    "duration": 12,
    "start_time": "2023-02-09T13:32:01.699Z"
   },
   {
    "duration": 1641,
    "start_time": "2023-02-09T13:32:28.380Z"
   },
   {
    "duration": 4,
    "start_time": "2023-02-09T13:32:30.023Z"
   },
   {
    "duration": 1311,
    "start_time": "2023-02-09T13:32:30.041Z"
   },
   {
    "duration": 131,
    "start_time": "2023-02-09T13:32:31.354Z"
   },
   {
    "duration": 30,
    "start_time": "2023-02-09T13:32:31.487Z"
   },
   {
    "duration": 67,
    "start_time": "2023-02-09T13:32:31.519Z"
   },
   {
    "duration": 4865,
    "start_time": "2023-02-09T13:32:31.588Z"
   },
   {
    "duration": 2239,
    "start_time": "2023-02-09T13:32:36.459Z"
   },
   {
    "duration": 345,
    "start_time": "2023-02-09T13:32:38.700Z"
   },
   {
    "duration": 8,
    "start_time": "2023-02-09T13:32:39.047Z"
   },
   {
    "duration": 397,
    "start_time": "2023-02-09T13:32:39.057Z"
   },
   {
    "duration": 6,
    "start_time": "2023-02-09T13:32:39.458Z"
   },
   {
    "duration": 110,
    "start_time": "2023-02-09T13:32:39.470Z"
   },
   {
    "duration": 4,
    "start_time": "2023-02-09T13:32:39.583Z"
   },
   {
    "duration": 27,
    "start_time": "2023-02-09T13:32:39.589Z"
   },
   {
    "duration": 132,
    "start_time": "2023-02-09T13:32:39.618Z"
   },
   {
    "duration": 3,
    "start_time": "2023-02-09T13:32:39.752Z"
   },
   {
    "duration": 14,
    "start_time": "2023-02-09T13:32:39.757Z"
   },
   {
    "duration": 40,
    "start_time": "2023-02-09T13:32:39.773Z"
   },
   {
    "duration": 56,
    "start_time": "2023-02-09T13:32:39.815Z"
   },
   {
    "duration": 42,
    "start_time": "2023-02-09T13:32:39.873Z"
   },
   {
    "duration": 1102,
    "start_time": "2023-02-09T13:32:39.917Z"
   },
   {
    "duration": 5,
    "start_time": "2023-02-09T13:32:41.021Z"
   },
   {
    "duration": 90,
    "start_time": "2023-02-09T13:32:41.039Z"
   },
   {
    "duration": 246,
    "start_time": "2023-02-09T13:32:41.131Z"
   },
   {
    "duration": 15,
    "start_time": "2023-02-09T13:32:41.379Z"
   },
   {
    "duration": 262,
    "start_time": "2023-02-09T13:32:41.395Z"
   },
   {
    "duration": 1816,
    "start_time": "2023-02-09T13:32:41.660Z"
   },
   {
    "duration": 305,
    "start_time": "2023-02-09T13:32:43.478Z"
   },
   {
    "duration": 511,
    "start_time": "2023-02-09T13:32:43.785Z"
   },
   {
    "duration": 86,
    "start_time": "2023-02-09T13:32:44.298Z"
   },
   {
    "duration": 125,
    "start_time": "2023-02-09T13:32:44.386Z"
   },
   {
    "duration": 45,
    "start_time": "2023-02-09T13:32:44.514Z"
   },
   {
    "duration": 108,
    "start_time": "2023-02-09T13:32:44.562Z"
   },
   {
    "duration": 48,
    "start_time": "2023-02-09T13:32:44.673Z"
   },
   {
    "duration": 40,
    "start_time": "2023-02-09T13:32:44.723Z"
   },
   {
    "duration": 16,
    "start_time": "2023-02-09T13:32:44.765Z"
   },
   {
    "duration": 95,
    "start_time": "2023-02-09T13:32:44.783Z"
   },
   {
    "duration": 35,
    "start_time": "2023-02-09T13:32:44.880Z"
   },
   {
    "duration": 48,
    "start_time": "2023-02-09T13:32:44.917Z"
   },
   {
    "duration": 8,
    "start_time": "2023-02-09T13:32:44.970Z"
   },
   {
    "duration": 27,
    "start_time": "2023-02-09T13:32:44.980Z"
   },
   {
    "duration": 5,
    "start_time": "2023-02-09T13:32:45.009Z"
   },
   {
    "duration": 8,
    "start_time": "2023-02-09T13:41:15.936Z"
   },
   {
    "duration": 105,
    "start_time": "2023-02-09T13:42:15.871Z"
   },
   {
    "duration": 457,
    "start_time": "2023-02-09T13:42:33.863Z"
   },
   {
    "duration": 86,
    "start_time": "2023-02-09T13:44:36.964Z"
   },
   {
    "duration": 354,
    "start_time": "2023-02-09T13:44:39.482Z"
   },
   {
    "duration": 196,
    "start_time": "2023-02-09T13:44:48.914Z"
   },
   {
    "duration": 14,
    "start_time": "2023-02-09T13:47:23.868Z"
   },
   {
    "duration": 143,
    "start_time": "2023-02-09T13:50:04.041Z"
   },
   {
    "duration": 110,
    "start_time": "2023-02-09T13:54:52.125Z"
   },
   {
    "duration": 36,
    "start_time": "2023-02-09T13:55:11.057Z"
   },
   {
    "duration": 166,
    "start_time": "2023-02-09T13:55:14.691Z"
   },
   {
    "duration": 40,
    "start_time": "2023-02-09T13:55:16.716Z"
   },
   {
    "duration": 117,
    "start_time": "2023-02-09T13:55:33.884Z"
   },
   {
    "duration": 239,
    "start_time": "2023-02-09T13:55:35.981Z"
   },
   {
    "duration": 1564,
    "start_time": "2023-02-09T15:47:04.587Z"
   },
   {
    "duration": 3,
    "start_time": "2023-02-09T15:47:06.154Z"
   },
   {
    "duration": 1410,
    "start_time": "2023-02-09T15:47:06.159Z"
   },
   {
    "duration": 106,
    "start_time": "2023-02-09T15:47:07.572Z"
   },
   {
    "duration": 26,
    "start_time": "2023-02-09T15:47:07.680Z"
   },
   {
    "duration": 40,
    "start_time": "2023-02-09T15:47:07.709Z"
   },
   {
    "duration": 4434,
    "start_time": "2023-02-09T15:47:07.751Z"
   },
   {
    "duration": 1967,
    "start_time": "2023-02-09T15:47:12.186Z"
   },
   {
    "duration": 369,
    "start_time": "2023-02-09T15:47:14.155Z"
   },
   {
    "duration": 4,
    "start_time": "2023-02-09T15:47:14.527Z"
   },
   {
    "duration": 336,
    "start_time": "2023-02-09T15:47:14.540Z"
   },
   {
    "duration": 5,
    "start_time": "2023-02-09T15:47:14.878Z"
   },
   {
    "duration": 136,
    "start_time": "2023-02-09T15:47:14.885Z"
   },
   {
    "duration": 4,
    "start_time": "2023-02-09T15:47:15.023Z"
   },
   {
    "duration": 59,
    "start_time": "2023-02-09T15:47:15.029Z"
   },
   {
    "duration": 120,
    "start_time": "2023-02-09T15:47:15.089Z"
   },
   {
    "duration": 3,
    "start_time": "2023-02-09T15:47:15.210Z"
   },
   {
    "duration": 8,
    "start_time": "2023-02-09T15:47:15.215Z"
   },
   {
    "duration": 49,
    "start_time": "2023-02-09T15:47:15.225Z"
   },
   {
    "duration": 36,
    "start_time": "2023-02-09T15:47:15.276Z"
   },
   {
    "duration": 49,
    "start_time": "2023-02-09T15:47:15.313Z"
   },
   {
    "duration": 1060,
    "start_time": "2023-02-09T15:47:15.365Z"
   },
   {
    "duration": 12,
    "start_time": "2023-02-09T15:47:16.428Z"
   },
   {
    "duration": 85,
    "start_time": "2023-02-09T15:47:16.442Z"
   },
   {
    "duration": 251,
    "start_time": "2023-02-09T15:47:16.529Z"
   },
   {
    "duration": 16,
    "start_time": "2023-02-09T15:47:16.782Z"
   },
   {
    "duration": 218,
    "start_time": "2023-02-09T15:47:16.799Z"
   },
   {
    "duration": 1632,
    "start_time": "2023-02-09T15:47:17.039Z"
   },
   {
    "duration": 247,
    "start_time": "2023-02-09T15:47:18.673Z"
   },
   {
    "duration": 562,
    "start_time": "2023-02-09T15:47:18.922Z"
   },
   {
    "duration": 79,
    "start_time": "2023-02-09T15:47:19.486Z"
   },
   {
    "duration": 108,
    "start_time": "2023-02-09T15:47:19.567Z"
   },
   {
    "duration": 22,
    "start_time": "2023-02-09T15:47:19.677Z"
   },
   {
    "duration": 15,
    "start_time": "2023-02-09T15:47:35.973Z"
   },
   {
    "duration": 51,
    "start_time": "2023-02-09T15:48:08.162Z"
   },
   {
    "duration": 39,
    "start_time": "2023-02-09T15:48:32.085Z"
   },
   {
    "duration": 13,
    "start_time": "2023-02-09T15:48:39.687Z"
   },
   {
    "duration": 34,
    "start_time": "2023-02-09T15:49:35.721Z"
   },
   {
    "duration": 34,
    "start_time": "2023-02-09T15:51:58.876Z"
   },
   {
    "duration": 3,
    "start_time": "2023-02-09T15:53:31.077Z"
   },
   {
    "duration": 29,
    "start_time": "2023-02-09T15:53:31.082Z"
   },
   {
    "duration": 1061,
    "start_time": "2023-02-09T15:53:31.113Z"
   },
   {
    "duration": 120,
    "start_time": "2023-02-09T15:53:32.176Z"
   },
   {
    "duration": 28,
    "start_time": "2023-02-09T15:53:32.299Z"
   },
   {
    "duration": 41,
    "start_time": "2023-02-09T15:53:32.339Z"
   },
   {
    "duration": 4331,
    "start_time": "2023-02-09T15:53:32.382Z"
   },
   {
    "duration": 2009,
    "start_time": "2023-02-09T15:53:36.715Z"
   },
   {
    "duration": 267,
    "start_time": "2023-02-09T15:53:38.726Z"
   },
   {
    "duration": 6,
    "start_time": "2023-02-09T15:53:38.996Z"
   },
   {
    "duration": 357,
    "start_time": "2023-02-09T15:53:39.004Z"
   },
   {
    "duration": 4,
    "start_time": "2023-02-09T15:53:39.364Z"
   },
   {
    "duration": 86,
    "start_time": "2023-02-09T15:53:39.370Z"
   },
   {
    "duration": 5,
    "start_time": "2023-02-09T15:53:39.459Z"
   },
   {
    "duration": 34,
    "start_time": "2023-02-09T15:53:39.466Z"
   },
   {
    "duration": 104,
    "start_time": "2023-02-09T15:53:39.502Z"
   },
   {
    "duration": 3,
    "start_time": "2023-02-09T15:53:39.608Z"
   },
   {
    "duration": 8,
    "start_time": "2023-02-09T15:53:39.613Z"
   },
   {
    "duration": 39,
    "start_time": "2023-02-09T15:53:39.622Z"
   },
   {
    "duration": 33,
    "start_time": "2023-02-09T15:53:39.663Z"
   },
   {
    "duration": 44,
    "start_time": "2023-02-09T15:53:39.697Z"
   },
   {
    "duration": 955,
    "start_time": "2023-02-09T15:53:39.743Z"
   },
   {
    "duration": 5,
    "start_time": "2023-02-09T15:53:40.700Z"
   },
   {
    "duration": 94,
    "start_time": "2023-02-09T15:53:40.707Z"
   },
   {
    "duration": 230,
    "start_time": "2023-02-09T15:53:40.803Z"
   },
   {
    "duration": 18,
    "start_time": "2023-02-09T15:53:41.040Z"
   },
   {
    "duration": 207,
    "start_time": "2023-02-09T15:53:41.060Z"
   },
   {
    "duration": 1769,
    "start_time": "2023-02-09T15:53:41.269Z"
   },
   {
    "duration": 228,
    "start_time": "2023-02-09T15:53:48.321Z"
   },
   {
    "duration": 471,
    "start_time": "2023-02-09T15:54:08.068Z"
   },
   {
    "duration": 75,
    "start_time": "2023-02-09T15:54:14.184Z"
   },
   {
    "duration": 85,
    "start_time": "2023-02-09T15:54:50.219Z"
   },
   {
    "duration": 23,
    "start_time": "2023-02-09T15:54:53.793Z"
   },
   {
    "duration": 26,
    "start_time": "2023-02-09T15:55:35.713Z"
   },
   {
    "duration": 42,
    "start_time": "2023-02-09T15:55:45.140Z"
   },
   {
    "duration": 26,
    "start_time": "2023-02-09T15:55:58.776Z"
   },
   {
    "duration": 35,
    "start_time": "2023-02-09T15:56:13.514Z"
   },
   {
    "duration": 22,
    "start_time": "2023-02-09T16:02:26.339Z"
   },
   {
    "duration": 15,
    "start_time": "2023-02-09T16:02:28.739Z"
   },
   {
    "duration": 61,
    "start_time": "2023-02-09T16:02:45.516Z"
   },
   {
    "duration": 33,
    "start_time": "2023-02-09T16:02:48.568Z"
   },
   {
    "duration": 22,
    "start_time": "2023-02-09T16:02:59.171Z"
   },
   {
    "duration": 7,
    "start_time": "2023-02-09T16:03:02.228Z"
   },
   {
    "duration": 19,
    "start_time": "2023-02-09T16:03:04.732Z"
   },
   {
    "duration": 7,
    "start_time": "2023-02-09T16:03:07.571Z"
   },
   {
    "duration": 59,
    "start_time": "2023-02-09T16:19:25.113Z"
   },
   {
    "duration": 127,
    "start_time": "2023-02-09T16:19:52.378Z"
   },
   {
    "duration": 3,
    "start_time": "2023-02-09T16:20:23.216Z"
   },
   {
    "duration": 12,
    "start_time": "2023-02-09T16:20:45.168Z"
   },
   {
    "duration": 5,
    "start_time": "2023-02-09T17:19:07.771Z"
   },
   {
    "duration": 4,
    "start_time": "2023-02-09T17:20:04.096Z"
   },
   {
    "duration": 15,
    "start_time": "2023-02-09T17:20:07.218Z"
   },
   {
    "duration": 3,
    "start_time": "2023-02-09T17:23:39.556Z"
   },
   {
    "duration": 17,
    "start_time": "2023-02-09T17:23:41.860Z"
   },
   {
    "duration": 5,
    "start_time": "2023-02-09T17:24:49.164Z"
   },
   {
    "duration": 418,
    "start_time": "2023-02-09T17:24:51.478Z"
   },
   {
    "duration": 341,
    "start_time": "2023-02-09T17:25:22.979Z"
   },
   {
    "duration": 381,
    "start_time": "2023-02-09T17:26:16.276Z"
   },
   {
    "duration": 16,
    "start_time": "2023-02-09T17:26:36.072Z"
   },
   {
    "duration": 4,
    "start_time": "2023-02-09T17:38:25.483Z"
   },
   {
    "duration": 5,
    "start_time": "2023-02-09T17:38:40.284Z"
   },
   {
    "duration": 13,
    "start_time": "2023-02-09T17:43:32.339Z"
   },
   {
    "duration": 4,
    "start_time": "2023-02-09T17:43:49.917Z"
   },
   {
    "duration": 378,
    "start_time": "2023-02-09T17:43:54.852Z"
   },
   {
    "duration": 12,
    "start_time": "2023-02-09T17:44:09.612Z"
   },
   {
    "duration": 1440,
    "start_time": "2023-02-09T17:44:40.587Z"
   },
   {
    "duration": 1618,
    "start_time": "2023-02-09T17:44:45.725Z"
   },
   {
    "duration": 739,
    "start_time": "2023-02-09T17:47:54.468Z"
   },
   {
    "duration": 1734,
    "start_time": "2023-02-09T17:54:16.192Z"
   },
   {
    "duration": 10,
    "start_time": "2023-02-09T17:58:52.041Z"
   },
   {
    "duration": 4,
    "start_time": "2023-02-09T17:59:39.816Z"
   },
   {
    "duration": 18,
    "start_time": "2023-02-09T18:01:19.921Z"
   },
   {
    "duration": 4,
    "start_time": "2023-02-09T18:01:26.202Z"
   },
   {
    "duration": 5,
    "start_time": "2023-02-09T18:01:29.144Z"
   },
   {
    "duration": 4,
    "start_time": "2023-02-09T18:01:31.979Z"
   },
   {
    "duration": 49066,
    "start_time": "2023-02-09T18:02:05.090Z"
   },
   {
    "duration": 10,
    "start_time": "2023-02-09T18:03:23.784Z"
   },
   {
    "duration": 1606,
    "start_time": "2023-02-09T18:03:34.938Z"
   },
   {
    "duration": 4,
    "start_time": "2023-02-09T18:04:19.313Z"
   },
   {
    "duration": 1710,
    "start_time": "2023-02-09T18:04:39.930Z"
   },
   {
    "duration": 764,
    "start_time": "2023-02-09T18:05:07.479Z"
   },
   {
    "duration": 724,
    "start_time": "2023-02-09T18:05:59.322Z"
   },
   {
    "duration": 1705,
    "start_time": "2023-02-09T18:06:13.936Z"
   },
   {
    "duration": 3,
    "start_time": "2023-02-09T18:07:47.584Z"
   },
   {
    "duration": 3,
    "start_time": "2023-02-09T18:08:25.819Z"
   },
   {
    "duration": 164446,
    "start_time": "2023-02-09T18:08:32.637Z"
   },
   {
    "duration": 3,
    "start_time": "2023-02-09T18:12:46.523Z"
   },
   {
    "duration": 4,
    "start_time": "2023-02-09T18:13:02.195Z"
   },
   {
    "duration": 4741,
    "start_time": "2023-02-09T18:13:04.791Z"
   },
   {
    "duration": 571,
    "start_time": "2023-02-09T18:13:13.100Z"
   },
   {
    "duration": 279,
    "start_time": "2023-02-09T18:13:16.197Z"
   },
   {
    "duration": 4,
    "start_time": "2023-02-09T18:14:49.764Z"
   },
   {
    "duration": 4414,
    "start_time": "2023-02-09T18:14:52.538Z"
   },
   {
    "duration": 562,
    "start_time": "2023-02-09T18:14:59.488Z"
   },
   {
    "duration": 282,
    "start_time": "2023-02-09T18:15:02.392Z"
   },
   {
    "duration": 2,
    "start_time": "2023-02-09T18:21:21.592Z"
   },
   {
    "duration": 4993,
    "start_time": "2023-02-09T18:21:25.826Z"
   },
   {
    "duration": 622,
    "start_time": "2023-02-09T18:21:33.925Z"
   },
   {
    "duration": 289,
    "start_time": "2023-02-09T18:21:36.827Z"
   },
   {
    "duration": 3,
    "start_time": "2023-02-09T18:21:59.341Z"
   },
   {
    "duration": 4185,
    "start_time": "2023-02-09T18:22:03.135Z"
   },
   {
    "duration": 1639,
    "start_time": "2023-02-09T18:26:23.825Z"
   },
   {
    "duration": 2,
    "start_time": "2023-02-09T18:26:25.467Z"
   },
   {
    "duration": 1691,
    "start_time": "2023-02-09T18:26:25.471Z"
   },
   {
    "duration": 128,
    "start_time": "2023-02-09T18:26:27.164Z"
   },
   {
    "duration": 27,
    "start_time": "2023-02-09T18:26:27.294Z"
   },
   {
    "duration": 42,
    "start_time": "2023-02-09T18:26:27.323Z"
   },
   {
    "duration": 5103,
    "start_time": "2023-02-09T18:26:27.367Z"
   },
   {
    "duration": 2168,
    "start_time": "2023-02-09T18:26:32.472Z"
   },
   {
    "duration": 330,
    "start_time": "2023-02-09T18:26:34.643Z"
   },
   {
    "duration": 4,
    "start_time": "2023-02-09T18:26:34.976Z"
   },
   {
    "duration": 363,
    "start_time": "2023-02-09T18:26:34.982Z"
   },
   {
    "duration": 7,
    "start_time": "2023-02-09T18:26:35.349Z"
   },
   {
    "duration": 86,
    "start_time": "2023-02-09T18:26:35.358Z"
   },
   {
    "duration": 6,
    "start_time": "2023-02-09T18:26:35.446Z"
   },
   {
    "duration": 22,
    "start_time": "2023-02-09T18:26:35.454Z"
   },
   {
    "duration": 119,
    "start_time": "2023-02-09T18:26:35.477Z"
   },
   {
    "duration": 3,
    "start_time": "2023-02-09T18:26:35.598Z"
   },
   {
    "duration": 11,
    "start_time": "2023-02-09T18:26:35.603Z"
   },
   {
    "duration": 51,
    "start_time": "2023-02-09T18:26:35.616Z"
   },
   {
    "duration": 36,
    "start_time": "2023-02-09T18:26:35.669Z"
   },
   {
    "duration": 52,
    "start_time": "2023-02-09T18:26:35.707Z"
   },
   {
    "duration": 1115,
    "start_time": "2023-02-09T18:26:35.761Z"
   },
   {
    "duration": 4,
    "start_time": "2023-02-09T18:26:36.878Z"
   },
   {
    "duration": 92,
    "start_time": "2023-02-09T18:26:36.884Z"
   },
   {
    "duration": 244,
    "start_time": "2023-02-09T18:26:36.978Z"
   },
   {
    "duration": 25,
    "start_time": "2023-02-09T18:26:37.224Z"
   },
   {
    "duration": 223,
    "start_time": "2023-02-09T18:26:37.252Z"
   },
   {
    "duration": 1906,
    "start_time": "2023-02-09T18:26:37.478Z"
   },
   {
    "duration": 350,
    "start_time": "2023-02-09T18:26:39.386Z"
   },
   {
    "duration": 495,
    "start_time": "2023-02-09T18:26:39.740Z"
   },
   {
    "duration": 80,
    "start_time": "2023-02-09T18:26:40.237Z"
   },
   {
    "duration": 138,
    "start_time": "2023-02-09T18:26:40.319Z"
   },
   {
    "duration": 24,
    "start_time": "2023-02-09T18:26:40.459Z"
   },
   {
    "duration": 56,
    "start_time": "2023-02-09T18:26:40.485Z"
   },
   {
    "duration": 42,
    "start_time": "2023-02-09T18:26:40.543Z"
   },
   {
    "duration": 21,
    "start_time": "2023-02-09T18:26:40.587Z"
   },
   {
    "duration": 42,
    "start_time": "2023-02-09T18:26:40.610Z"
   },
   {
    "duration": 89,
    "start_time": "2023-02-09T18:26:40.654Z"
   },
   {
    "duration": 34,
    "start_time": "2023-02-09T18:26:40.755Z"
   },
   {
    "duration": 29,
    "start_time": "2023-02-09T18:26:40.791Z"
   },
   {
    "duration": 21,
    "start_time": "2023-02-09T18:26:40.822Z"
   },
   {
    "duration": 36,
    "start_time": "2023-02-09T18:26:40.845Z"
   },
   {
    "duration": 14,
    "start_time": "2023-02-09T18:26:40.883Z"
   },
   {
    "duration": 15,
    "start_time": "2023-02-09T18:26:40.899Z"
   },
   {
    "duration": 8,
    "start_time": "2023-02-09T18:26:40.916Z"
   },
   {
    "duration": 69824,
    "start_time": "2023-02-09T18:26:40.926Z"
   },
   {
    "duration": 11411,
    "start_time": "2023-02-09T18:27:50.752Z"
   },
   {
    "duration": 4828,
    "start_time": "2023-02-09T18:28:02.164Z"
   },
   {
    "duration": 1538,
    "start_time": "2023-02-10T06:19:29.914Z"
   },
   {
    "duration": 4,
    "start_time": "2023-02-10T06:19:31.456Z"
   },
   {
    "duration": 1397,
    "start_time": "2023-02-10T06:19:31.462Z"
   },
   {
    "duration": 100,
    "start_time": "2023-02-10T06:19:32.860Z"
   },
   {
    "duration": 32,
    "start_time": "2023-02-10T06:19:32.962Z"
   },
   {
    "duration": 23,
    "start_time": "2023-02-10T06:19:32.996Z"
   },
   {
    "duration": 4516,
    "start_time": "2023-02-10T06:19:33.021Z"
   },
   {
    "duration": 1974,
    "start_time": "2023-02-10T06:19:37.539Z"
   },
   {
    "duration": 286,
    "start_time": "2023-02-10T06:19:39.515Z"
   },
   {
    "duration": 4,
    "start_time": "2023-02-10T06:19:39.803Z"
   },
   {
    "duration": 421,
    "start_time": "2023-02-10T06:19:39.809Z"
   },
   {
    "duration": 3,
    "start_time": "2023-02-10T06:19:40.233Z"
   },
   {
    "duration": 77,
    "start_time": "2023-02-10T06:19:40.238Z"
   },
   {
    "duration": 5,
    "start_time": "2023-02-10T06:19:40.319Z"
   },
   {
    "duration": 27,
    "start_time": "2023-02-10T06:19:40.326Z"
   },
   {
    "duration": 124,
    "start_time": "2023-02-10T06:19:40.356Z"
   },
   {
    "duration": 13,
    "start_time": "2023-02-10T06:19:40.482Z"
   },
   {
    "duration": 12,
    "start_time": "2023-02-10T06:19:40.498Z"
   },
   {
    "duration": 35,
    "start_time": "2023-02-10T06:19:40.512Z"
   },
   {
    "duration": 45,
    "start_time": "2023-02-10T06:19:40.549Z"
   },
   {
    "duration": 30,
    "start_time": "2023-02-10T06:19:40.596Z"
   },
   {
    "duration": 940,
    "start_time": "2023-02-10T06:19:40.628Z"
   },
   {
    "duration": 6,
    "start_time": "2023-02-10T06:19:41.570Z"
   },
   {
    "duration": 122,
    "start_time": "2023-02-10T06:19:41.579Z"
   },
   {
    "duration": 223,
    "start_time": "2023-02-10T06:19:41.703Z"
   },
   {
    "duration": 17,
    "start_time": "2023-02-10T06:19:41.928Z"
   },
   {
    "duration": 280,
    "start_time": "2023-02-10T06:19:41.947Z"
   },
   {
    "duration": 1624,
    "start_time": "2023-02-10T06:19:42.230Z"
   },
   {
    "duration": 3,
    "start_time": "2023-02-10T06:27:10.746Z"
   },
   {
    "duration": 232,
    "start_time": "2023-02-10T06:27:57.353Z"
   },
   {
    "duration": 228,
    "start_time": "2023-02-10T06:28:01.617Z"
   },
   {
    "duration": 214,
    "start_time": "2023-02-10T06:28:25.521Z"
   },
   {
    "duration": 41,
    "start_time": "2023-02-10T06:30:16.211Z"
   },
   {
    "duration": 4,
    "start_time": "2023-02-10T06:40:40.410Z"
   },
   {
    "duration": 3,
    "start_time": "2023-02-10T06:41:36.740Z"
   },
   {
    "duration": 413,
    "start_time": "2023-02-10T06:42:27.972Z"
   },
   {
    "duration": 397,
    "start_time": "2023-02-10T06:42:33.245Z"
   },
   {
    "duration": 3,
    "start_time": "2023-02-10T06:43:10.138Z"
   },
   {
    "duration": 6,
    "start_time": "2023-02-10T06:43:10.143Z"
   },
   {
    "duration": 927,
    "start_time": "2023-02-10T06:43:10.151Z"
   },
   {
    "duration": 88,
    "start_time": "2023-02-10T06:43:11.079Z"
   },
   {
    "duration": 31,
    "start_time": "2023-02-10T06:43:11.170Z"
   },
   {
    "duration": 22,
    "start_time": "2023-02-10T06:43:11.202Z"
   },
   {
    "duration": 4019,
    "start_time": "2023-02-10T06:43:11.225Z"
   },
   {
    "duration": 1821,
    "start_time": "2023-02-10T06:43:15.246Z"
   },
   {
    "duration": 225,
    "start_time": "2023-02-10T06:43:17.069Z"
   },
   {
    "duration": 3,
    "start_time": "2023-02-10T06:43:17.296Z"
   },
   {
    "duration": 245,
    "start_time": "2023-02-10T06:43:17.301Z"
   },
   {
    "duration": 4,
    "start_time": "2023-02-10T06:43:17.547Z"
   },
   {
    "duration": 73,
    "start_time": "2023-02-10T06:43:17.552Z"
   },
   {
    "duration": 4,
    "start_time": "2023-02-10T06:43:17.629Z"
   },
   {
    "duration": 16,
    "start_time": "2023-02-10T06:43:17.634Z"
   },
   {
    "duration": 88,
    "start_time": "2023-02-10T06:43:17.652Z"
   },
   {
    "duration": 2,
    "start_time": "2023-02-10T06:43:17.742Z"
   },
   {
    "duration": 6,
    "start_time": "2023-02-10T06:43:17.746Z"
   },
   {
    "duration": 45,
    "start_time": "2023-02-10T06:43:17.754Z"
   },
   {
    "duration": 28,
    "start_time": "2023-02-10T06:43:17.801Z"
   },
   {
    "duration": 31,
    "start_time": "2023-02-10T06:43:17.831Z"
   },
   {
    "duration": 864,
    "start_time": "2023-02-10T06:43:17.865Z"
   },
   {
    "duration": 4,
    "start_time": "2023-02-10T06:43:18.730Z"
   },
   {
    "duration": 84,
    "start_time": "2023-02-10T06:43:18.736Z"
   },
   {
    "duration": 205,
    "start_time": "2023-02-10T06:43:18.822Z"
   },
   {
    "duration": 13,
    "start_time": "2023-02-10T06:43:19.029Z"
   },
   {
    "duration": 189,
    "start_time": "2023-02-10T06:43:19.044Z"
   },
   {
    "duration": 1532,
    "start_time": "2023-02-10T06:43:19.235Z"
   },
   {
    "duration": 4,
    "start_time": "2023-02-10T06:43:20.769Z"
   },
   {
    "duration": 215,
    "start_time": "2023-02-10T06:43:20.774Z"
   },
   {
    "duration": 5,
    "start_time": "2023-02-10T06:43:20.990Z"
   },
   {
    "duration": 372,
    "start_time": "2023-02-10T06:43:20.996Z"
   },
   {
    "duration": 392,
    "start_time": "2023-02-10T06:43:31.981Z"
   },
   {
    "duration": 14,
    "start_time": "2023-02-10T06:45:25.728Z"
   },
   {
    "duration": 4,
    "start_time": "2023-02-10T06:47:23.167Z"
   },
   {
    "duration": 626,
    "start_time": "2023-02-10T06:47:25.685Z"
   },
   {
    "duration": 3,
    "start_time": "2023-02-10T06:47:53.263Z"
   },
   {
    "duration": 408,
    "start_time": "2023-02-10T06:47:57.519Z"
   },
   {
    "duration": 4,
    "start_time": "2023-02-10T06:48:23.619Z"
   },
   {
    "duration": 23,
    "start_time": "2023-02-10T06:48:23.625Z"
   },
   {
    "duration": 1039,
    "start_time": "2023-02-10T06:48:23.649Z"
   },
   {
    "duration": 95,
    "start_time": "2023-02-10T06:48:24.689Z"
   },
   {
    "duration": 36,
    "start_time": "2023-02-10T06:48:24.787Z"
   },
   {
    "duration": 21,
    "start_time": "2023-02-10T06:48:24.825Z"
   },
   {
    "duration": 3847,
    "start_time": "2023-02-10T06:48:24.847Z"
   },
   {
    "duration": 1874,
    "start_time": "2023-02-10T06:48:28.696Z"
   },
   {
    "duration": 216,
    "start_time": "2023-02-10T06:48:30.571Z"
   },
   {
    "duration": 6,
    "start_time": "2023-02-10T06:48:30.788Z"
   },
   {
    "duration": 260,
    "start_time": "2023-02-10T06:48:30.796Z"
   },
   {
    "duration": 4,
    "start_time": "2023-02-10T06:48:31.058Z"
   },
   {
    "duration": 90,
    "start_time": "2023-02-10T06:48:31.063Z"
   },
   {
    "duration": 4,
    "start_time": "2023-02-10T06:48:31.157Z"
   },
   {
    "duration": 22,
    "start_time": "2023-02-10T06:48:31.163Z"
   },
   {
    "duration": 89,
    "start_time": "2023-02-10T06:48:31.187Z"
   },
   {
    "duration": 2,
    "start_time": "2023-02-10T06:48:31.278Z"
   },
   {
    "duration": 33,
    "start_time": "2023-02-10T06:48:31.282Z"
   },
   {
    "duration": 42,
    "start_time": "2023-02-10T06:48:31.317Z"
   },
   {
    "duration": 26,
    "start_time": "2023-02-10T06:48:31.361Z"
   },
   {
    "duration": 20,
    "start_time": "2023-02-10T06:48:31.389Z"
   },
   {
    "duration": 982,
    "start_time": "2023-02-10T06:48:31.411Z"
   },
   {
    "duration": 3,
    "start_time": "2023-02-10T06:48:32.395Z"
   },
   {
    "duration": 72,
    "start_time": "2023-02-10T06:48:32.400Z"
   },
   {
    "duration": 212,
    "start_time": "2023-02-10T06:48:32.474Z"
   },
   {
    "duration": 14,
    "start_time": "2023-02-10T06:48:32.688Z"
   },
   {
    "duration": 165,
    "start_time": "2023-02-10T06:48:32.704Z"
   },
   {
    "duration": 1546,
    "start_time": "2023-02-10T06:48:32.871Z"
   },
   {
    "duration": 3,
    "start_time": "2023-02-10T06:48:34.418Z"
   },
   {
    "duration": 213,
    "start_time": "2023-02-10T06:48:34.422Z"
   },
   {
    "duration": 3,
    "start_time": "2023-02-10T06:48:34.637Z"
   },
   {
    "duration": 495,
    "start_time": "2023-02-10T06:48:34.642Z"
   },
   {
    "duration": 13,
    "start_time": "2023-02-10T06:48:35.139Z"
   },
   {
    "duration": 443,
    "start_time": "2023-02-10T06:49:05.048Z"
   },
   {
    "duration": 361,
    "start_time": "2023-02-10T06:49:46.952Z"
   },
   {
    "duration": 17,
    "start_time": "2023-02-10T06:50:01.126Z"
   },
   {
    "duration": 453,
    "start_time": "2023-02-10T06:50:28.105Z"
   },
   {
    "duration": 121,
    "start_time": "2023-02-10T06:53:08.015Z"
   },
   {
    "duration": 67,
    "start_time": "2023-02-10T06:53:19.134Z"
   },
   {
    "duration": 37,
    "start_time": "2023-02-10T06:53:22.727Z"
   },
   {
    "duration": 285,
    "start_time": "2023-02-10T06:53:55.848Z"
   },
   {
    "duration": 14,
    "start_time": "2023-02-10T06:54:36.552Z"
   },
   {
    "duration": 14,
    "start_time": "2023-02-10T06:59:52.568Z"
   },
   {
    "duration": 521,
    "start_time": "2023-02-10T06:59:55.954Z"
   },
   {
    "duration": 62,
    "start_time": "2023-02-10T07:00:13.168Z"
   },
   {
    "duration": 18,
    "start_time": "2023-02-10T07:01:54.128Z"
   },
   {
    "duration": 346,
    "start_time": "2023-02-10T07:02:25.657Z"
   },
   {
    "duration": 19,
    "start_time": "2023-02-10T07:02:33.069Z"
   },
   {
    "duration": 58,
    "start_time": "2023-02-10T07:03:23.353Z"
   },
   {
    "duration": 17,
    "start_time": "2023-02-10T07:03:56.832Z"
   },
   {
    "duration": 9,
    "start_time": "2023-02-10T07:03:58.905Z"
   },
   {
    "duration": 59,
    "start_time": "2023-02-10T07:04:01.528Z"
   },
   {
    "duration": 35,
    "start_time": "2023-02-10T07:04:04.344Z"
   },
   {
    "duration": 20,
    "start_time": "2023-02-10T07:04:07.280Z"
   },
   {
    "duration": 6,
    "start_time": "2023-02-10T07:04:09.952Z"
   },
   {
    "duration": 21,
    "start_time": "2023-02-10T07:04:14.024Z"
   },
   {
    "duration": 6,
    "start_time": "2023-02-10T07:04:16.776Z"
   },
   {
    "duration": 4,
    "start_time": "2023-02-10T07:06:25.913Z"
   },
   {
    "duration": 3,
    "start_time": "2023-02-10T07:09:26.330Z"
   },
   {
    "duration": 4,
    "start_time": "2023-02-10T07:09:29.089Z"
   },
   {
    "duration": 4,
    "start_time": "2023-02-10T07:09:51.330Z"
   },
   {
    "duration": 388221,
    "start_time": "2023-02-10T07:09:57.536Z"
   },
   {
    "duration": 0,
    "start_time": "2023-02-10T07:16:25.759Z"
   },
   {
    "duration": 4,
    "start_time": "2023-02-10T07:16:49.420Z"
   },
   {
    "duration": 3,
    "start_time": "2023-02-10T07:17:05.332Z"
   },
   {
    "duration": 432,
    "start_time": "2023-02-10T07:17:07.356Z"
   },
   {
    "duration": 2,
    "start_time": "2023-02-10T07:17:39.989Z"
   },
   {
    "duration": 3,
    "start_time": "2023-02-10T07:17:47.243Z"
   },
   {
    "duration": 60865,
    "start_time": "2023-02-10T07:17:49.284Z"
   },
   {
    "duration": 3,
    "start_time": "2023-02-10T07:26:12.070Z"
   },
   {
    "duration": 2,
    "start_time": "2023-02-10T07:32:31.472Z"
   },
   {
    "duration": 3,
    "start_time": "2023-02-10T07:34:37.577Z"
   },
   {
    "duration": 32,
    "start_time": "2023-02-10T07:35:00.385Z"
   },
   {
    "duration": 31,
    "start_time": "2023-02-10T07:35:25.641Z"
   },
   {
    "duration": 3,
    "start_time": "2023-02-10T07:35:50.377Z"
   },
   {
    "duration": 3,
    "start_time": "2023-02-10T07:35:53.464Z"
   },
   {
    "duration": 42,
    "start_time": "2023-02-10T07:35:56.648Z"
   },
   {
    "duration": 3,
    "start_time": "2023-02-10T07:37:07.656Z"
   },
   {
    "duration": 100854,
    "start_time": "2023-02-10T07:37:09.713Z"
   },
   {
    "duration": 0,
    "start_time": "2023-02-10T07:38:50.569Z"
   },
   {
    "duration": 3,
    "start_time": "2023-02-10T07:38:52.873Z"
   },
   {
    "duration": 394984,
    "start_time": "2023-02-10T07:38:55.562Z"
   },
   {
    "duration": 4,
    "start_time": "2023-02-10T07:47:01.400Z"
   },
   {
    "duration": 5,
    "start_time": "2023-02-10T07:47:27.930Z"
   },
   {
    "duration": 3,
    "start_time": "2023-02-10T07:47:50.674Z"
   },
   {
    "duration": 4,
    "start_time": "2023-02-10T07:48:10.203Z"
   },
   {
    "duration": 310,
    "start_time": "2023-02-10T07:50:04.580Z"
   },
   {
    "duration": 3650,
    "start_time": "2023-02-10T07:50:26.975Z"
   },
   {
    "duration": 3460,
    "start_time": "2023-02-10T07:50:48.380Z"
   },
   {
    "duration": 1582,
    "start_time": "2023-02-10T07:51:02.420Z"
   },
   {
    "duration": 25781,
    "start_time": "2023-02-10T07:54:45.116Z"
   },
   {
    "duration": 3441,
    "start_time": "2023-02-10T07:55:16.205Z"
   },
   {
    "duration": 1527,
    "start_time": "2023-02-10T07:55:28.620Z"
   },
   {
    "duration": 3,
    "start_time": "2023-02-10T07:57:24.886Z"
   },
   {
    "duration": 904918,
    "start_time": "2023-02-10T07:57:27.398Z"
   },
   {
    "duration": 5019,
    "start_time": "2023-02-10T08:14:36.485Z"
   },
   {
    "duration": 4,
    "start_time": "2023-02-10T08:14:46.795Z"
   },
   {
    "duration": 6,
    "start_time": "2023-02-10T08:14:59.770Z"
   },
   {
    "duration": 73106,
    "start_time": "2023-02-10T08:19:19.642Z"
   },
   {
    "duration": 1114758,
    "start_time": "2023-02-10T08:22:09.661Z"
   },
   {
    "duration": 329156,
    "start_time": "2023-02-10T08:41:04.681Z"
   },
   {
    "duration": 5,
    "start_time": "2023-02-10T08:46:45.821Z"
   },
   {
    "duration": 323340,
    "start_time": "2023-02-10T08:46:55.980Z"
   },
   {
    "duration": 447914,
    "start_time": "2023-02-10T08:53:28.044Z"
   },
   {
    "duration": 20,
    "start_time": "2023-02-10T09:00:55.973Z"
   },
   {
    "duration": 197,
    "start_time": "2023-02-10T09:00:55.994Z"
   },
   {
    "duration": 7,
    "start_time": "2023-02-10T09:01:51.262Z"
   },
   {
    "duration": 14,
    "start_time": "2023-02-10T09:02:29.974Z"
   },
   {
    "duration": 1166,
    "start_time": "2023-02-10T09:02:42.790Z"
   },
   {
    "duration": 22,
    "start_time": "2023-02-10T09:03:52.739Z"
   },
   {
    "duration": 14,
    "start_time": "2023-02-10T09:05:52.323Z"
   },
   {
    "duration": 3,
    "start_time": "2023-02-10T09:05:57.434Z"
   },
   {
    "duration": 1212,
    "start_time": "2023-02-10T09:06:00.446Z"
   },
   {
    "duration": 553,
    "start_time": "2023-02-10T09:06:16.215Z"
   },
   {
    "duration": 11,
    "start_time": "2023-02-10T09:12:40.039Z"
   },
   {
    "duration": 390623,
    "start_time": "2023-02-10T09:13:01.983Z"
   },
   {
    "duration": 129,
    "start_time": "2023-02-10T09:20:10.327Z"
   },
   {
    "duration": 13,
    "start_time": "2023-02-10T09:20:30.090Z"
   },
   {
    "duration": 34046,
    "start_time": "2023-02-10T09:20:33.889Z"
   },
   {
    "duration": 4,
    "start_time": "2023-02-10T09:21:09.623Z"
   },
   {
    "duration": 41621,
    "start_time": "2023-02-10T09:21:12.314Z"
   },
   {
    "duration": 748,
    "start_time": "2023-02-10T09:22:37.967Z"
   },
   {
    "duration": 425,
    "start_time": "2023-02-10T09:22:57.924Z"
   },
   {
    "duration": 4,
    "start_time": "2023-02-10T09:25:58.059Z"
   },
   {
    "duration": 607,
    "start_time": "2023-02-10T09:26:01.083Z"
   },
   {
    "duration": 10,
    "start_time": "2023-02-10T09:26:25.918Z"
   },
   {
    "duration": 76574,
    "start_time": "2023-02-10T09:26:28.371Z"
   },
   {
    "duration": 470,
    "start_time": "2023-02-10T09:27:44.958Z"
   },
   {
    "duration": 3,
    "start_time": "2023-02-10T09:34:48.284Z"
   },
   {
    "duration": 3,
    "start_time": "2023-02-10T09:36:20.157Z"
   },
   {
    "duration": 1392001,
    "start_time": "2023-02-10T09:36:41.133Z"
   },
   {
    "duration": 3,
    "start_time": "2023-02-10T09:59:59.363Z"
   },
   {
    "duration": 6947,
    "start_time": "2023-02-10T10:00:01.770Z"
   }
  ],
  "kernelspec": {
   "display_name": "Python 3 (ipykernel)",
   "language": "python",
   "name": "python3"
  },
  "language_info": {
   "codemirror_mode": {
    "name": "ipython",
    "version": 3
   },
   "file_extension": ".py",
   "mimetype": "text/x-python",
   "name": "python",
   "nbconvert_exporter": "python",
   "pygments_lexer": "ipython3",
   "version": "3.9.16"
  },
  "toc": {
   "base_numbering": 1,
   "nav_menu": {},
   "number_sections": true,
   "sideBar": true,
   "skip_h1_title": true,
   "title_cell": "Table of Contents",
   "title_sidebar": "Contents",
   "toc_cell": false,
   "toc_position": {},
   "toc_section_display": true,
   "toc_window_display": false
  }
 },
 "nbformat": 4,
 "nbformat_minor": 4
}
